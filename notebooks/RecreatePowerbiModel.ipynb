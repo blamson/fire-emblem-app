{
 "cells": [
  {
   "cell_type": "markdown",
   "id": "b70b5bbc-30e0-4ba7-946a-f0cb8dceb22f",
   "metadata": {},
   "source": [
    "Date Began: May 20, 2024\n",
    "\n",
    "The goal here is to do a lot of cleaning and model building that's annoying to do in PowerBI desktop in python. I have a better idea of how I want my semantic model to look and it's easier to just clean this all up here. \n",
    "\n",
    "We'll also be doing all of this using `Polars` as I've never used it before!\n",
    "\n",
    "# Data Loading"
   ]
  },
  {
   "cell_type": "code",
   "execution_count": 1,
   "id": "b41ff768-5e08-4e65-9054-e4a4f0e6e6e7",
   "metadata": {},
   "outputs": [],
   "source": [
    "import polars as pl"
   ]
  },
  {
   "cell_type": "code",
   "execution_count": 2,
   "id": "b8345216-f394-4c1b-a127-403266360417",
   "metadata": {},
   "outputs": [
    {
     "data": {
      "text/plain": [
       "{'Characters': shape: (43, 3)\n",
       " ┌──────────┬───────────────────┬─────┐\n",
       " │ Name     ┆ Game              ┆ ID  │\n",
       " │ ---      ┆ ---               ┆ --- │\n",
       " │ str      ┆ str               ┆ i64 │\n",
       " ╞══════════╪═══════════════════╪═════╡\n",
       " │ Amelia   ┆ the-sacred-stones ┆ 0   │\n",
       " │ Artur    ┆ the-sacred-stones ┆ 1   │\n",
       " │ Caellach ┆ the-sacred-stones ┆ 2   │\n",
       " │ Colm     ┆ the-sacred-stones ┆ 3   │\n",
       " │ Cormag   ┆ the-sacred-stones ┆ 4   │\n",
       " │ …        ┆ …                 ┆ …   │\n",
       " │ Syrene   ┆ the-sacred-stones ┆ 38  │\n",
       " │ Tana     ┆ the-sacred-stones ┆ 39  │\n",
       " │ Tethys   ┆ the-sacred-stones ┆ 40  │\n",
       " │ Valter   ┆ the-sacred-stones ┆ 41  │\n",
       " │ Vanessa  ┆ the-sacred-stones ┆ 42  │\n",
       " └──────────┴───────────────────┴─────┘,\n",
       " 'Weapons': shape: (61, 4)\n",
       " ┌──────────┬───────────────────┬──────┬────────┐\n",
       " │ Name     ┆ creature_campaign ┆ Rank ┆ Weapon │\n",
       " │ ---      ┆ ---               ┆ ---  ┆ ---    │\n",
       " │ str      ┆ bool              ┆ str  ┆ str    │\n",
       " ╞══════════╪═══════════════════╪══════╪════════╡\n",
       " │ Amelia   ┆ false             ┆ E    ┆ Lance  │\n",
       " │ Artur    ┆ false             ┆ E    ┆ Light  │\n",
       " │ Caellach ┆ true              ┆ A    ┆ Sword  │\n",
       " │ Caellach ┆ true              ┆ A    ┆ Axe    │\n",
       " │ Colm     ┆ false             ┆ E    ┆ Sword  │\n",
       " │ …        ┆ …                 ┆ …    ┆ …      │\n",
       " │ Syrene   ┆ false             ┆ C    ┆ Sword  │\n",
       " │ Syrene   ┆ false             ┆ A    ┆ Lance  │\n",
       " │ Tana     ┆ false             ┆ D    ┆ Lance  │\n",
       " │ Valter   ┆ true              ┆ S    ┆ Lance  │\n",
       " │ Vanessa  ┆ false             ┆ D    ┆ Lance  │\n",
       " └──────────┴───────────────────┴──────┴────────┘,\n",
       " 'BasesWide': shape: (44, 9)\n",
       " ┌──────────┬─────┬───────┬───────┬───┬──────┬─────────┬────────────┬───────────────────┐\n",
       " │ Name     ┆ HP  ┆ Power ┆ Skill ┆ … ┆ Luck ┆ Defense ┆ Resistance ┆ creature_campaign │\n",
       " │ ---      ┆ --- ┆ ---   ┆ ---   ┆   ┆ ---  ┆ ---     ┆ ---        ┆ ---               │\n",
       " │ str      ┆ i64 ┆ i64   ┆ i64   ┆   ┆ i64  ┆ i64     ┆ i64        ┆ bool              │\n",
       " ╞══════════╪═════╪═══════╪═══════╪═══╪══════╪═════════╪════════════╪═══════════════════╡\n",
       " │ Amelia   ┆ 16  ┆ 4     ┆ 3     ┆ … ┆ 6    ┆ 2       ┆ 3          ┆ false             │\n",
       " │ Artur    ┆ 19  ┆ 6     ┆ 6     ┆ … ┆ 2    ┆ 2       ┆ 6          ┆ false             │\n",
       " │ Caellach ┆ 47  ┆ 19    ┆ 14    ┆ … ┆ 14   ┆ 15      ┆ 13         ┆ true              │\n",
       " │ Colm     ┆ 18  ┆ 4     ┆ 4     ┆ … ┆ 8    ┆ 3       ┆ 1          ┆ false             │\n",
       " │ Cormag   ┆ 30  ┆ 14    ┆ 9     ┆ … ┆ 4    ┆ 12      ┆ 2          ┆ false             │\n",
       " │ …        ┆ …   ┆ …     ┆ …     ┆ … ┆ …    ┆ …       ┆ …          ┆ …                 │\n",
       " │ Syrene   ┆ 27  ┆ 12    ┆ 13    ┆ … ┆ 12   ┆ 10      ┆ 12         ┆ false             │\n",
       " │ Tana     ┆ 20  ┆ 7     ┆ 9     ┆ … ┆ 8    ┆ 6       ┆ 7          ┆ false             │\n",
       " │ Tethys   ┆ 18  ┆ 1     ┆ 2     ┆ … ┆ 10   ┆ 5       ┆ 4          ┆ false             │\n",
       " │ Valter   ┆ 45  ┆ 19    ┆ 17    ┆ … ┆ 3    ┆ 13      ┆ 12         ┆ true              │\n",
       " │ Vanessa  ┆ 17  ┆ 5     ┆ 7     ┆ … ┆ 4    ┆ 6       ┆ 5          ┆ false             │\n",
       " └──────────┴─────┴───────┴───────┴───┴──────┴─────────┴────────────┴───────────────────┘,\n",
       " 'GrowthsWide': shape: (44, 10)\n",
       " ┌──────────┬─────┬───────┬───────┬───┬─────────┬────────────┬───────────────────┬──────────────────┐\n",
       " │ Name     ┆ HP  ┆ Power ┆ Skill ┆ … ┆ Defense ┆ Resistance ┆ Game              ┆ creature_campaig │\n",
       " │ ---      ┆ --- ┆ ---   ┆ ---   ┆   ┆ ---     ┆ ---        ┆ ---               ┆ n                │\n",
       " │ str      ┆ i64 ┆ i64   ┆ i64   ┆   ┆ i64     ┆ i64        ┆ str               ┆ ---              │\n",
       " │          ┆     ┆       ┆       ┆   ┆         ┆            ┆                   ┆ bool             │\n",
       " ╞══════════╪═════╪═══════╪═══════╪═══╪═════════╪════════════╪═══════════════════╪══════════════════╡\n",
       " │ Amelia   ┆ 60  ┆ 35    ┆ 40    ┆ … ┆ 30      ┆ 15         ┆ the-sacred-stones ┆ false            │\n",
       " │ Artur    ┆ 55  ┆ 50    ┆ 50    ┆ … ┆ 15      ┆ 55         ┆ the-sacred-stones ┆ false            │\n",
       " │ Caellach ┆ 85  ┆ 50    ┆ 45    ┆ … ┆ 30      ┆ 20         ┆ the-sacred-stones ┆ true             │\n",
       " │ Colm     ┆ 75  ┆ 40    ┆ 40    ┆ … ┆ 25      ┆ 20         ┆ the-sacred-stones ┆ false            │\n",
       " │ Cormag   ┆ 85  ┆ 55    ┆ 40    ┆ … ┆ 25      ┆ 15         ┆ the-sacred-stones ┆ false            │\n",
       " │ …        ┆ …   ┆ …     ┆ …     ┆ … ┆ …       ┆ …          ┆ …                 ┆ …                │\n",
       " │ Syrene   ┆ 70  ┆ 40    ┆ 50    ┆ … ┆ 20      ┆ 50         ┆ the-sacred-stones ┆ false            │\n",
       " │ Tana     ┆ 65  ┆ 45    ┆ 40    ┆ … ┆ 20      ┆ 25         ┆ the-sacred-stones ┆ false            │\n",
       " │ Tethys   ┆ 85  ┆ 5     ┆ 10    ┆ … ┆ 30      ┆ 75         ┆ the-sacred-stones ┆ false            │\n",
       " │ Valter   ┆ 80  ┆ 40    ┆ 55    ┆ … ┆ 20      ┆ 20         ┆ the-sacred-stones ┆ true             │\n",
       " │ Vanessa  ┆ 50  ┆ 35    ┆ 55    ┆ … ┆ 20      ┆ 30         ┆ the-sacred-stones ┆ false            │\n",
       " └──────────┴─────┴───────┴───────┴───┴─────────┴────────────┴───────────────────┴──────────────────┘,\n",
       " 'StatsCombined': shape: (308, 5)\n",
       " ┌─────────┬────────────────┬────────────┬───────────┬─────────────┐\n",
       " │ Name    ┆ BonusCharacter ┆ Attribute  ┆ BaseValue ┆ GrowthValue │\n",
       " │ ---     ┆ ---            ┆ ---        ┆ ---       ┆ ---         │\n",
       " │ str     ┆ bool           ┆ str        ┆ i64       ┆ i64         │\n",
       " ╞═════════╪════════════════╪════════════╪═══════════╪═════════════╡\n",
       " │ Amelia  ┆ false          ┆ HP         ┆ 16        ┆ 60          │\n",
       " │ Amelia  ┆ false          ┆ Power      ┆ 4         ┆ 35          │\n",
       " │ Amelia  ┆ false          ┆ Skill      ┆ 3         ┆ 40          │\n",
       " │ Amelia  ┆ false          ┆ Speed      ┆ 4         ┆ 40          │\n",
       " │ Amelia  ┆ false          ┆ Luck       ┆ 6         ┆ 50          │\n",
       " │ …       ┆ …              ┆ …          ┆ …         ┆ …           │\n",
       " │ Vanessa ┆ false          ┆ Skill      ┆ 7         ┆ 55          │\n",
       " │ Vanessa ┆ false          ┆ Speed      ┆ 11        ┆ 60          │\n",
       " │ Vanessa ┆ false          ┆ Luck       ┆ 4         ┆ 50          │\n",
       " │ Vanessa ┆ false          ┆ Defense    ┆ 6         ┆ 20          │\n",
       " │ Vanessa ┆ false          ┆ Resistance ┆ 5         ┆ 30          │\n",
       " └─────────┴────────────────┴────────────┴───────────┴─────────────┘,\n",
       " 'Campaigns': shape: (8, 3)\n",
       " ┌─────┬───────────────────┬───────────────────┐\n",
       " │ ID  ┆ Game              ┆ Campaign          │\n",
       " │ --- ┆ ---               ┆ ---               │\n",
       " │ i64 ┆ str               ┆ str               │\n",
       " ╞═════╪═══════════════════╪═══════════════════╡\n",
       " │ 0   ┆ the-binding-blade ┆ normal            │\n",
       " │ 1   ┆ the-binding-blade ┆ hard              │\n",
       " │ 2   ┆ the-binding-blade ┆ bonus             │\n",
       " │ 3   ┆ the-blazing-sword ┆ lyn               │\n",
       " │ 4   ┆ the-blazing-sword ┆ eliwood           │\n",
       " │ 5   ┆ the-blazing-sword ┆ hector hard mode  │\n",
       " │ 6   ┆ the-sacred-stones ┆ normal            │\n",
       " │ 7   ┆ the-sacred-stones ┆ creature campaign │\n",
       " └─────┴───────────────────┴───────────────────┘}"
      ]
     },
     "execution_count": 2,
     "metadata": {},
     "output_type": "execute_result"
    }
   ],
   "source": [
    "data = pl.read_excel(\n",
    "    source=\"../data/powerbi_exports/FireEmblemData05202024.xlsx\",\n",
    "    sheet_id=0 # This loads in all of the sheets at once\n",
    ")\n",
    "\n",
    "data"
   ]
  },
  {
   "cell_type": "code",
   "execution_count": 3,
   "id": "03507438-6f0e-4dc8-b5ba-ff44539a0a15",
   "metadata": {},
   "outputs": [
    {
     "data": {
      "text/plain": [
       "['Characters',\n",
       " 'Weapons',\n",
       " 'BasesWide',\n",
       " 'GrowthsWide',\n",
       " 'StatsCombined',\n",
       " 'Campaigns']"
      ]
     },
     "execution_count": 3,
     "metadata": {},
     "output_type": "execute_result"
    }
   ],
   "source": [
    "# This is mostly just a quick reference for me, idk if I'll really use this object.\n",
    "\n",
    "table_names = list(data.keys())\n",
    "table_names"
   ]
  },
  {
   "cell_type": "markdown",
   "id": "e805f4c7-6895-43b2-94fd-9907e864e40e",
   "metadata": {},
   "source": [
    "# Change \"creature_campaign\" to fit new Campaign table format.\n",
    "\n",
    "Overview here: We don't have many tables that actually need this value, so we can just remove the variable from those. For the remaining, we'll create a new \"campaignid\" variable and go from there.\n",
    "\n",
    "## Remove columns where its redundant data\n",
    "\n",
    "In this case weapon ranks and growths are totally unrelated to creature campaign so we can just remove this column. This decision will also scale to FE6 and FE7 as these stats aren't affected by hard mode bonuses."
   ]
  },
  {
   "cell_type": "code",
   "execution_count": 4,
   "id": "7781184c-9d9e-46f3-b262-d42a022e2b39",
   "metadata": {},
   "outputs": [
    {
     "data": {
      "text/html": [
       "<div><style>\n",
       ".dataframe > thead > tr,\n",
       ".dataframe > tbody > tr {\n",
       "  text-align: right;\n",
       "  white-space: pre-wrap;\n",
       "}\n",
       "</style>\n",
       "<small>shape: (43, 9)</small><table border=\"1\" class=\"dataframe\"><thead><tr><th>Name</th><th>HP</th><th>Power</th><th>Skill</th><th>Speed</th><th>Luck</th><th>Defense</th><th>Resistance</th><th>Game</th></tr><tr><td>str</td><td>i64</td><td>i64</td><td>i64</td><td>i64</td><td>i64</td><td>i64</td><td>i64</td><td>str</td></tr></thead><tbody><tr><td>&quot;Syrene&quot;</td><td>70</td><td>40</td><td>50</td><td>60</td><td>30</td><td>20</td><td>50</td><td>&quot;the-sacred-stones&quot;</td></tr><tr><td>&quot;Joshua&quot;</td><td>80</td><td>35</td><td>55</td><td>55</td><td>30</td><td>20</td><td>20</td><td>&quot;the-sacred-stones&quot;</td></tr><tr><td>&quot;Knoll&quot;</td><td>70</td><td>50</td><td>40</td><td>35</td><td>20</td><td>10</td><td>45</td><td>&quot;the-sacred-stones&quot;</td></tr><tr><td>&quot;Lyon&quot;</td><td>85</td><td>50</td><td>55</td><td>55</td><td>30</td><td>45</td><td>55</td><td>&quot;the-sacred-stones&quot;</td></tr><tr><td>&quot;Ewan&quot;</td><td>50</td><td>45</td><td>40</td><td>35</td><td>50</td><td>15</td><td>40</td><td>&quot;the-sacred-stones&quot;</td></tr><tr><td>&hellip;</td><td>&hellip;</td><td>&hellip;</td><td>&hellip;</td><td>&hellip;</td><td>&hellip;</td><td>&hellip;</td><td>&hellip;</td><td>&hellip;</td></tr><tr><td>&quot;Ephraim&quot;</td><td>80</td><td>55</td><td>55</td><td>45</td><td>50</td><td>35</td><td>25</td><td>&quot;the-sacred-stones&quot;</td></tr><tr><td>&quot;Riev&quot;</td><td>75</td><td>45</td><td>50</td><td>40</td><td>15</td><td>20</td><td>45</td><td>&quot;the-sacred-stones&quot;</td></tr><tr><td>&quot;Rennac&quot;</td><td>65</td><td>25</td><td>45</td><td>60</td><td>25</td><td>25</td><td>30</td><td>&quot;the-sacred-stones&quot;</td></tr><tr><td>&quot;Orson&quot;</td><td>80</td><td>55</td><td>45</td><td>40</td><td>25</td><td>45</td><td>30</td><td>&quot;the-sacred-stones&quot;</td></tr><tr><td>&quot;Selena&quot;</td><td>85</td><td>40</td><td>55</td><td>40</td><td>25</td><td>20</td><td>30</td><td>&quot;the-sacred-stones&quot;</td></tr></tbody></table></div>"
      ],
      "text/plain": [
       "shape: (43, 9)\n",
       "┌─────────┬─────┬───────┬───────┬───┬──────┬─────────┬────────────┬───────────────────┐\n",
       "│ Name    ┆ HP  ┆ Power ┆ Skill ┆ … ┆ Luck ┆ Defense ┆ Resistance ┆ Game              │\n",
       "│ ---     ┆ --- ┆ ---   ┆ ---   ┆   ┆ ---  ┆ ---     ┆ ---        ┆ ---               │\n",
       "│ str     ┆ i64 ┆ i64   ┆ i64   ┆   ┆ i64  ┆ i64     ┆ i64        ┆ str               │\n",
       "╞═════════╪═════╪═══════╪═══════╪═══╪══════╪═════════╪════════════╪═══════════════════╡\n",
       "│ Syrene  ┆ 70  ┆ 40    ┆ 50    ┆ … ┆ 30   ┆ 20      ┆ 50         ┆ the-sacred-stones │\n",
       "│ Joshua  ┆ 80  ┆ 35    ┆ 55    ┆ … ┆ 30   ┆ 20      ┆ 20         ┆ the-sacred-stones │\n",
       "│ Knoll   ┆ 70  ┆ 50    ┆ 40    ┆ … ┆ 20   ┆ 10      ┆ 45         ┆ the-sacred-stones │\n",
       "│ Lyon    ┆ 85  ┆ 50    ┆ 55    ┆ … ┆ 30   ┆ 45      ┆ 55         ┆ the-sacred-stones │\n",
       "│ Ewan    ┆ 50  ┆ 45    ┆ 40    ┆ … ┆ 50   ┆ 15      ┆ 40         ┆ the-sacred-stones │\n",
       "│ …       ┆ …   ┆ …     ┆ …     ┆ … ┆ …    ┆ …       ┆ …          ┆ …                 │\n",
       "│ Ephraim ┆ 80  ┆ 55    ┆ 55    ┆ … ┆ 50   ┆ 35      ┆ 25         ┆ the-sacred-stones │\n",
       "│ Riev    ┆ 75  ┆ 45    ┆ 50    ┆ … ┆ 15   ┆ 20      ┆ 45         ┆ the-sacred-stones │\n",
       "│ Rennac  ┆ 65  ┆ 25    ┆ 45    ┆ … ┆ 25   ┆ 25      ┆ 30         ┆ the-sacred-stones │\n",
       "│ Orson   ┆ 80  ┆ 55    ┆ 45    ┆ … ┆ 25   ┆ 45      ┆ 30         ┆ the-sacred-stones │\n",
       "│ Selena  ┆ 85  ┆ 40    ┆ 55    ┆ … ┆ 25   ┆ 20      ┆ 30         ┆ the-sacred-stones │\n",
       "└─────────┴─────┴───────┴───────┴───┴──────┴─────────┴────────────┴───────────────────┘"
      ]
     },
     "metadata": {},
     "output_type": "display_data"
    },
    {
     "data": {
      "text/html": [
       "<div><style>\n",
       ".dataframe > thead > tr,\n",
       ".dataframe > tbody > tr {\n",
       "  text-align: right;\n",
       "  white-space: pre-wrap;\n",
       "}\n",
       "</style>\n",
       "<small>shape: (59, 3)</small><table border=\"1\" class=\"dataframe\"><thead><tr><th>Name</th><th>Rank</th><th>Weapon</th></tr><tr><td>str</td><td>str</td><td>str</td></tr></thead><tbody><tr><td>&quot;Dozla&quot;</td><td>&quot;B&quot;</td><td>&quot;Axe&quot;</td></tr><tr><td>&quot;Moulder&quot;</td><td>&quot;C&quot;</td><td>&quot;Staff&quot;</td></tr><tr><td>&quot;Seth&quot;</td><td>&quot;A&quot;</td><td>&quot;Lance&quot;</td></tr><tr><td>&quot;Fado&quot;</td><td>&quot;A&quot;</td><td>&quot;Sword&quot;</td></tr><tr><td>&quot;Kyle&quot;</td><td>&quot;C&quot;</td><td>&quot;Lance&quot;</td></tr><tr><td>&hellip;</td><td>&hellip;</td><td>&hellip;</td></tr><tr><td>&quot;Eirika&quot;</td><td>&quot;E&quot;</td><td>&quot;Sword&quot;</td></tr><tr><td>&quot;Tana&quot;</td><td>&quot;D&quot;</td><td>&quot;Lance&quot;</td></tr><tr><td>&quot;Neimi&quot;</td><td>&quot;D&quot;</td><td>&quot;Bow&quot;</td></tr><tr><td>&quot;Duessel&quot;</td><td>&quot;A&quot;</td><td>&quot;Sword&quot;</td></tr><tr><td>&quot;Ewan&quot;</td><td>&quot;E&quot;</td><td>&quot;Anima&quot;</td></tr></tbody></table></div>"
      ],
      "text/plain": [
       "shape: (59, 3)\n",
       "┌─────────┬──────┬────────┐\n",
       "│ Name    ┆ Rank ┆ Weapon │\n",
       "│ ---     ┆ ---  ┆ ---    │\n",
       "│ str     ┆ str  ┆ str    │\n",
       "╞═════════╪══════╪════════╡\n",
       "│ Dozla   ┆ B    ┆ Axe    │\n",
       "│ Moulder ┆ C    ┆ Staff  │\n",
       "│ Seth    ┆ A    ┆ Lance  │\n",
       "│ Fado    ┆ A    ┆ Sword  │\n",
       "│ Kyle    ┆ C    ┆ Lance  │\n",
       "│ …       ┆ …    ┆ …      │\n",
       "│ Eirika  ┆ E    ┆ Sword  │\n",
       "│ Tana    ┆ D    ┆ Lance  │\n",
       "│ Neimi   ┆ D    ┆ Bow    │\n",
       "│ Duessel ┆ A    ┆ Sword  │\n",
       "│ Ewan    ┆ E    ┆ Anima  │\n",
       "└─────────┴──────┴────────┘"
      ]
     },
     "metadata": {},
     "output_type": "display_data"
    }
   ],
   "source": [
    "tables_to_drop_cc = [\"GrowthsWide\", \"Weapons\"]\n",
    "for table in tables_to_drop_cc:\n",
    "    data[table] = (\n",
    "        data[table]\n",
    "        .drop(\"creature_campaign\")\n",
    "        .unique()\n",
    "    )\n",
    "    display(data[table])"
   ]
  },
  {
   "cell_type": "markdown",
   "id": "660ac172-70e7-4f2b-89eb-a65c5cc44327",
   "metadata": {},
   "source": [
    "## Create campaign variable and clean up dataframes"
   ]
  },
  {
   "cell_type": "code",
   "execution_count": 7,
   "id": "4c9c164e-68bd-4764-b2fd-95905b939b15",
   "metadata": {},
   "outputs": [
    {
     "data": {
      "text/html": [
       "<div><style>\n",
       ".dataframe > thead > tr,\n",
       ".dataframe > tbody > tr {\n",
       "  text-align: right;\n",
       "  white-space: pre-wrap;\n",
       "}\n",
       "</style>\n",
       "<small>shape: (44, 9)</small><table border=\"1\" class=\"dataframe\"><thead><tr><th>Name</th><th>HP</th><th>Power</th><th>Skill</th><th>Speed</th><th>Luck</th><th>Defense</th><th>Resistance</th><th>CampaignID</th></tr><tr><td>str</td><td>i64</td><td>i64</td><td>i64</td><td>i64</td><td>i64</td><td>i64</td><td>i64</td><td>i32</td></tr></thead><tbody><tr><td>&quot;Amelia&quot;</td><td>16</td><td>4</td><td>3</td><td>4</td><td>6</td><td>2</td><td>3</td><td>6</td></tr><tr><td>&quot;Artur&quot;</td><td>19</td><td>6</td><td>6</td><td>8</td><td>2</td><td>2</td><td>6</td><td>6</td></tr><tr><td>&quot;Caellach&quot;</td><td>47</td><td>19</td><td>14</td><td>13</td><td>14</td><td>15</td><td>13</td><td>7</td></tr><tr><td>&quot;Colm&quot;</td><td>18</td><td>4</td><td>4</td><td>10</td><td>8</td><td>3</td><td>1</td><td>6</td></tr><tr><td>&quot;Cormag&quot;</td><td>30</td><td>14</td><td>9</td><td>10</td><td>4</td><td>12</td><td>2</td><td>6</td></tr><tr><td>&hellip;</td><td>&hellip;</td><td>&hellip;</td><td>&hellip;</td><td>&hellip;</td><td>&hellip;</td><td>&hellip;</td><td>&hellip;</td><td>&hellip;</td></tr><tr><td>&quot;Syrene&quot;</td><td>27</td><td>12</td><td>13</td><td>15</td><td>12</td><td>10</td><td>12</td><td>6</td></tr><tr><td>&quot;Tana&quot;</td><td>20</td><td>7</td><td>9</td><td>13</td><td>8</td><td>6</td><td>7</td><td>6</td></tr><tr><td>&quot;Tethys&quot;</td><td>18</td><td>1</td><td>2</td><td>12</td><td>10</td><td>5</td><td>4</td><td>6</td></tr><tr><td>&quot;Valter&quot;</td><td>45</td><td>19</td><td>17</td><td>17</td><td>3</td><td>13</td><td>12</td><td>7</td></tr><tr><td>&quot;Vanessa&quot;</td><td>17</td><td>5</td><td>7</td><td>11</td><td>4</td><td>6</td><td>5</td><td>6</td></tr></tbody></table></div>"
      ],
      "text/plain": [
       "shape: (44, 9)\n",
       "┌──────────┬─────┬───────┬───────┬───┬──────┬─────────┬────────────┬────────────┐\n",
       "│ Name     ┆ HP  ┆ Power ┆ Skill ┆ … ┆ Luck ┆ Defense ┆ Resistance ┆ CampaignID │\n",
       "│ ---      ┆ --- ┆ ---   ┆ ---   ┆   ┆ ---  ┆ ---     ┆ ---        ┆ ---        │\n",
       "│ str      ┆ i64 ┆ i64   ┆ i64   ┆   ┆ i64  ┆ i64     ┆ i64        ┆ i32        │\n",
       "╞══════════╪═════╪═══════╪═══════╪═══╪══════╪═════════╪════════════╪════════════╡\n",
       "│ Amelia   ┆ 16  ┆ 4     ┆ 3     ┆ … ┆ 6    ┆ 2       ┆ 3          ┆ 6          │\n",
       "│ Artur    ┆ 19  ┆ 6     ┆ 6     ┆ … ┆ 2    ┆ 2       ┆ 6          ┆ 6          │\n",
       "│ Caellach ┆ 47  ┆ 19    ┆ 14    ┆ … ┆ 14   ┆ 15      ┆ 13         ┆ 7          │\n",
       "│ Colm     ┆ 18  ┆ 4     ┆ 4     ┆ … ┆ 8    ┆ 3       ┆ 1          ┆ 6          │\n",
       "│ Cormag   ┆ 30  ┆ 14    ┆ 9     ┆ … ┆ 4    ┆ 12      ┆ 2          ┆ 6          │\n",
       "│ …        ┆ …   ┆ …     ┆ …     ┆ … ┆ …    ┆ …       ┆ …          ┆ …          │\n",
       "│ Syrene   ┆ 27  ┆ 12    ┆ 13    ┆ … ┆ 12   ┆ 10      ┆ 12         ┆ 6          │\n",
       "│ Tana     ┆ 20  ┆ 7     ┆ 9     ┆ … ┆ 8    ┆ 6       ┆ 7          ┆ 6          │\n",
       "│ Tethys   ┆ 18  ┆ 1     ┆ 2     ┆ … ┆ 10   ┆ 5       ┆ 4          ┆ 6          │\n",
       "│ Valter   ┆ 45  ┆ 19    ┆ 17    ┆ … ┆ 3    ┆ 13      ┆ 12         ┆ 7          │\n",
       "│ Vanessa  ┆ 17  ┆ 5     ┆ 7     ┆ … ┆ 4    ┆ 6       ┆ 5          ┆ 6          │\n",
       "└──────────┴─────┴───────┴───────┴───┴──────┴─────────┴────────────┴────────────┘"
      ]
     },
     "execution_count": 7,
     "metadata": {},
     "output_type": "execute_result"
    }
   ],
   "source": [
    "data[\"BasesWide\"] = (\n",
    "    data[\"BasesWide\"].with_columns(\n",
    "        pl.when(pl.col(\"creature_campaign\"))\n",
    "            .then(7)\n",
    "            .otherwise(6)\n",
    "            .alias(\"CampaignID\")\n",
    "    )\n",
    "    .drop(\"creature_campaign\")\n",
    ")\n",
    "\n",
    "data[\"BasesWide\"]"
   ]
  },
  {
   "cell_type": "code",
   "execution_count": 8,
   "id": "d0a26e79-7d8c-4fb9-afa9-0b9c9ab7559d",
   "metadata": {},
   "outputs": [
    {
     "data": {
      "text/plain": [
       "{'Characters': shape: (43, 3)\n",
       " ┌──────────┬───────────────────┬─────┐\n",
       " │ Name     ┆ Game              ┆ ID  │\n",
       " │ ---      ┆ ---               ┆ --- │\n",
       " │ str      ┆ str               ┆ i64 │\n",
       " ╞══════════╪═══════════════════╪═════╡\n",
       " │ Amelia   ┆ the-sacred-stones ┆ 0   │\n",
       " │ Artur    ┆ the-sacred-stones ┆ 1   │\n",
       " │ Caellach ┆ the-sacred-stones ┆ 2   │\n",
       " │ Colm     ┆ the-sacred-stones ┆ 3   │\n",
       " │ Cormag   ┆ the-sacred-stones ┆ 4   │\n",
       " │ …        ┆ …                 ┆ …   │\n",
       " │ Syrene   ┆ the-sacred-stones ┆ 38  │\n",
       " │ Tana     ┆ the-sacred-stones ┆ 39  │\n",
       " │ Tethys   ┆ the-sacred-stones ┆ 40  │\n",
       " │ Valter   ┆ the-sacred-stones ┆ 41  │\n",
       " │ Vanessa  ┆ the-sacred-stones ┆ 42  │\n",
       " └──────────┴───────────────────┴─────┘,\n",
       " 'Weapons': shape: (59, 3)\n",
       " ┌─────────┬──────┬────────┐\n",
       " │ Name    ┆ Rank ┆ Weapon │\n",
       " │ ---     ┆ ---  ┆ ---    │\n",
       " │ str     ┆ str  ┆ str    │\n",
       " ╞═════════╪══════╪════════╡\n",
       " │ Dozla   ┆ B    ┆ Axe    │\n",
       " │ Moulder ┆ C    ┆ Staff  │\n",
       " │ Seth    ┆ A    ┆ Lance  │\n",
       " │ Fado    ┆ A    ┆ Sword  │\n",
       " │ Kyle    ┆ C    ┆ Lance  │\n",
       " │ …       ┆ …    ┆ …      │\n",
       " │ Eirika  ┆ E    ┆ Sword  │\n",
       " │ Tana    ┆ D    ┆ Lance  │\n",
       " │ Neimi   ┆ D    ┆ Bow    │\n",
       " │ Duessel ┆ A    ┆ Sword  │\n",
       " │ Ewan    ┆ E    ┆ Anima  │\n",
       " └─────────┴──────┴────────┘,\n",
       " 'BasesWide': shape: (44, 9)\n",
       " ┌──────────┬─────┬───────┬───────┬───┬──────┬─────────┬────────────┬────────────┐\n",
       " │ Name     ┆ HP  ┆ Power ┆ Skill ┆ … ┆ Luck ┆ Defense ┆ Resistance ┆ CampaignID │\n",
       " │ ---      ┆ --- ┆ ---   ┆ ---   ┆   ┆ ---  ┆ ---     ┆ ---        ┆ ---        │\n",
       " │ str      ┆ i64 ┆ i64   ┆ i64   ┆   ┆ i64  ┆ i64     ┆ i64        ┆ i32        │\n",
       " ╞══════════╪═════╪═══════╪═══════╪═══╪══════╪═════════╪════════════╪════════════╡\n",
       " │ Amelia   ┆ 16  ┆ 4     ┆ 3     ┆ … ┆ 6    ┆ 2       ┆ 3          ┆ 6          │\n",
       " │ Artur    ┆ 19  ┆ 6     ┆ 6     ┆ … ┆ 2    ┆ 2       ┆ 6          ┆ 6          │\n",
       " │ Caellach ┆ 47  ┆ 19    ┆ 14    ┆ … ┆ 14   ┆ 15      ┆ 13         ┆ 7          │\n",
       " │ Colm     ┆ 18  ┆ 4     ┆ 4     ┆ … ┆ 8    ┆ 3       ┆ 1          ┆ 6          │\n",
       " │ Cormag   ┆ 30  ┆ 14    ┆ 9     ┆ … ┆ 4    ┆ 12      ┆ 2          ┆ 6          │\n",
       " │ …        ┆ …   ┆ …     ┆ …     ┆ … ┆ …    ┆ …       ┆ …          ┆ …          │\n",
       " │ Syrene   ┆ 27  ┆ 12    ┆ 13    ┆ … ┆ 12   ┆ 10      ┆ 12         ┆ 6          │\n",
       " │ Tana     ┆ 20  ┆ 7     ┆ 9     ┆ … ┆ 8    ┆ 6       ┆ 7          ┆ 6          │\n",
       " │ Tethys   ┆ 18  ┆ 1     ┆ 2     ┆ … ┆ 10   ┆ 5       ┆ 4          ┆ 6          │\n",
       " │ Valter   ┆ 45  ┆ 19    ┆ 17    ┆ … ┆ 3    ┆ 13      ┆ 12         ┆ 7          │\n",
       " │ Vanessa  ┆ 17  ┆ 5     ┆ 7     ┆ … ┆ 4    ┆ 6       ┆ 5          ┆ 6          │\n",
       " └──────────┴─────┴───────┴───────┴───┴──────┴─────────┴────────────┴────────────┘,\n",
       " 'GrowthsWide': shape: (43, 9)\n",
       " ┌─────────┬─────┬───────┬───────┬───┬──────┬─────────┬────────────┬───────────────────┐\n",
       " │ Name    ┆ HP  ┆ Power ┆ Skill ┆ … ┆ Luck ┆ Defense ┆ Resistance ┆ Game              │\n",
       " │ ---     ┆ --- ┆ ---   ┆ ---   ┆   ┆ ---  ┆ ---     ┆ ---        ┆ ---               │\n",
       " │ str     ┆ i64 ┆ i64   ┆ i64   ┆   ┆ i64  ┆ i64     ┆ i64        ┆ str               │\n",
       " ╞═════════╪═════╪═══════╪═══════╪═══╪══════╪═════════╪════════════╪═══════════════════╡\n",
       " │ Syrene  ┆ 70  ┆ 40    ┆ 50    ┆ … ┆ 30   ┆ 20      ┆ 50         ┆ the-sacred-stones │\n",
       " │ Joshua  ┆ 80  ┆ 35    ┆ 55    ┆ … ┆ 30   ┆ 20      ┆ 20         ┆ the-sacred-stones │\n",
       " │ Knoll   ┆ 70  ┆ 50    ┆ 40    ┆ … ┆ 20   ┆ 10      ┆ 45         ┆ the-sacred-stones │\n",
       " │ Lyon    ┆ 85  ┆ 50    ┆ 55    ┆ … ┆ 30   ┆ 45      ┆ 55         ┆ the-sacred-stones │\n",
       " │ Ewan    ┆ 50  ┆ 45    ┆ 40    ┆ … ┆ 50   ┆ 15      ┆ 40         ┆ the-sacred-stones │\n",
       " │ …       ┆ …   ┆ …     ┆ …     ┆ … ┆ …    ┆ …       ┆ …          ┆ …                 │\n",
       " │ Ephraim ┆ 80  ┆ 55    ┆ 55    ┆ … ┆ 50   ┆ 35      ┆ 25         ┆ the-sacred-stones │\n",
       " │ Riev    ┆ 75  ┆ 45    ┆ 50    ┆ … ┆ 15   ┆ 20      ┆ 45         ┆ the-sacred-stones │\n",
       " │ Rennac  ┆ 65  ┆ 25    ┆ 45    ┆ … ┆ 25   ┆ 25      ┆ 30         ┆ the-sacred-stones │\n",
       " │ Orson   ┆ 80  ┆ 55    ┆ 45    ┆ … ┆ 25   ┆ 45      ┆ 30         ┆ the-sacred-stones │\n",
       " │ Selena  ┆ 85  ┆ 40    ┆ 55    ┆ … ┆ 25   ┆ 20      ┆ 30         ┆ the-sacred-stones │\n",
       " └─────────┴─────┴───────┴───────┴───┴──────┴─────────┴────────────┴───────────────────┘,\n",
       " 'StatsCombined': shape: (308, 5)\n",
       " ┌─────────┬────────────────┬────────────┬───────────┬─────────────┐\n",
       " │ Name    ┆ BonusCharacter ┆ Attribute  ┆ BaseValue ┆ GrowthValue │\n",
       " │ ---     ┆ ---            ┆ ---        ┆ ---       ┆ ---         │\n",
       " │ str     ┆ bool           ┆ str        ┆ i64       ┆ i64         │\n",
       " ╞═════════╪════════════════╪════════════╪═══════════╪═════════════╡\n",
       " │ Amelia  ┆ false          ┆ HP         ┆ 16        ┆ 60          │\n",
       " │ Amelia  ┆ false          ┆ Power      ┆ 4         ┆ 35          │\n",
       " │ Amelia  ┆ false          ┆ Skill      ┆ 3         ┆ 40          │\n",
       " │ Amelia  ┆ false          ┆ Speed      ┆ 4         ┆ 40          │\n",
       " │ Amelia  ┆ false          ┆ Luck       ┆ 6         ┆ 50          │\n",
       " │ …       ┆ …              ┆ …          ┆ …         ┆ …           │\n",
       " │ Vanessa ┆ false          ┆ Skill      ┆ 7         ┆ 55          │\n",
       " │ Vanessa ┆ false          ┆ Speed      ┆ 11        ┆ 60          │\n",
       " │ Vanessa ┆ false          ┆ Luck       ┆ 4         ┆ 50          │\n",
       " │ Vanessa ┆ false          ┆ Defense    ┆ 6         ┆ 20          │\n",
       " │ Vanessa ┆ false          ┆ Resistance ┆ 5         ┆ 30          │\n",
       " └─────────┴────────────────┴────────────┴───────────┴─────────────┘,\n",
       " 'Campaigns': shape: (8, 3)\n",
       " ┌─────┬───────────────────┬───────────────────┐\n",
       " │ ID  ┆ Game              ┆ Campaign          │\n",
       " │ --- ┆ ---               ┆ ---               │\n",
       " │ i64 ┆ str               ┆ str               │\n",
       " ╞═════╪═══════════════════╪═══════════════════╡\n",
       " │ 0   ┆ the-binding-blade ┆ normal            │\n",
       " │ 1   ┆ the-binding-blade ┆ hard              │\n",
       " │ 2   ┆ the-binding-blade ┆ bonus             │\n",
       " │ 3   ┆ the-blazing-sword ┆ lyn               │\n",
       " │ 4   ┆ the-blazing-sword ┆ eliwood           │\n",
       " │ 5   ┆ the-blazing-sword ┆ hector hard mode  │\n",
       " │ 6   ┆ the-sacred-stones ┆ normal            │\n",
       " │ 7   ┆ the-sacred-stones ┆ creature campaign │\n",
       " └─────┴───────────────────┴───────────────────┘}"
      ]
     },
     "execution_count": 8,
     "metadata": {},
     "output_type": "execute_result"
    }
   ],
   "source": [
    "data"
   ]
  }
 ],
 "metadata": {
  "kernelspec": {
   "display_name": "Python 3 (ipykernel)",
   "language": "python",
   "name": "python3"
  },
  "language_info": {
   "codemirror_mode": {
    "name": "ipython",
    "version": 3
   },
   "file_extension": ".py",
   "mimetype": "text/x-python",
   "name": "python",
   "nbconvert_exporter": "python",
   "pygments_lexer": "ipython3",
   "version": "3.11.9"
  }
 },
 "nbformat": 4,
 "nbformat_minor": 5
}
