{
 "cells": [
  {
   "cell_type": "markdown",
   "id": "b70b5bbc-30e0-4ba7-946a-f0cb8dceb22f",
   "metadata": {},
   "source": [
    "Date Began: May 20, 2024\n",
    "\n",
    "The goal here is to do a lot of cleaning and model building that's annoying to do in PowerBI desktop in python. I have a better idea of how I want my semantic model to look and it's easier to just clean this all up here. \n",
    "\n",
    "We'll also be doing all of this using `Polars` as I've never used it before!\n",
    "\n",
    "# Data Loading"
   ]
  },
  {
   "cell_type": "code",
   "execution_count": 1,
   "id": "b41ff768-5e08-4e65-9054-e4a4f0e6e6e7",
   "metadata": {},
   "outputs": [],
   "source": [
    "import polars as pl"
   ]
  },
  {
   "cell_type": "code",
   "execution_count": 2,
   "id": "b8345216-f394-4c1b-a127-403266360417",
   "metadata": {},
   "outputs": [
    {
     "data": {
      "text/plain": [
       "{'Characters': shape: (43, 3)\n",
       " ┌──────────┬───────────────────┬─────┐\n",
       " │ Name     ┆ Game              ┆ ID  │\n",
       " │ ---      ┆ ---               ┆ --- │\n",
       " │ str      ┆ str               ┆ i64 │\n",
       " ╞══════════╪═══════════════════╪═════╡\n",
       " │ Amelia   ┆ the-sacred-stones ┆ 0   │\n",
       " │ Artur    ┆ the-sacred-stones ┆ 1   │\n",
       " │ Caellach ┆ the-sacred-stones ┆ 2   │\n",
       " │ Colm     ┆ the-sacred-stones ┆ 3   │\n",
       " │ Cormag   ┆ the-sacred-stones ┆ 4   │\n",
       " │ …        ┆ …                 ┆ …   │\n",
       " │ Syrene   ┆ the-sacred-stones ┆ 38  │\n",
       " │ Tana     ┆ the-sacred-stones ┆ 39  │\n",
       " │ Tethys   ┆ the-sacred-stones ┆ 40  │\n",
       " │ Valter   ┆ the-sacred-stones ┆ 41  │\n",
       " │ Vanessa  ┆ the-sacred-stones ┆ 42  │\n",
       " └──────────┴───────────────────┴─────┘,\n",
       " 'Weapons': shape: (61, 4)\n",
       " ┌──────────┬───────────────────┬──────┬────────┐\n",
       " │ Name     ┆ creature_campaign ┆ Rank ┆ Weapon │\n",
       " │ ---      ┆ ---               ┆ ---  ┆ ---    │\n",
       " │ str      ┆ bool              ┆ str  ┆ str    │\n",
       " ╞══════════╪═══════════════════╪══════╪════════╡\n",
       " │ Amelia   ┆ false             ┆ E    ┆ Lance  │\n",
       " │ Artur    ┆ false             ┆ E    ┆ Light  │\n",
       " │ Caellach ┆ true              ┆ A    ┆ Sword  │\n",
       " │ Caellach ┆ true              ┆ A    ┆ Axe    │\n",
       " │ Colm     ┆ false             ┆ E    ┆ Sword  │\n",
       " │ …        ┆ …                 ┆ …    ┆ …      │\n",
       " │ Syrene   ┆ false             ┆ C    ┆ Sword  │\n",
       " │ Syrene   ┆ false             ┆ A    ┆ Lance  │\n",
       " │ Tana     ┆ false             ┆ D    ┆ Lance  │\n",
       " │ Valter   ┆ true              ┆ S    ┆ Lance  │\n",
       " │ Vanessa  ┆ false             ┆ D    ┆ Lance  │\n",
       " └──────────┴───────────────────┴──────┴────────┘,\n",
       " 'BasesWide': shape: (44, 9)\n",
       " ┌──────────┬─────┬───────┬───────┬───┬──────┬─────────┬────────────┬───────────────────┐\n",
       " │ Name     ┆ HP  ┆ Power ┆ Skill ┆ … ┆ Luck ┆ Defense ┆ Resistance ┆ creature_campaign │\n",
       " │ ---      ┆ --- ┆ ---   ┆ ---   ┆   ┆ ---  ┆ ---     ┆ ---        ┆ ---               │\n",
       " │ str      ┆ i64 ┆ i64   ┆ i64   ┆   ┆ i64  ┆ i64     ┆ i64        ┆ bool              │\n",
       " ╞══════════╪═════╪═══════╪═══════╪═══╪══════╪═════════╪════════════╪═══════════════════╡\n",
       " │ Amelia   ┆ 16  ┆ 4     ┆ 3     ┆ … ┆ 6    ┆ 2       ┆ 3          ┆ false             │\n",
       " │ Artur    ┆ 19  ┆ 6     ┆ 6     ┆ … ┆ 2    ┆ 2       ┆ 6          ┆ false             │\n",
       " │ Caellach ┆ 47  ┆ 19    ┆ 14    ┆ … ┆ 14   ┆ 15      ┆ 13         ┆ true              │\n",
       " │ Colm     ┆ 18  ┆ 4     ┆ 4     ┆ … ┆ 8    ┆ 3       ┆ 1          ┆ false             │\n",
       " │ Cormag   ┆ 30  ┆ 14    ┆ 9     ┆ … ┆ 4    ┆ 12      ┆ 2          ┆ false             │\n",
       " │ …        ┆ …   ┆ …     ┆ …     ┆ … ┆ …    ┆ …       ┆ …          ┆ …                 │\n",
       " │ Syrene   ┆ 27  ┆ 12    ┆ 13    ┆ … ┆ 12   ┆ 10      ┆ 12         ┆ false             │\n",
       " │ Tana     ┆ 20  ┆ 7     ┆ 9     ┆ … ┆ 8    ┆ 6       ┆ 7          ┆ false             │\n",
       " │ Tethys   ┆ 18  ┆ 1     ┆ 2     ┆ … ┆ 10   ┆ 5       ┆ 4          ┆ false             │\n",
       " │ Valter   ┆ 45  ┆ 19    ┆ 17    ┆ … ┆ 3    ┆ 13      ┆ 12         ┆ true              │\n",
       " │ Vanessa  ┆ 17  ┆ 5     ┆ 7     ┆ … ┆ 4    ┆ 6       ┆ 5          ┆ false             │\n",
       " └──────────┴─────┴───────┴───────┴───┴──────┴─────────┴────────────┴───────────────────┘,\n",
       " 'GrowthsWide': shape: (44, 10)\n",
       " ┌──────────┬─────┬───────┬───────┬───┬─────────┬────────────┬───────────────────┬──────────────────┐\n",
       " │ Name     ┆ HP  ┆ Power ┆ Skill ┆ … ┆ Defense ┆ Resistance ┆ Game              ┆ creature_campaig │\n",
       " │ ---      ┆ --- ┆ ---   ┆ ---   ┆   ┆ ---     ┆ ---        ┆ ---               ┆ n                │\n",
       " │ str      ┆ i64 ┆ i64   ┆ i64   ┆   ┆ i64     ┆ i64        ┆ str               ┆ ---              │\n",
       " │          ┆     ┆       ┆       ┆   ┆         ┆            ┆                   ┆ bool             │\n",
       " ╞══════════╪═════╪═══════╪═══════╪═══╪═════════╪════════════╪═══════════════════╪══════════════════╡\n",
       " │ Amelia   ┆ 60  ┆ 35    ┆ 40    ┆ … ┆ 30      ┆ 15         ┆ the-sacred-stones ┆ false            │\n",
       " │ Artur    ┆ 55  ┆ 50    ┆ 50    ┆ … ┆ 15      ┆ 55         ┆ the-sacred-stones ┆ false            │\n",
       " │ Caellach ┆ 85  ┆ 50    ┆ 45    ┆ … ┆ 30      ┆ 20         ┆ the-sacred-stones ┆ true             │\n",
       " │ Colm     ┆ 75  ┆ 40    ┆ 40    ┆ … ┆ 25      ┆ 20         ┆ the-sacred-stones ┆ false            │\n",
       " │ Cormag   ┆ 85  ┆ 55    ┆ 40    ┆ … ┆ 25      ┆ 15         ┆ the-sacred-stones ┆ false            │\n",
       " │ …        ┆ …   ┆ …     ┆ …     ┆ … ┆ …       ┆ …          ┆ …                 ┆ …                │\n",
       " │ Syrene   ┆ 70  ┆ 40    ┆ 50    ┆ … ┆ 20      ┆ 50         ┆ the-sacred-stones ┆ false            │\n",
       " │ Tana     ┆ 65  ┆ 45    ┆ 40    ┆ … ┆ 20      ┆ 25         ┆ the-sacred-stones ┆ false            │\n",
       " │ Tethys   ┆ 85  ┆ 5     ┆ 10    ┆ … ┆ 30      ┆ 75         ┆ the-sacred-stones ┆ false            │\n",
       " │ Valter   ┆ 80  ┆ 40    ┆ 55    ┆ … ┆ 20      ┆ 20         ┆ the-sacred-stones ┆ true             │\n",
       " │ Vanessa  ┆ 50  ┆ 35    ┆ 55    ┆ … ┆ 20      ┆ 30         ┆ the-sacred-stones ┆ false            │\n",
       " └──────────┴─────┴───────┴───────┴───┴─────────┴────────────┴───────────────────┴──────────────────┘,\n",
       " 'StatsCombined': shape: (308, 5)\n",
       " ┌─────────┬────────────────┬────────────┬───────────┬─────────────┐\n",
       " │ Name    ┆ BonusCharacter ┆ Attribute  ┆ BaseValue ┆ GrowthValue │\n",
       " │ ---     ┆ ---            ┆ ---        ┆ ---       ┆ ---         │\n",
       " │ str     ┆ bool           ┆ str        ┆ i64       ┆ i64         │\n",
       " ╞═════════╪════════════════╪════════════╪═══════════╪═════════════╡\n",
       " │ Amelia  ┆ false          ┆ HP         ┆ 16        ┆ 60          │\n",
       " │ Amelia  ┆ false          ┆ Power      ┆ 4         ┆ 35          │\n",
       " │ Amelia  ┆ false          ┆ Skill      ┆ 3         ┆ 40          │\n",
       " │ Amelia  ┆ false          ┆ Speed      ┆ 4         ┆ 40          │\n",
       " │ Amelia  ┆ false          ┆ Luck       ┆ 6         ┆ 50          │\n",
       " │ …       ┆ …              ┆ …          ┆ …         ┆ …           │\n",
       " │ Vanessa ┆ false          ┆ Skill      ┆ 7         ┆ 55          │\n",
       " │ Vanessa ┆ false          ┆ Speed      ┆ 11        ┆ 60          │\n",
       " │ Vanessa ┆ false          ┆ Luck       ┆ 4         ┆ 50          │\n",
       " │ Vanessa ┆ false          ┆ Defense    ┆ 6         ┆ 20          │\n",
       " │ Vanessa ┆ false          ┆ Resistance ┆ 5         ┆ 30          │\n",
       " └─────────┴────────────────┴────────────┴───────────┴─────────────┘,\n",
       " 'Campaigns': shape: (8, 3)\n",
       " ┌─────┬───────────────────┬───────────────────┐\n",
       " │ ID  ┆ Game              ┆ Campaign          │\n",
       " │ --- ┆ ---               ┆ ---               │\n",
       " │ i64 ┆ str               ┆ str               │\n",
       " ╞═════╪═══════════════════╪═══════════════════╡\n",
       " │ 0   ┆ the-binding-blade ┆ normal            │\n",
       " │ 1   ┆ the-binding-blade ┆ hard              │\n",
       " │ 2   ┆ the-binding-blade ┆ bonus             │\n",
       " │ 3   ┆ the-blazing-sword ┆ lyn               │\n",
       " │ 4   ┆ the-blazing-sword ┆ eliwood           │\n",
       " │ 5   ┆ the-blazing-sword ┆ hector hard mode  │\n",
       " │ 6   ┆ the-sacred-stones ┆ normal            │\n",
       " │ 7   ┆ the-sacred-stones ┆ creature campaign │\n",
       " └─────┴───────────────────┴───────────────────┘}"
      ]
     },
     "execution_count": 2,
     "metadata": {},
     "output_type": "execute_result"
    }
   ],
   "source": [
    "data = pl.read_excel(\n",
    "    source=\"../data/powerbi_exports/FireEmblemData05202024.xlsx\",\n",
    "    sheet_id=0 # This loads in all of the sheets at once\n",
    ")\n",
    "\n",
    "data"
   ]
  },
  {
   "cell_type": "code",
   "execution_count": 3,
   "id": "03507438-6f0e-4dc8-b5ba-ff44539a0a15",
   "metadata": {},
   "outputs": [
    {
     "data": {
      "text/plain": [
       "['Characters',\n",
       " 'Weapons',\n",
       " 'BasesWide',\n",
       " 'GrowthsWide',\n",
       " 'StatsCombined',\n",
       " 'Campaigns']"
      ]
     },
     "execution_count": 3,
     "metadata": {},
     "output_type": "execute_result"
    }
   ],
   "source": [
    "# This is mostly just a quick reference for me, idk if I'll really use this object.\n",
    "\n",
    "table_names = list(data.keys())\n",
    "table_names"
   ]
  },
  {
   "cell_type": "markdown",
   "id": "e805f4c7-6895-43b2-94fd-9907e864e40e",
   "metadata": {},
   "source": [
    "# Change \"creature_campaign\" to fit new Campaign table format.\n",
    "\n",
    "Overview here: We don't have many tables that actually need this value, so we can just remove the variable from those. For the remaining, we'll create a new \"campaignid\" variable and go from there.\n",
    "\n",
    "## Remove columns where its redundant data\n",
    "\n",
    "In this case weapon ranks and growths are totally unrelated to creature campaign so we can just remove this column. This decision will also scale to FE6 and FE7 as these stats aren't affected by hard mode bonuses."
   ]
  },
  {
   "cell_type": "code",
   "execution_count": 4,
   "id": "7781184c-9d9e-46f3-b262-d42a022e2b39",
   "metadata": {},
   "outputs": [
    {
     "data": {
      "text/html": [
       "<div><style>\n",
       ".dataframe > thead > tr,\n",
       ".dataframe > tbody > tr {\n",
       "  text-align: right;\n",
       "  white-space: pre-wrap;\n",
       "}\n",
       "</style>\n",
       "<small>shape: (43, 9)</small><table border=\"1\" class=\"dataframe\"><thead><tr><th>Name</th><th>HP</th><th>Power</th><th>Skill</th><th>Speed</th><th>Luck</th><th>Defense</th><th>Resistance</th><th>Game</th></tr><tr><td>str</td><td>i64</td><td>i64</td><td>i64</td><td>i64</td><td>i64</td><td>i64</td><td>i64</td><td>str</td></tr></thead><tbody><tr><td>&quot;Hayden&quot;</td><td>70</td><td>40</td><td>45</td><td>45</td><td>40</td><td>25</td><td>25</td><td>&quot;the-sacred-stones&quot;</td></tr><tr><td>&quot;Valter&quot;</td><td>80</td><td>40</td><td>55</td><td>50</td><td>15</td><td>20</td><td>20</td><td>&quot;the-sacred-stones&quot;</td></tr><tr><td>&quot;Knoll&quot;</td><td>70</td><td>50</td><td>40</td><td>35</td><td>20</td><td>10</td><td>45</td><td>&quot;the-sacred-stones&quot;</td></tr><tr><td>&quot;Natasha&quot;</td><td>50</td><td>60</td><td>25</td><td>40</td><td>60</td><td>15</td><td>55</td><td>&quot;the-sacred-stones&quot;</td></tr><tr><td>&quot;Moulder&quot;</td><td>70</td><td>40</td><td>50</td><td>40</td><td>20</td><td>25</td><td>25</td><td>&quot;the-sacred-stones&quot;</td></tr><tr><td>&hellip;</td><td>&hellip;</td><td>&hellip;</td><td>&hellip;</td><td>&hellip;</td><td>&hellip;</td><td>&hellip;</td><td>&hellip;</td><td>&hellip;</td></tr><tr><td>&quot;Franz&quot;</td><td>80</td><td>40</td><td>40</td><td>50</td><td>40</td><td>25</td><td>20</td><td>&quot;the-sacred-stones&quot;</td></tr><tr><td>&quot;Garcia&quot;</td><td>80</td><td>65</td><td>40</td><td>20</td><td>40</td><td>25</td><td>15</td><td>&quot;the-sacred-stones&quot;</td></tr><tr><td>&quot;Ismaire&quot;</td><td>75</td><td>30</td><td>60</td><td>55</td><td>30</td><td>20</td><td>25</td><td>&quot;the-sacred-stones&quot;</td></tr><tr><td>&quot;Cormag&quot;</td><td>85</td><td>55</td><td>40</td><td>45</td><td>35</td><td>25</td><td>15</td><td>&quot;the-sacred-stones&quot;</td></tr><tr><td>&quot;Amelia&quot;</td><td>60</td><td>35</td><td>40</td><td>40</td><td>50</td><td>30</td><td>15</td><td>&quot;the-sacred-stones&quot;</td></tr></tbody></table></div>"
      ],
      "text/plain": [
       "shape: (43, 9)\n",
       "┌─────────┬─────┬───────┬───────┬───┬──────┬─────────┬────────────┬───────────────────┐\n",
       "│ Name    ┆ HP  ┆ Power ┆ Skill ┆ … ┆ Luck ┆ Defense ┆ Resistance ┆ Game              │\n",
       "│ ---     ┆ --- ┆ ---   ┆ ---   ┆   ┆ ---  ┆ ---     ┆ ---        ┆ ---               │\n",
       "│ str     ┆ i64 ┆ i64   ┆ i64   ┆   ┆ i64  ┆ i64     ┆ i64        ┆ str               │\n",
       "╞═════════╪═════╪═══════╪═══════╪═══╪══════╪═════════╪════════════╪═══════════════════╡\n",
       "│ Hayden  ┆ 70  ┆ 40    ┆ 45    ┆ … ┆ 40   ┆ 25      ┆ 25         ┆ the-sacred-stones │\n",
       "│ Valter  ┆ 80  ┆ 40    ┆ 55    ┆ … ┆ 15   ┆ 20      ┆ 20         ┆ the-sacred-stones │\n",
       "│ Knoll   ┆ 70  ┆ 50    ┆ 40    ┆ … ┆ 20   ┆ 10      ┆ 45         ┆ the-sacred-stones │\n",
       "│ Natasha ┆ 50  ┆ 60    ┆ 25    ┆ … ┆ 60   ┆ 15      ┆ 55         ┆ the-sacred-stones │\n",
       "│ Moulder ┆ 70  ┆ 40    ┆ 50    ┆ … ┆ 20   ┆ 25      ┆ 25         ┆ the-sacred-stones │\n",
       "│ …       ┆ …   ┆ …     ┆ …     ┆ … ┆ …    ┆ …       ┆ …          ┆ …                 │\n",
       "│ Franz   ┆ 80  ┆ 40    ┆ 40    ┆ … ┆ 40   ┆ 25      ┆ 20         ┆ the-sacred-stones │\n",
       "│ Garcia  ┆ 80  ┆ 65    ┆ 40    ┆ … ┆ 40   ┆ 25      ┆ 15         ┆ the-sacred-stones │\n",
       "│ Ismaire ┆ 75  ┆ 30    ┆ 60    ┆ … ┆ 30   ┆ 20      ┆ 25         ┆ the-sacred-stones │\n",
       "│ Cormag  ┆ 85  ┆ 55    ┆ 40    ┆ … ┆ 35   ┆ 25      ┆ 15         ┆ the-sacred-stones │\n",
       "│ Amelia  ┆ 60  ┆ 35    ┆ 40    ┆ … ┆ 50   ┆ 30      ┆ 15         ┆ the-sacred-stones │\n",
       "└─────────┴─────┴───────┴───────┴───┴──────┴─────────┴────────────┴───────────────────┘"
      ]
     },
     "metadata": {},
     "output_type": "display_data"
    },
    {
     "data": {
      "text/html": [
       "<div><style>\n",
       ".dataframe > thead > tr,\n",
       ".dataframe > tbody > tr {\n",
       "  text-align: right;\n",
       "  white-space: pre-wrap;\n",
       "}\n",
       "</style>\n",
       "<small>shape: (59, 3)</small><table border=\"1\" class=\"dataframe\"><thead><tr><th>Name</th><th>Rank</th><th>Weapon</th></tr><tr><td>str</td><td>str</td><td>str</td></tr></thead><tbody><tr><td>&quot;Fado&quot;</td><td>&quot;A&quot;</td><td>&quot;Axe&quot;</td></tr><tr><td>&quot;Amelia&quot;</td><td>&quot;E&quot;</td><td>&quot;Lance&quot;</td></tr><tr><td>&quot;Joshua&quot;</td><td>&quot;C&quot;</td><td>&quot;Sword&quot;</td></tr><tr><td>&quot;Valter&quot;</td><td>&quot;S&quot;</td><td>&quot;Lance&quot;</td></tr><tr><td>&quot;Saleh&quot;</td><td>&quot;C&quot;</td><td>&quot;Staff&quot;</td></tr><tr><td>&hellip;</td><td>&hellip;</td><td>&hellip;</td></tr><tr><td>&quot;Caellach&quot;</td><td>&quot;A&quot;</td><td>&quot;Axe&quot;</td></tr><tr><td>&quot;Ephraim&quot;</td><td>&quot;D&quot;</td><td>&quot;Lance&quot;</td></tr><tr><td>&quot;Saleh&quot;</td><td>&quot;A&quot;</td><td>&quot;Anima&quot;</td></tr><tr><td>&quot;Franz&quot;</td><td>&quot;E&quot;</td><td>&quot;Sword&quot;</td></tr><tr><td>&quot;Cormag&quot;</td><td>&quot;C&quot;</td><td>&quot;Lance&quot;</td></tr></tbody></table></div>"
      ],
      "text/plain": [
       "shape: (59, 3)\n",
       "┌──────────┬──────┬────────┐\n",
       "│ Name     ┆ Rank ┆ Weapon │\n",
       "│ ---      ┆ ---  ┆ ---    │\n",
       "│ str      ┆ str  ┆ str    │\n",
       "╞══════════╪══════╪════════╡\n",
       "│ Fado     ┆ A    ┆ Axe    │\n",
       "│ Amelia   ┆ E    ┆ Lance  │\n",
       "│ Joshua   ┆ C    ┆ Sword  │\n",
       "│ Valter   ┆ S    ┆ Lance  │\n",
       "│ Saleh    ┆ C    ┆ Staff  │\n",
       "│ …        ┆ …    ┆ …      │\n",
       "│ Caellach ┆ A    ┆ Axe    │\n",
       "│ Ephraim  ┆ D    ┆ Lance  │\n",
       "│ Saleh    ┆ A    ┆ Anima  │\n",
       "│ Franz    ┆ E    ┆ Sword  │\n",
       "│ Cormag   ┆ C    ┆ Lance  │\n",
       "└──────────┴──────┴────────┘"
      ]
     },
     "metadata": {},
     "output_type": "display_data"
    }
   ],
   "source": [
    "tables_to_drop_cc = [\"GrowthsWide\", \"Weapons\"]\n",
    "for table in tables_to_drop_cc:\n",
    "    data[table] = (\n",
    "        data[table]\n",
    "        .drop(\"creature_campaign\")\n",
    "        .unique()\n",
    "    )\n",
    "    display(data[table])"
   ]
  },
  {
   "cell_type": "markdown",
   "id": "660ac172-70e7-4f2b-89eb-a65c5cc44327",
   "metadata": {},
   "source": [
    "## Create campaign variable and clean up dataframes"
   ]
  },
  {
   "cell_type": "code",
   "execution_count": 5,
   "id": "4c9c164e-68bd-4764-b2fd-95905b939b15",
   "metadata": {},
   "outputs": [
    {
     "data": {
      "text/html": [
       "<div><style>\n",
       ".dataframe > thead > tr,\n",
       ".dataframe > tbody > tr {\n",
       "  text-align: right;\n",
       "  white-space: pre-wrap;\n",
       "}\n",
       "</style>\n",
       "<small>shape: (44, 9)</small><table border=\"1\" class=\"dataframe\"><thead><tr><th>Name</th><th>HP</th><th>Power</th><th>Skill</th><th>Speed</th><th>Luck</th><th>Defense</th><th>Resistance</th><th>CampaignID</th></tr><tr><td>str</td><td>i64</td><td>i64</td><td>i64</td><td>i64</td><td>i64</td><td>i64</td><td>i64</td><td>i32</td></tr></thead><tbody><tr><td>&quot;Amelia&quot;</td><td>16</td><td>4</td><td>3</td><td>4</td><td>6</td><td>2</td><td>3</td><td>6</td></tr><tr><td>&quot;Artur&quot;</td><td>19</td><td>6</td><td>6</td><td>8</td><td>2</td><td>2</td><td>6</td><td>6</td></tr><tr><td>&quot;Caellach&quot;</td><td>47</td><td>19</td><td>14</td><td>13</td><td>14</td><td>15</td><td>13</td><td>7</td></tr><tr><td>&quot;Colm&quot;</td><td>18</td><td>4</td><td>4</td><td>10</td><td>8</td><td>3</td><td>1</td><td>6</td></tr><tr><td>&quot;Cormag&quot;</td><td>30</td><td>14</td><td>9</td><td>10</td><td>4</td><td>12</td><td>2</td><td>6</td></tr><tr><td>&hellip;</td><td>&hellip;</td><td>&hellip;</td><td>&hellip;</td><td>&hellip;</td><td>&hellip;</td><td>&hellip;</td><td>&hellip;</td><td>&hellip;</td></tr><tr><td>&quot;Syrene&quot;</td><td>27</td><td>12</td><td>13</td><td>15</td><td>12</td><td>10</td><td>12</td><td>6</td></tr><tr><td>&quot;Tana&quot;</td><td>20</td><td>7</td><td>9</td><td>13</td><td>8</td><td>6</td><td>7</td><td>6</td></tr><tr><td>&quot;Tethys&quot;</td><td>18</td><td>1</td><td>2</td><td>12</td><td>10</td><td>5</td><td>4</td><td>6</td></tr><tr><td>&quot;Valter&quot;</td><td>45</td><td>19</td><td>17</td><td>17</td><td>3</td><td>13</td><td>12</td><td>7</td></tr><tr><td>&quot;Vanessa&quot;</td><td>17</td><td>5</td><td>7</td><td>11</td><td>4</td><td>6</td><td>5</td><td>6</td></tr></tbody></table></div>"
      ],
      "text/plain": [
       "shape: (44, 9)\n",
       "┌──────────┬─────┬───────┬───────┬───┬──────┬─────────┬────────────┬────────────┐\n",
       "│ Name     ┆ HP  ┆ Power ┆ Skill ┆ … ┆ Luck ┆ Defense ┆ Resistance ┆ CampaignID │\n",
       "│ ---      ┆ --- ┆ ---   ┆ ---   ┆   ┆ ---  ┆ ---     ┆ ---        ┆ ---        │\n",
       "│ str      ┆ i64 ┆ i64   ┆ i64   ┆   ┆ i64  ┆ i64     ┆ i64        ┆ i32        │\n",
       "╞══════════╪═════╪═══════╪═══════╪═══╪══════╪═════════╪════════════╪════════════╡\n",
       "│ Amelia   ┆ 16  ┆ 4     ┆ 3     ┆ … ┆ 6    ┆ 2       ┆ 3          ┆ 6          │\n",
       "│ Artur    ┆ 19  ┆ 6     ┆ 6     ┆ … ┆ 2    ┆ 2       ┆ 6          ┆ 6          │\n",
       "│ Caellach ┆ 47  ┆ 19    ┆ 14    ┆ … ┆ 14   ┆ 15      ┆ 13         ┆ 7          │\n",
       "│ Colm     ┆ 18  ┆ 4     ┆ 4     ┆ … ┆ 8    ┆ 3       ┆ 1          ┆ 6          │\n",
       "│ Cormag   ┆ 30  ┆ 14    ┆ 9     ┆ … ┆ 4    ┆ 12      ┆ 2          ┆ 6          │\n",
       "│ …        ┆ …   ┆ …     ┆ …     ┆ … ┆ …    ┆ …       ┆ …          ┆ …          │\n",
       "│ Syrene   ┆ 27  ┆ 12    ┆ 13    ┆ … ┆ 12   ┆ 10      ┆ 12         ┆ 6          │\n",
       "│ Tana     ┆ 20  ┆ 7     ┆ 9     ┆ … ┆ 8    ┆ 6       ┆ 7          ┆ 6          │\n",
       "│ Tethys   ┆ 18  ┆ 1     ┆ 2     ┆ … ┆ 10   ┆ 5       ┆ 4          ┆ 6          │\n",
       "│ Valter   ┆ 45  ┆ 19    ┆ 17    ┆ … ┆ 3    ┆ 13      ┆ 12         ┆ 7          │\n",
       "│ Vanessa  ┆ 17  ┆ 5     ┆ 7     ┆ … ┆ 4    ┆ 6       ┆ 5          ┆ 6          │\n",
       "└──────────┴─────┴───────┴───────┴───┴──────┴─────────┴────────────┴────────────┘"
      ]
     },
     "execution_count": 5,
     "metadata": {},
     "output_type": "execute_result"
    }
   ],
   "source": [
    "data[\"BasesWide\"] = (\n",
    "    data[\"BasesWide\"].with_columns(\n",
    "        pl.when(pl.col(\"creature_campaign\"))\n",
    "            .then(7)\n",
    "            .otherwise(6)\n",
    "            .alias(\"CampaignID\")\n",
    "    )\n",
    "    .drop(\"creature_campaign\")\n",
    ")\n",
    "\n",
    "data[\"BasesWide\"]"
   ]
  },
  {
   "cell_type": "code",
   "execution_count": 6,
   "id": "d0a26e79-7d8c-4fb9-afa9-0b9c9ab7559d",
   "metadata": {},
   "outputs": [
    {
     "data": {
      "text/plain": [
       "{'Characters': shape: (43, 3)\n",
       " ┌──────────┬───────────────────┬─────┐\n",
       " │ Name     ┆ Game              ┆ ID  │\n",
       " │ ---      ┆ ---               ┆ --- │\n",
       " │ str      ┆ str               ┆ i64 │\n",
       " ╞══════════╪═══════════════════╪═════╡\n",
       " │ Amelia   ┆ the-sacred-stones ┆ 0   │\n",
       " │ Artur    ┆ the-sacred-stones ┆ 1   │\n",
       " │ Caellach ┆ the-sacred-stones ┆ 2   │\n",
       " │ Colm     ┆ the-sacred-stones ┆ 3   │\n",
       " │ Cormag   ┆ the-sacred-stones ┆ 4   │\n",
       " │ …        ┆ …                 ┆ …   │\n",
       " │ Syrene   ┆ the-sacred-stones ┆ 38  │\n",
       " │ Tana     ┆ the-sacred-stones ┆ 39  │\n",
       " │ Tethys   ┆ the-sacred-stones ┆ 40  │\n",
       " │ Valter   ┆ the-sacred-stones ┆ 41  │\n",
       " │ Vanessa  ┆ the-sacred-stones ┆ 42  │\n",
       " └──────────┴───────────────────┴─────┘,\n",
       " 'Weapons': shape: (59, 3)\n",
       " ┌──────────┬──────┬────────┐\n",
       " │ Name     ┆ Rank ┆ Weapon │\n",
       " │ ---      ┆ ---  ┆ ---    │\n",
       " │ str      ┆ str  ┆ str    │\n",
       " ╞══════════╪══════╪════════╡\n",
       " │ Fado     ┆ A    ┆ Axe    │\n",
       " │ Amelia   ┆ E    ┆ Lance  │\n",
       " │ Joshua   ┆ C    ┆ Sword  │\n",
       " │ Valter   ┆ S    ┆ Lance  │\n",
       " │ Saleh    ┆ C    ┆ Staff  │\n",
       " │ …        ┆ …    ┆ …      │\n",
       " │ Caellach ┆ A    ┆ Axe    │\n",
       " │ Ephraim  ┆ D    ┆ Lance  │\n",
       " │ Saleh    ┆ A    ┆ Anima  │\n",
       " │ Franz    ┆ E    ┆ Sword  │\n",
       " │ Cormag   ┆ C    ┆ Lance  │\n",
       " └──────────┴──────┴────────┘,\n",
       " 'BasesWide': shape: (44, 9)\n",
       " ┌──────────┬─────┬───────┬───────┬───┬──────┬─────────┬────────────┬────────────┐\n",
       " │ Name     ┆ HP  ┆ Power ┆ Skill ┆ … ┆ Luck ┆ Defense ┆ Resistance ┆ CampaignID │\n",
       " │ ---      ┆ --- ┆ ---   ┆ ---   ┆   ┆ ---  ┆ ---     ┆ ---        ┆ ---        │\n",
       " │ str      ┆ i64 ┆ i64   ┆ i64   ┆   ┆ i64  ┆ i64     ┆ i64        ┆ i32        │\n",
       " ╞══════════╪═════╪═══════╪═══════╪═══╪══════╪═════════╪════════════╪════════════╡\n",
       " │ Amelia   ┆ 16  ┆ 4     ┆ 3     ┆ … ┆ 6    ┆ 2       ┆ 3          ┆ 6          │\n",
       " │ Artur    ┆ 19  ┆ 6     ┆ 6     ┆ … ┆ 2    ┆ 2       ┆ 6          ┆ 6          │\n",
       " │ Caellach ┆ 47  ┆ 19    ┆ 14    ┆ … ┆ 14   ┆ 15      ┆ 13         ┆ 7          │\n",
       " │ Colm     ┆ 18  ┆ 4     ┆ 4     ┆ … ┆ 8    ┆ 3       ┆ 1          ┆ 6          │\n",
       " │ Cormag   ┆ 30  ┆ 14    ┆ 9     ┆ … ┆ 4    ┆ 12      ┆ 2          ┆ 6          │\n",
       " │ …        ┆ …   ┆ …     ┆ …     ┆ … ┆ …    ┆ …       ┆ …          ┆ …          │\n",
       " │ Syrene   ┆ 27  ┆ 12    ┆ 13    ┆ … ┆ 12   ┆ 10      ┆ 12         ┆ 6          │\n",
       " │ Tana     ┆ 20  ┆ 7     ┆ 9     ┆ … ┆ 8    ┆ 6       ┆ 7          ┆ 6          │\n",
       " │ Tethys   ┆ 18  ┆ 1     ┆ 2     ┆ … ┆ 10   ┆ 5       ┆ 4          ┆ 6          │\n",
       " │ Valter   ┆ 45  ┆ 19    ┆ 17    ┆ … ┆ 3    ┆ 13      ┆ 12         ┆ 7          │\n",
       " │ Vanessa  ┆ 17  ┆ 5     ┆ 7     ┆ … ┆ 4    ┆ 6       ┆ 5          ┆ 6          │\n",
       " └──────────┴─────┴───────┴───────┴───┴──────┴─────────┴────────────┴────────────┘,\n",
       " 'GrowthsWide': shape: (43, 9)\n",
       " ┌─────────┬─────┬───────┬───────┬───┬──────┬─────────┬────────────┬───────────────────┐\n",
       " │ Name    ┆ HP  ┆ Power ┆ Skill ┆ … ┆ Luck ┆ Defense ┆ Resistance ┆ Game              │\n",
       " │ ---     ┆ --- ┆ ---   ┆ ---   ┆   ┆ ---  ┆ ---     ┆ ---        ┆ ---               │\n",
       " │ str     ┆ i64 ┆ i64   ┆ i64   ┆   ┆ i64  ┆ i64     ┆ i64        ┆ str               │\n",
       " ╞═════════╪═════╪═══════╪═══════╪═══╪══════╪═════════╪════════════╪═══════════════════╡\n",
       " │ Hayden  ┆ 70  ┆ 40    ┆ 45    ┆ … ┆ 40   ┆ 25      ┆ 25         ┆ the-sacred-stones │\n",
       " │ Valter  ┆ 80  ┆ 40    ┆ 55    ┆ … ┆ 15   ┆ 20      ┆ 20         ┆ the-sacred-stones │\n",
       " │ Knoll   ┆ 70  ┆ 50    ┆ 40    ┆ … ┆ 20   ┆ 10      ┆ 45         ┆ the-sacred-stones │\n",
       " │ Natasha ┆ 50  ┆ 60    ┆ 25    ┆ … ┆ 60   ┆ 15      ┆ 55         ┆ the-sacred-stones │\n",
       " │ Moulder ┆ 70  ┆ 40    ┆ 50    ┆ … ┆ 20   ┆ 25      ┆ 25         ┆ the-sacred-stones │\n",
       " │ …       ┆ …   ┆ …     ┆ …     ┆ … ┆ …    ┆ …       ┆ …          ┆ …                 │\n",
       " │ Franz   ┆ 80  ┆ 40    ┆ 40    ┆ … ┆ 40   ┆ 25      ┆ 20         ┆ the-sacred-stones │\n",
       " │ Garcia  ┆ 80  ┆ 65    ┆ 40    ┆ … ┆ 40   ┆ 25      ┆ 15         ┆ the-sacred-stones │\n",
       " │ Ismaire ┆ 75  ┆ 30    ┆ 60    ┆ … ┆ 30   ┆ 20      ┆ 25         ┆ the-sacred-stones │\n",
       " │ Cormag  ┆ 85  ┆ 55    ┆ 40    ┆ … ┆ 35   ┆ 25      ┆ 15         ┆ the-sacred-stones │\n",
       " │ Amelia  ┆ 60  ┆ 35    ┆ 40    ┆ … ┆ 50   ┆ 30      ┆ 15         ┆ the-sacred-stones │\n",
       " └─────────┴─────┴───────┴───────┴───┴──────┴─────────┴────────────┴───────────────────┘,\n",
       " 'StatsCombined': shape: (308, 5)\n",
       " ┌─────────┬────────────────┬────────────┬───────────┬─────────────┐\n",
       " │ Name    ┆ BonusCharacter ┆ Attribute  ┆ BaseValue ┆ GrowthValue │\n",
       " │ ---     ┆ ---            ┆ ---        ┆ ---       ┆ ---         │\n",
       " │ str     ┆ bool           ┆ str        ┆ i64       ┆ i64         │\n",
       " ╞═════════╪════════════════╪════════════╪═══════════╪═════════════╡\n",
       " │ Amelia  ┆ false          ┆ HP         ┆ 16        ┆ 60          │\n",
       " │ Amelia  ┆ false          ┆ Power      ┆ 4         ┆ 35          │\n",
       " │ Amelia  ┆ false          ┆ Skill      ┆ 3         ┆ 40          │\n",
       " │ Amelia  ┆ false          ┆ Speed      ┆ 4         ┆ 40          │\n",
       " │ Amelia  ┆ false          ┆ Luck       ┆ 6         ┆ 50          │\n",
       " │ …       ┆ …              ┆ …          ┆ …         ┆ …           │\n",
       " │ Vanessa ┆ false          ┆ Skill      ┆ 7         ┆ 55          │\n",
       " │ Vanessa ┆ false          ┆ Speed      ┆ 11        ┆ 60          │\n",
       " │ Vanessa ┆ false          ┆ Luck       ┆ 4         ┆ 50          │\n",
       " │ Vanessa ┆ false          ┆ Defense    ┆ 6         ┆ 20          │\n",
       " │ Vanessa ┆ false          ┆ Resistance ┆ 5         ┆ 30          │\n",
       " └─────────┴────────────────┴────────────┴───────────┴─────────────┘,\n",
       " 'Campaigns': shape: (8, 3)\n",
       " ┌─────┬───────────────────┬───────────────────┐\n",
       " │ ID  ┆ Game              ┆ Campaign          │\n",
       " │ --- ┆ ---               ┆ ---               │\n",
       " │ i64 ┆ str               ┆ str               │\n",
       " ╞═════╪═══════════════════╪═══════════════════╡\n",
       " │ 0   ┆ the-binding-blade ┆ normal            │\n",
       " │ 1   ┆ the-binding-blade ┆ hard              │\n",
       " │ 2   ┆ the-binding-blade ┆ bonus             │\n",
       " │ 3   ┆ the-blazing-sword ┆ lyn               │\n",
       " │ 4   ┆ the-blazing-sword ┆ eliwood           │\n",
       " │ 5   ┆ the-blazing-sword ┆ hector hard mode  │\n",
       " │ 6   ┆ the-sacred-stones ┆ normal            │\n",
       " │ 7   ┆ the-sacred-stones ┆ creature campaign │\n",
       " └─────┴───────────────────┴───────────────────┘}"
      ]
     },
     "execution_count": 6,
     "metadata": {},
     "output_type": "execute_result"
    }
   ],
   "source": [
    "data"
   ]
  },
  {
   "cell_type": "markdown",
   "id": "2caf1bf7-0637-4053-9bba-b136388de9ac",
   "metadata": {},
   "source": [
    "# Setting up DuckDB\n",
    "\n",
    "Our data is made up of polars dataframes stored in a dictionary so we need to \"register\" them instead of creating the tables the regular way. See the docs [here](https://duckdb.org/docs/api/python/data_ingestion#directly-accessing-dataframes-and-arrow-objects)"
   ]
  },
  {
   "cell_type": "code",
   "execution_count": 11,
   "id": "3a359fd0-e904-4d0d-bd24-ca1058a0f03a",
   "metadata": {},
   "outputs": [],
   "source": [
    "import duckdb\n",
    "from duckdb import sql\n",
    "path = \"../data/duckdb/db.duckdb\"\n",
    "con = duckdb.connect(path, read_only=False)\n",
    "\n",
    "create_db = False\n",
    "if create_db:\n",
    "    for key, polars_df in data.items():\n",
    "        # Register the Polars dataframe with DuckDB\n",
    "        con.register(key, polars_df)\n",
    "        # Create the tables so they can be saved correctly\n",
    "        con.execute(f'CREATE TABLE {key} AS SELECT * FROM {key}')\n",
    "\n",
    "    # Close connection to save the db and then re-connect\n",
    "    con.close()\n",
    "    con = duckdb.connect(path)\n",
    "    con.sql(\"show tables\").show()"
   ]
  },
  {
   "cell_type": "code",
   "execution_count": 12,
   "id": "ab2f4096-d259-40fa-b011-a99ccdd1f18a",
   "metadata": {},
   "outputs": [
    {
     "name": "stdout",
     "output_type": "stream",
     "text": [
      "┌───────────────┐\n",
      "│     name      │\n",
      "│    varchar    │\n",
      "├───────────────┤\n",
      "│ BasesWide     │\n",
      "│ Campaigns     │\n",
      "│ Characters    │\n",
      "│ GrowthsWide   │\n",
      "│ StatsCombined │\n",
      "│ Weapons       │\n",
      "└───────────────┘\n",
      "\n"
     ]
    },
    {
     "data": {
      "text/plain": [
       "┌──────────┬───────┬───────┬───────┬───────┬───────┬─────────┬────────────┬────────────┐\n",
       "│   Name   │  HP   │ Power │ Skill │ Speed │ Luck  │ Defense │ Resistance │ CampaignID │\n",
       "│ varchar  │ int64 │ int64 │ int64 │ int64 │ int64 │  int64  │   int64    │   int32    │\n",
       "├──────────┼───────┼───────┼───────┼───────┼───────┼─────────┼────────────┼────────────┤\n",
       "│ Amelia   │    16 │     4 │     3 │     4 │     6 │       2 │          3 │          6 │\n",
       "│ Artur    │    19 │     6 │     6 │     8 │     2 │       2 │          6 │          6 │\n",
       "│ Caellach │    47 │    19 │    14 │    13 │    14 │      15 │         13 │          7 │\n",
       "│ Colm     │    18 │     4 │     4 │    10 │     8 │       3 │          1 │          6 │\n",
       "│ Cormag   │    30 │    14 │     9 │    10 │     4 │      12 │          2 │          6 │\n",
       "│ Dozla    │    43 │    16 │    11 │     9 │     4 │      11 │          6 │          6 │\n",
       "│ Duessel  │    41 │    17 │    12 │    12 │     8 │      17 │          9 │          6 │\n",
       "│ Eirika   │    16 │     4 │     8 │     9 │     5 │       3 │          1 │          6 │\n",
       "│ Ephraim  │    23 │     8 │     9 │    11 │     8 │       7 │          2 │          6 │\n",
       "│ Ewan     │    15 │     3 │     2 │     5 │     5 │       0 │          3 │          6 │\n",
       "├──────────┴───────┴───────┴───────┴───────┴───────┴─────────┴────────────┴────────────┤\n",
       "│ 10 rows                                                                    9 columns │\n",
       "└──────────────────────────────────────────────────────────────────────────────────────┘"
      ]
     },
     "execution_count": 12,
     "metadata": {},
     "output_type": "execute_result"
    }
   ],
   "source": [
    "con.sql(\"show tables\").show()\n",
    "con.sql(\"select * from baseswide limit 10\")"
   ]
  },
  {
   "cell_type": "markdown",
   "id": "5177801a-1f65-44ad-b320-2fc2f4749e07",
   "metadata": {},
   "source": [
    "# Testing DuckDB to Standard Plotly Visualizations"
   ]
  },
  {
   "cell_type": "code",
   "execution_count": 49,
   "id": "a2d7d651-f44b-4f49-94c5-7cec122d6d3a",
   "metadata": {},
   "outputs": [
    {
     "name": "stdout",
     "output_type": "stream",
     "text": [
      "┌─────────┬───────┬───────┬───────┬───────┬───────┬─────────┬────────────┬────────────┐\n",
      "│  Name   │  HP   │ Power │ Skill │ Speed │ Luck  │ Defense │ Resistance │ CampaignID │\n",
      "│ varchar │ int64 │ int64 │ int64 │ int64 │ int64 │  int64  │   int64    │   int32    │\n",
      "├─────────┼───────┼───────┼───────┼───────┼───────┼─────────┼────────────┼────────────┤\n",
      "│ Forde   │    24 │     7 │     8 │     8 │     7 │       8 │          2 │          6 │\n",
      "│ Seth    │    30 │    14 │    13 │    12 │    13 │      11 │          8 │          6 │\n",
      "└─────────┴───────┴───────┴───────┴───────┴───────┴─────────┴────────────┴────────────┘\n",
      "\n"
     ]
    },
    {
     "data": {
      "application/vnd.plotly.v1+json": {
       "config": {
        "plotlyServerURL": "https://plot.ly"
       },
       "data": [
        {
         "alignmentgroup": "True",
         "hovertemplate": "Name=Forde<br>Base Stat=%{x}<br>=%{y}<extra></extra>",
         "legendgroup": "Forde",
         "marker": {
          "color": "#636efa",
          "pattern": {
           "shape": ""
          }
         },
         "name": "Forde",
         "offsetgroup": "Forde",
         "orientation": "h",
         "showlegend": true,
         "textposition": "auto",
         "type": "bar",
         "x": [
          24,
          7,
          8,
          8,
          7,
          8,
          2
         ],
         "xaxis": "x",
         "y": [
          "HP",
          "Power",
          "Skill",
          "Speed",
          "Luck",
          "Defense",
          "Resistance"
         ],
         "yaxis": "y"
        },
        {
         "alignmentgroup": "True",
         "hovertemplate": "Name=Seth<br>Base Stat=%{x}<br>=%{y}<extra></extra>",
         "legendgroup": "Seth",
         "marker": {
          "color": "#EF553B",
          "pattern": {
           "shape": ""
          }
         },
         "name": "Seth",
         "offsetgroup": "Seth",
         "orientation": "h",
         "showlegend": true,
         "textposition": "auto",
         "type": "bar",
         "x": [
          30,
          14,
          13,
          12,
          13,
          11,
          8
         ],
         "xaxis": "x",
         "y": [
          "HP",
          "Power",
          "Skill",
          "Speed",
          "Luck",
          "Defense",
          "Resistance"
         ],
         "yaxis": "y"
        }
       ],
       "layout": {
        "autosize": true,
        "barmode": "group",
        "legend": {
         "title": {
          "text": "Name"
         },
         "tracegroupgap": 0
        },
        "margin": {
         "t": 60
        },
        "template": {
         "data": {
          "bar": [
           {
            "error_x": {
             "color": "#2a3f5f"
            },
            "error_y": {
             "color": "#2a3f5f"
            },
            "marker": {
             "line": {
              "color": "#E5ECF6",
              "width": 0.5
             },
             "pattern": {
              "fillmode": "overlay",
              "size": 10,
              "solidity": 0.2
             }
            },
            "type": "bar"
           }
          ],
          "barpolar": [
           {
            "marker": {
             "line": {
              "color": "#E5ECF6",
              "width": 0.5
             },
             "pattern": {
              "fillmode": "overlay",
              "size": 10,
              "solidity": 0.2
             }
            },
            "type": "barpolar"
           }
          ],
          "carpet": [
           {
            "aaxis": {
             "endlinecolor": "#2a3f5f",
             "gridcolor": "white",
             "linecolor": "white",
             "minorgridcolor": "white",
             "startlinecolor": "#2a3f5f"
            },
            "baxis": {
             "endlinecolor": "#2a3f5f",
             "gridcolor": "white",
             "linecolor": "white",
             "minorgridcolor": "white",
             "startlinecolor": "#2a3f5f"
            },
            "type": "carpet"
           }
          ],
          "choropleth": [
           {
            "colorbar": {
             "outlinewidth": 0,
             "ticks": ""
            },
            "type": "choropleth"
           }
          ],
          "contour": [
           {
            "colorbar": {
             "outlinewidth": 0,
             "ticks": ""
            },
            "colorscale": [
             [
              0,
              "#0d0887"
             ],
             [
              0.1111111111111111,
              "#46039f"
             ],
             [
              0.2222222222222222,
              "#7201a8"
             ],
             [
              0.3333333333333333,
              "#9c179e"
             ],
             [
              0.4444444444444444,
              "#bd3786"
             ],
             [
              0.5555555555555556,
              "#d8576b"
             ],
             [
              0.6666666666666666,
              "#ed7953"
             ],
             [
              0.7777777777777778,
              "#fb9f3a"
             ],
             [
              0.8888888888888888,
              "#fdca26"
             ],
             [
              1,
              "#f0f921"
             ]
            ],
            "type": "contour"
           }
          ],
          "contourcarpet": [
           {
            "colorbar": {
             "outlinewidth": 0,
             "ticks": ""
            },
            "type": "contourcarpet"
           }
          ],
          "heatmap": [
           {
            "colorbar": {
             "outlinewidth": 0,
             "ticks": ""
            },
            "colorscale": [
             [
              0,
              "#0d0887"
             ],
             [
              0.1111111111111111,
              "#46039f"
             ],
             [
              0.2222222222222222,
              "#7201a8"
             ],
             [
              0.3333333333333333,
              "#9c179e"
             ],
             [
              0.4444444444444444,
              "#bd3786"
             ],
             [
              0.5555555555555556,
              "#d8576b"
             ],
             [
              0.6666666666666666,
              "#ed7953"
             ],
             [
              0.7777777777777778,
              "#fb9f3a"
             ],
             [
              0.8888888888888888,
              "#fdca26"
             ],
             [
              1,
              "#f0f921"
             ]
            ],
            "type": "heatmap"
           }
          ],
          "heatmapgl": [
           {
            "colorbar": {
             "outlinewidth": 0,
             "ticks": ""
            },
            "colorscale": [
             [
              0,
              "#0d0887"
             ],
             [
              0.1111111111111111,
              "#46039f"
             ],
             [
              0.2222222222222222,
              "#7201a8"
             ],
             [
              0.3333333333333333,
              "#9c179e"
             ],
             [
              0.4444444444444444,
              "#bd3786"
             ],
             [
              0.5555555555555556,
              "#d8576b"
             ],
             [
              0.6666666666666666,
              "#ed7953"
             ],
             [
              0.7777777777777778,
              "#fb9f3a"
             ],
             [
              0.8888888888888888,
              "#fdca26"
             ],
             [
              1,
              "#f0f921"
             ]
            ],
            "type": "heatmapgl"
           }
          ],
          "histogram": [
           {
            "marker": {
             "pattern": {
              "fillmode": "overlay",
              "size": 10,
              "solidity": 0.2
             }
            },
            "type": "histogram"
           }
          ],
          "histogram2d": [
           {
            "colorbar": {
             "outlinewidth": 0,
             "ticks": ""
            },
            "colorscale": [
             [
              0,
              "#0d0887"
             ],
             [
              0.1111111111111111,
              "#46039f"
             ],
             [
              0.2222222222222222,
              "#7201a8"
             ],
             [
              0.3333333333333333,
              "#9c179e"
             ],
             [
              0.4444444444444444,
              "#bd3786"
             ],
             [
              0.5555555555555556,
              "#d8576b"
             ],
             [
              0.6666666666666666,
              "#ed7953"
             ],
             [
              0.7777777777777778,
              "#fb9f3a"
             ],
             [
              0.8888888888888888,
              "#fdca26"
             ],
             [
              1,
              "#f0f921"
             ]
            ],
            "type": "histogram2d"
           }
          ],
          "histogram2dcontour": [
           {
            "colorbar": {
             "outlinewidth": 0,
             "ticks": ""
            },
            "colorscale": [
             [
              0,
              "#0d0887"
             ],
             [
              0.1111111111111111,
              "#46039f"
             ],
             [
              0.2222222222222222,
              "#7201a8"
             ],
             [
              0.3333333333333333,
              "#9c179e"
             ],
             [
              0.4444444444444444,
              "#bd3786"
             ],
             [
              0.5555555555555556,
              "#d8576b"
             ],
             [
              0.6666666666666666,
              "#ed7953"
             ],
             [
              0.7777777777777778,
              "#fb9f3a"
             ],
             [
              0.8888888888888888,
              "#fdca26"
             ],
             [
              1,
              "#f0f921"
             ]
            ],
            "type": "histogram2dcontour"
           }
          ],
          "mesh3d": [
           {
            "colorbar": {
             "outlinewidth": 0,
             "ticks": ""
            },
            "type": "mesh3d"
           }
          ],
          "parcoords": [
           {
            "line": {
             "colorbar": {
              "outlinewidth": 0,
              "ticks": ""
             }
            },
            "type": "parcoords"
           }
          ],
          "pie": [
           {
            "automargin": true,
            "type": "pie"
           }
          ],
          "scatter": [
           {
            "fillpattern": {
             "fillmode": "overlay",
             "size": 10,
             "solidity": 0.2
            },
            "type": "scatter"
           }
          ],
          "scatter3d": [
           {
            "line": {
             "colorbar": {
              "outlinewidth": 0,
              "ticks": ""
             }
            },
            "marker": {
             "colorbar": {
              "outlinewidth": 0,
              "ticks": ""
             }
            },
            "type": "scatter3d"
           }
          ],
          "scattercarpet": [
           {
            "marker": {
             "colorbar": {
              "outlinewidth": 0,
              "ticks": ""
             }
            },
            "type": "scattercarpet"
           }
          ],
          "scattergeo": [
           {
            "marker": {
             "colorbar": {
              "outlinewidth": 0,
              "ticks": ""
             }
            },
            "type": "scattergeo"
           }
          ],
          "scattergl": [
           {
            "marker": {
             "colorbar": {
              "outlinewidth": 0,
              "ticks": ""
             }
            },
            "type": "scattergl"
           }
          ],
          "scattermapbox": [
           {
            "marker": {
             "colorbar": {
              "outlinewidth": 0,
              "ticks": ""
             }
            },
            "type": "scattermapbox"
           }
          ],
          "scatterpolar": [
           {
            "marker": {
             "colorbar": {
              "outlinewidth": 0,
              "ticks": ""
             }
            },
            "type": "scatterpolar"
           }
          ],
          "scatterpolargl": [
           {
            "marker": {
             "colorbar": {
              "outlinewidth": 0,
              "ticks": ""
             }
            },
            "type": "scatterpolargl"
           }
          ],
          "scatterternary": [
           {
            "marker": {
             "colorbar": {
              "outlinewidth": 0,
              "ticks": ""
             }
            },
            "type": "scatterternary"
           }
          ],
          "surface": [
           {
            "colorbar": {
             "outlinewidth": 0,
             "ticks": ""
            },
            "colorscale": [
             [
              0,
              "#0d0887"
             ],
             [
              0.1111111111111111,
              "#46039f"
             ],
             [
              0.2222222222222222,
              "#7201a8"
             ],
             [
              0.3333333333333333,
              "#9c179e"
             ],
             [
              0.4444444444444444,
              "#bd3786"
             ],
             [
              0.5555555555555556,
              "#d8576b"
             ],
             [
              0.6666666666666666,
              "#ed7953"
             ],
             [
              0.7777777777777778,
              "#fb9f3a"
             ],
             [
              0.8888888888888888,
              "#fdca26"
             ],
             [
              1,
              "#f0f921"
             ]
            ],
            "type": "surface"
           }
          ],
          "table": [
           {
            "cells": {
             "fill": {
              "color": "#EBF0F8"
             },
             "line": {
              "color": "white"
             }
            },
            "header": {
             "fill": {
              "color": "#C8D4E3"
             },
             "line": {
              "color": "white"
             }
            },
            "type": "table"
           }
          ]
         },
         "layout": {
          "annotationdefaults": {
           "arrowcolor": "#2a3f5f",
           "arrowhead": 0,
           "arrowwidth": 1
          },
          "autotypenumbers": "strict",
          "coloraxis": {
           "colorbar": {
            "outlinewidth": 0,
            "ticks": ""
           }
          },
          "colorscale": {
           "diverging": [
            [
             0,
             "#8e0152"
            ],
            [
             0.1,
             "#c51b7d"
            ],
            [
             0.2,
             "#de77ae"
            ],
            [
             0.3,
             "#f1b6da"
            ],
            [
             0.4,
             "#fde0ef"
            ],
            [
             0.5,
             "#f7f7f7"
            ],
            [
             0.6,
             "#e6f5d0"
            ],
            [
             0.7,
             "#b8e186"
            ],
            [
             0.8,
             "#7fbc41"
            ],
            [
             0.9,
             "#4d9221"
            ],
            [
             1,
             "#276419"
            ]
           ],
           "sequential": [
            [
             0,
             "#0d0887"
            ],
            [
             0.1111111111111111,
             "#46039f"
            ],
            [
             0.2222222222222222,
             "#7201a8"
            ],
            [
             0.3333333333333333,
             "#9c179e"
            ],
            [
             0.4444444444444444,
             "#bd3786"
            ],
            [
             0.5555555555555556,
             "#d8576b"
            ],
            [
             0.6666666666666666,
             "#ed7953"
            ],
            [
             0.7777777777777778,
             "#fb9f3a"
            ],
            [
             0.8888888888888888,
             "#fdca26"
            ],
            [
             1,
             "#f0f921"
            ]
           ],
           "sequentialminus": [
            [
             0,
             "#0d0887"
            ],
            [
             0.1111111111111111,
             "#46039f"
            ],
            [
             0.2222222222222222,
             "#7201a8"
            ],
            [
             0.3333333333333333,
             "#9c179e"
            ],
            [
             0.4444444444444444,
             "#bd3786"
            ],
            [
             0.5555555555555556,
             "#d8576b"
            ],
            [
             0.6666666666666666,
             "#ed7953"
            ],
            [
             0.7777777777777778,
             "#fb9f3a"
            ],
            [
             0.8888888888888888,
             "#fdca26"
            ],
            [
             1,
             "#f0f921"
            ]
           ]
          },
          "colorway": [
           "#636efa",
           "#EF553B",
           "#00cc96",
           "#ab63fa",
           "#FFA15A",
           "#19d3f3",
           "#FF6692",
           "#B6E880",
           "#FF97FF",
           "#FECB52"
          ],
          "font": {
           "color": "#2a3f5f"
          },
          "geo": {
           "bgcolor": "white",
           "lakecolor": "white",
           "landcolor": "#E5ECF6",
           "showlakes": true,
           "showland": true,
           "subunitcolor": "white"
          },
          "hoverlabel": {
           "align": "left"
          },
          "hovermode": "closest",
          "mapbox": {
           "style": "light"
          },
          "paper_bgcolor": "white",
          "plot_bgcolor": "#E5ECF6",
          "polar": {
           "angularaxis": {
            "gridcolor": "white",
            "linecolor": "white",
            "ticks": ""
           },
           "bgcolor": "#E5ECF6",
           "radialaxis": {
            "gridcolor": "white",
            "linecolor": "white",
            "ticks": ""
           }
          },
          "scene": {
           "xaxis": {
            "backgroundcolor": "#E5ECF6",
            "gridcolor": "white",
            "gridwidth": 2,
            "linecolor": "white",
            "showbackground": true,
            "ticks": "",
            "zerolinecolor": "white"
           },
           "yaxis": {
            "backgroundcolor": "#E5ECF6",
            "gridcolor": "white",
            "gridwidth": 2,
            "linecolor": "white",
            "showbackground": true,
            "ticks": "",
            "zerolinecolor": "white"
           },
           "zaxis": {
            "backgroundcolor": "#E5ECF6",
            "gridcolor": "white",
            "gridwidth": 2,
            "linecolor": "white",
            "showbackground": true,
            "ticks": "",
            "zerolinecolor": "white"
           }
          },
          "shapedefaults": {
           "line": {
            "color": "#2a3f5f"
           }
          },
          "ternary": {
           "aaxis": {
            "gridcolor": "white",
            "linecolor": "white",
            "ticks": ""
           },
           "baxis": {
            "gridcolor": "white",
            "linecolor": "white",
            "ticks": ""
           },
           "bgcolor": "#E5ECF6",
           "caxis": {
            "gridcolor": "white",
            "linecolor": "white",
            "ticks": ""
           }
          },
          "title": {
           "x": 0.05
          },
          "xaxis": {
           "automargin": true,
           "gridcolor": "white",
           "linecolor": "white",
           "ticks": "",
           "title": {
            "standoff": 15
           },
           "zerolinecolor": "white",
           "zerolinewidth": 2
          },
          "yaxis": {
           "automargin": true,
           "gridcolor": "white",
           "linecolor": "white",
           "ticks": "",
           "title": {
            "standoff": 15
           },
           "zerolinecolor": "white",
           "zerolinewidth": 2
          }
         }
        },
        "xaxis": {
         "anchor": "y",
         "autorange": true,
         "domain": [
          0,
          1
         ],
         "range": [
          0,
          31.57894736842105
         ],
         "title": {
          "text": "Base Stat"
         },
         "type": "linear"
        },
        "yaxis": {
         "anchor": "x",
         "autorange": true,
         "domain": [
          0,
          1
         ],
         "range": [
          -0.5,
          6.5
         ],
         "title": {
          "text": ""
         },
         "type": "category"
        }
       }
      },
      "image/png": "[encoded data removed]",
      "text/html": [
       "<div>                            <div id=\"ad243d17-a84c-4542-af1a-8bb15496b9d5\" class=\"plotly-graph-div\" style=\"height:525px; width:100%;\"></div>            <script type=\"text/javascript\">                require([\"plotly\"], function(Plotly) {                    window.PLOTLYENV=window.PLOTLYENV || {};                                    if (document.getElementById(\"ad243d17-a84c-4542-af1a-8bb15496b9d5\")) {                    Plotly.newPlot(                        \"ad243d17-a84c-4542-af1a-8bb15496b9d5\",                        [{\"alignmentgroup\":\"True\",\"hovertemplate\":\"Name=Forde\\u003cbr\\u003eBase Stat=%{x}\\u003cbr\\u003e=%{y}\\u003cextra\\u003e\\u003c\\u002fextra\\u003e\",\"legendgroup\":\"Forde\",\"marker\":{\"color\":\"#636efa\",\"pattern\":{\"shape\":\"\"}},\"name\":\"Forde\",\"offsetgroup\":\"Forde\",\"orientation\":\"h\",\"showlegend\":true,\"textposition\":\"auto\",\"x\":[24,7,8,8,7,8,2],\"xaxis\":\"x\",\"y\":[\"HP\",\"Power\",\"Skill\",\"Speed\",\"Luck\",\"Defense\",\"Resistance\"],\"yaxis\":\"y\",\"type\":\"bar\"},{\"alignmentgroup\":\"True\",\"hovertemplate\":\"Name=Seth\\u003cbr\\u003eBase Stat=%{x}\\u003cbr\\u003e=%{y}\\u003cextra\\u003e\\u003c\\u002fextra\\u003e\",\"legendgroup\":\"Seth\",\"marker\":{\"color\":\"#EF553B\",\"pattern\":{\"shape\":\"\"}},\"name\":\"Seth\",\"offsetgroup\":\"Seth\",\"orientation\":\"h\",\"showlegend\":true,\"textposition\":\"auto\",\"x\":[30,14,13,12,13,11,8],\"xaxis\":\"x\",\"y\":[\"HP\",\"Power\",\"Skill\",\"Speed\",\"Luck\",\"Defense\",\"Resistance\"],\"yaxis\":\"y\",\"type\":\"bar\"}],                        {\"template\":{\"data\":{\"histogram2dcontour\":[{\"type\":\"histogram2dcontour\",\"colorbar\":{\"outlinewidth\":0,\"ticks\":\"\"},\"colorscale\":[[0.0,\"#0d0887\"],[0.1111111111111111,\"#46039f\"],[0.2222222222222222,\"#7201a8\"],[0.3333333333333333,\"#9c179e\"],[0.4444444444444444,\"#bd3786\"],[0.5555555555555556,\"#d8576b\"],[0.6666666666666666,\"#ed7953\"],[0.7777777777777778,\"#fb9f3a\"],[0.8888888888888888,\"#fdca26\"],[1.0,\"#f0f921\"]]}],\"choropleth\":[{\"type\":\"choropleth\",\"colorbar\":{\"outlinewidth\":0,\"ticks\":\"\"}}],\"histogram2d\":[{\"type\":\"histogram2d\",\"colorbar\":{\"outlinewidth\":0,\"ticks\":\"\"},\"colorscale\":[[0.0,\"#0d0887\"],[0.1111111111111111,\"#46039f\"],[0.2222222222222222,\"#7201a8\"],[0.3333333333333333,\"#9c179e\"],[0.4444444444444444,\"#bd3786\"],[0.5555555555555556,\"#d8576b\"],[0.6666666666666666,\"#ed7953\"],[0.7777777777777778,\"#fb9f3a\"],[0.8888888888888888,\"#fdca26\"],[1.0,\"#f0f921\"]]}],\"heatmap\":[{\"type\":\"heatmap\",\"colorbar\":{\"outlinewidth\":0,\"ticks\":\"\"},\"colorscale\":[[0.0,\"#0d0887\"],[0.1111111111111111,\"#46039f\"],[0.2222222222222222,\"#7201a8\"],[0.3333333333333333,\"#9c179e\"],[0.4444444444444444,\"#bd3786\"],[0.5555555555555556,\"#d8576b\"],[0.6666666666666666,\"#ed7953\"],[0.7777777777777778,\"#fb9f3a\"],[0.8888888888888888,\"#fdca26\"],[1.0,\"#f0f921\"]]}],\"heatmapgl\":[{\"type\":\"heatmapgl\",\"colorbar\":{\"outlinewidth\":0,\"ticks\":\"\"},\"colorscale\":[[0.0,\"#0d0887\"],[0.1111111111111111,\"#46039f\"],[0.2222222222222222,\"#7201a8\"],[0.3333333333333333,\"#9c179e\"],[0.4444444444444444,\"#bd3786\"],[0.5555555555555556,\"#d8576b\"],[0.6666666666666666,\"#ed7953\"],[0.7777777777777778,\"#fb9f3a\"],[0.8888888888888888,\"#fdca26\"],[1.0,\"#f0f921\"]]}],\"contourcarpet\":[{\"type\":\"contourcarpet\",\"colorbar\":{\"outlinewidth\":0,\"ticks\":\"\"}}],\"contour\":[{\"type\":\"contour\",\"colorbar\":{\"outlinewidth\":0,\"ticks\":\"\"},\"colorscale\":[[0.0,\"#0d0887\"],[0.1111111111111111,\"#46039f\"],[0.2222222222222222,\"#7201a8\"],[0.3333333333333333,\"#9c179e\"],[0.4444444444444444,\"#bd3786\"],[0.5555555555555556,\"#d8576b\"],[0.6666666666666666,\"#ed7953\"],[0.7777777777777778,\"#fb9f3a\"],[0.8888888888888888,\"#fdca26\"],[1.0,\"#f0f921\"]]}],\"surface\":[{\"type\":\"surface\",\"colorbar\":{\"outlinewidth\":0,\"ticks\":\"\"},\"colorscale\":[[0.0,\"#0d0887\"],[0.1111111111111111,\"#46039f\"],[0.2222222222222222,\"#7201a8\"],[0.3333333333333333,\"#9c179e\"],[0.4444444444444444,\"#bd3786\"],[0.5555555555555556,\"#d8576b\"],[0.6666666666666666,\"#ed7953\"],[0.7777777777777778,\"#fb9f3a\"],[0.8888888888888888,\"#fdca26\"],[1.0,\"#f0f921\"]]}],\"mesh3d\":[{\"type\":\"mesh3d\",\"colorbar\":{\"outlinewidth\":0,\"ticks\":\"\"}}],\"scatter\":[{\"fillpattern\":{\"fillmode\":\"overlay\",\"size\":10,\"solidity\":0.2},\"type\":\"scatter\"}],\"parcoords\":[{\"type\":\"parcoords\",\"line\":{\"colorbar\":{\"outlinewidth\":0,\"ticks\":\"\"}}}],\"scatterpolargl\":[{\"type\":\"scatterpolargl\",\"marker\":{\"colorbar\":{\"outlinewidth\":0,\"ticks\":\"\"}}}],\"bar\":[{\"error_x\":{\"color\":\"#2a3f5f\"},\"error_y\":{\"color\":\"#2a3f5f\"},\"marker\":{\"line\":{\"color\":\"#E5ECF6\",\"width\":0.5},\"pattern\":{\"fillmode\":\"overlay\",\"size\":10,\"solidity\":0.2}},\"type\":\"bar\"}],\"scattergeo\":[{\"type\":\"scattergeo\",\"marker\":{\"colorbar\":{\"outlinewidth\":0,\"ticks\":\"\"}}}],\"scatterpolar\":[{\"type\":\"scatterpolar\",\"marker\":{\"colorbar\":{\"outlinewidth\":0,\"ticks\":\"\"}}}],\"histogram\":[{\"marker\":{\"pattern\":{\"fillmode\":\"overlay\",\"size\":10,\"solidity\":0.2}},\"type\":\"histogram\"}],\"scattergl\":[{\"type\":\"scattergl\",\"marker\":{\"colorbar\":{\"outlinewidth\":0,\"ticks\":\"\"}}}],\"scatter3d\":[{\"type\":\"scatter3d\",\"line\":{\"colorbar\":{\"outlinewidth\":0,\"ticks\":\"\"}},\"marker\":{\"colorbar\":{\"outlinewidth\":0,\"ticks\":\"\"}}}],\"scattermapbox\":[{\"type\":\"scattermapbox\",\"marker\":{\"colorbar\":{\"outlinewidth\":0,\"ticks\":\"\"}}}],\"scatterternary\":[{\"type\":\"scatterternary\",\"marker\":{\"colorbar\":{\"outlinewidth\":0,\"ticks\":\"\"}}}],\"scattercarpet\":[{\"type\":\"scattercarpet\",\"marker\":{\"colorbar\":{\"outlinewidth\":0,\"ticks\":\"\"}}}],\"carpet\":[{\"aaxis\":{\"endlinecolor\":\"#2a3f5f\",\"gridcolor\":\"white\",\"linecolor\":\"white\",\"minorgridcolor\":\"white\",\"startlinecolor\":\"#2a3f5f\"},\"baxis\":{\"endlinecolor\":\"#2a3f5f\",\"gridcolor\":\"white\",\"linecolor\":\"white\",\"minorgridcolor\":\"white\",\"startlinecolor\":\"#2a3f5f\"},\"type\":\"carpet\"}],\"table\":[{\"cells\":{\"fill\":{\"color\":\"#EBF0F8\"},\"line\":{\"color\":\"white\"}},\"header\":{\"fill\":{\"color\":\"#C8D4E3\"},\"line\":{\"color\":\"white\"}},\"type\":\"table\"}],\"barpolar\":[{\"marker\":{\"line\":{\"color\":\"#E5ECF6\",\"width\":0.5},\"pattern\":{\"fillmode\":\"overlay\",\"size\":10,\"solidity\":0.2}},\"type\":\"barpolar\"}],\"pie\":[{\"automargin\":true,\"type\":\"pie\"}]},\"layout\":{\"autotypenumbers\":\"strict\",\"colorway\":[\"#636efa\",\"#EF553B\",\"#00cc96\",\"#ab63fa\",\"#FFA15A\",\"#19d3f3\",\"#FF6692\",\"#B6E880\",\"#FF97FF\",\"#FECB52\"],\"font\":{\"color\":\"#2a3f5f\"},\"hovermode\":\"closest\",\"hoverlabel\":{\"align\":\"left\"},\"paper_bgcolor\":\"white\",\"plot_bgcolor\":\"#E5ECF6\",\"polar\":{\"bgcolor\":\"#E5ECF6\",\"angularaxis\":{\"gridcolor\":\"white\",\"linecolor\":\"white\",\"ticks\":\"\"},\"radialaxis\":{\"gridcolor\":\"white\",\"linecolor\":\"white\",\"ticks\":\"\"}},\"ternary\":{\"bgcolor\":\"#E5ECF6\",\"aaxis\":{\"gridcolor\":\"white\",\"linecolor\":\"white\",\"ticks\":\"\"},\"baxis\":{\"gridcolor\":\"white\",\"linecolor\":\"white\",\"ticks\":\"\"},\"caxis\":{\"gridcolor\":\"white\",\"linecolor\":\"white\",\"ticks\":\"\"}},\"coloraxis\":{\"colorbar\":{\"outlinewidth\":0,\"ticks\":\"\"}},\"colorscale\":{\"sequential\":[[0.0,\"#0d0887\"],[0.1111111111111111,\"#46039f\"],[0.2222222222222222,\"#7201a8\"],[0.3333333333333333,\"#9c179e\"],[0.4444444444444444,\"#bd3786\"],[0.5555555555555556,\"#d8576b\"],[0.6666666666666666,\"#ed7953\"],[0.7777777777777778,\"#fb9f3a\"],[0.8888888888888888,\"#fdca26\"],[1.0,\"#f0f921\"]],\"sequentialminus\":[[0.0,\"#0d0887\"],[0.1111111111111111,\"#46039f\"],[0.2222222222222222,\"#7201a8\"],[0.3333333333333333,\"#9c179e\"],[0.4444444444444444,\"#bd3786\"],[0.5555555555555556,\"#d8576b\"],[0.6666666666666666,\"#ed7953\"],[0.7777777777777778,\"#fb9f3a\"],[0.8888888888888888,\"#fdca26\"],[1.0,\"#f0f921\"]],\"diverging\":[[0,\"#8e0152\"],[0.1,\"#c51b7d\"],[0.2,\"#de77ae\"],[0.3,\"#f1b6da\"],[0.4,\"#fde0ef\"],[0.5,\"#f7f7f7\"],[0.6,\"#e6f5d0\"],[0.7,\"#b8e186\"],[0.8,\"#7fbc41\"],[0.9,\"#4d9221\"],[1,\"#276419\"]]},\"xaxis\":{\"gridcolor\":\"white\",\"linecolor\":\"white\",\"ticks\":\"\",\"title\":{\"standoff\":15},\"zerolinecolor\":\"white\",\"automargin\":true,\"zerolinewidth\":2},\"yaxis\":{\"gridcolor\":\"white\",\"linecolor\":\"white\",\"ticks\":\"\",\"title\":{\"standoff\":15},\"zerolinecolor\":\"white\",\"automargin\":true,\"zerolinewidth\":2},\"scene\":{\"xaxis\":{\"backgroundcolor\":\"#E5ECF6\",\"gridcolor\":\"white\",\"linecolor\":\"white\",\"showbackground\":true,\"ticks\":\"\",\"zerolinecolor\":\"white\",\"gridwidth\":2},\"yaxis\":{\"backgroundcolor\":\"#E5ECF6\",\"gridcolor\":\"white\",\"linecolor\":\"white\",\"showbackground\":true,\"ticks\":\"\",\"zerolinecolor\":\"white\",\"gridwidth\":2},\"zaxis\":{\"backgroundcolor\":\"#E5ECF6\",\"gridcolor\":\"white\",\"linecolor\":\"white\",\"showbackground\":true,\"ticks\":\"\",\"zerolinecolor\":\"white\",\"gridwidth\":2}},\"shapedefaults\":{\"line\":{\"color\":\"#2a3f5f\"}},\"annotationdefaults\":{\"arrowcolor\":\"#2a3f5f\",\"arrowhead\":0,\"arrowwidth\":1},\"geo\":{\"bgcolor\":\"white\",\"landcolor\":\"#E5ECF6\",\"subunitcolor\":\"white\",\"showland\":true,\"showlakes\":true,\"lakecolor\":\"white\"},\"title\":{\"x\":0.05},\"mapbox\":{\"style\":\"light\"}}},\"xaxis\":{\"anchor\":\"y\",\"domain\":[0.0,1.0],\"title\":{\"text\":\"Base Stat\"}},\"yaxis\":{\"anchor\":\"x\",\"domain\":[0.0,1.0],\"title\":{\"text\":\"\"}},\"legend\":{\"title\":{\"text\":\"Name\"},\"tracegroupgap\":0},\"margin\":{\"t\":60},\"barmode\":\"group\"},                        {\"responsive\": true}                    ).then(function(){\n",
       "                            \n",
       "var gd = document.getElementById('ad243d17-a84c-4542-af1a-8bb15496b9d5');\n",
       "var x = new MutationObserver(function (mutations, observer) {{\n",
       "        var display = window.getComputedStyle(gd).display;\n",
       "        if (!display || display === 'none') {{\n",
       "            console.log([gd, 'removed!']);\n",
       "            Plotly.purge(gd);\n",
       "            observer.disconnect();\n",
       "        }}\n",
       "}});\n",
       "\n",
       "// Listen for the removal of the full notebook cells\n",
       "var notebookContainer = gd.closest('#notebook-container');\n",
       "if (notebookContainer) {{\n",
       "    x.observe(notebookContainer, {childList: true});\n",
       "}}\n",
       "\n",
       "// Listen for the clearing of the current output cell\n",
       "var outputEl = gd.closest('.output');\n",
       "if (outputEl) {{\n",
       "    x.observe(outputEl, {childList: true});\n",
       "}}\n",
       "\n",
       "                        })                };                });            </script>        </div>"
      ]
     },
     "metadata": {},
     "output_type": "display_data"
    }
   ],
   "source": [
    "import plotly.express as px\n",
    "\n",
    "table = con.sql(\n",
    "    \"\"\"\n",
    "    SELECT *\n",
    "    FROM baseswide\n",
    "    WHERE name in ('Forde', 'Seth')\n",
    "    \"\"\"\n",
    ")\n",
    "\n",
    "table.show()\n",
    "df = table.pl()\n",
    "# Pivot to long format\n",
    "df = df.melt(id_vars=[\"Name\", \"CampaignID\"])\n",
    "\n",
    "fig = px.bar(\n",
    "    df, y=\"variable\", x=\"value\", color=\"Name\", barmode=\"group\",\n",
    "    labels={\"value\": \"Base Stat\", \"variable\": \"\"}\n",
    ")\n",
    "fig.show()"
   ]
  },
  {
   "cell_type": "code",
   "execution_count": null,
   "id": "80b1ff0e-9c02-4d9b-8eeb-5322869a50bd",
   "metadata": {},
   "outputs": [],
   "source": []
  }
 ],
 "metadata": {
  "kernelspec": {
   "display_name": "Python 3 (ipykernel)",
   "language": "python",
   "name": "python3"
  },
  "language_info": {
   "codemirror_mode": {
    "name": "ipython",
    "version": 3
   },
   "file_extension": ".py",
   "mimetype": "text/x-python",
   "name": "python",
   "nbconvert_exporter": "python",
   "pygments_lexer": "ipython3",
   "version": "3.11.9"
  }
 },
 "nbformat": 4,
 "nbformat_minor": 5
}
