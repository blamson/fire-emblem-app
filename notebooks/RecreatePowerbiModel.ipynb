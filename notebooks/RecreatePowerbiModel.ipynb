{
 "cells": [
  {
   "cell_type": "markdown",
   "id": "b70b5bbc-30e0-4ba7-946a-f0cb8dceb22f",
   "metadata": {},
   "source": [
    "Date Began: May 20, 2024\n",
    "\n",
    "The goal here is to do a lot of cleaning and model building that's annoying to do in PowerBI desktop in python. I have a better idea of how I want my semantic model to look and it's easier to just clean this all up here. \n",
    "\n",
    "We'll also be doing all of this using `Polars` as I've never used it before!\n",
    "\n",
    "# Data Loading"
   ]
  },
  {
   "cell_type": "code",
   "execution_count": 1,
   "id": "b41ff768-5e08-4e65-9054-e4a4f0e6e6e7",
   "metadata": {},
   "outputs": [],
   "source": [
    "import polars as pl"
   ]
  },
  {
   "cell_type": "code",
   "execution_count": 2,
   "id": "b8345216-f394-4c1b-a127-403266360417",
   "metadata": {},
   "outputs": [
    {
     "data": {
      "text/plain": [
       "{'Characters': shape: (43, 3)\n",
       " ┌──────────┬───────────────────┬─────┐\n",
       " │ Name     ┆ Game              ┆ ID  │\n",
       " │ ---      ┆ ---               ┆ --- │\n",
       " │ str      ┆ str               ┆ i64 │\n",
       " ╞══════════╪═══════════════════╪═════╡\n",
       " │ Amelia   ┆ the-sacred-stones ┆ 0   │\n",
       " │ Artur    ┆ the-sacred-stones ┆ 1   │\n",
       " │ Caellach ┆ the-sacred-stones ┆ 2   │\n",
       " │ Colm     ┆ the-sacred-stones ┆ 3   │\n",
       " │ Cormag   ┆ the-sacred-stones ┆ 4   │\n",
       " │ …        ┆ …                 ┆ …   │\n",
       " │ Syrene   ┆ the-sacred-stones ┆ 38  │\n",
       " │ Tana     ┆ the-sacred-stones ┆ 39  │\n",
       " │ Tethys   ┆ the-sacred-stones ┆ 40  │\n",
       " │ Valter   ┆ the-sacred-stones ┆ 41  │\n",
       " │ Vanessa  ┆ the-sacred-stones ┆ 42  │\n",
       " └──────────┴───────────────────┴─────┘,\n",
       " 'Weapons': shape: (61, 4)\n",
       " ┌──────────┬───────────────────┬──────┬────────┐\n",
       " │ Name     ┆ creature_campaign ┆ Rank ┆ Weapon │\n",
       " │ ---      ┆ ---               ┆ ---  ┆ ---    │\n",
       " │ str      ┆ bool              ┆ str  ┆ str    │\n",
       " ╞══════════╪═══════════════════╪══════╪════════╡\n",
       " │ Amelia   ┆ false             ┆ E    ┆ Lance  │\n",
       " │ Artur    ┆ false             ┆ E    ┆ Light  │\n",
       " │ Caellach ┆ true              ┆ A    ┆ Sword  │\n",
       " │ Caellach ┆ true              ┆ A    ┆ Axe    │\n",
       " │ Colm     ┆ false             ┆ E    ┆ Sword  │\n",
       " │ …        ┆ …                 ┆ …    ┆ …      │\n",
       " │ Syrene   ┆ false             ┆ C    ┆ Sword  │\n",
       " │ Syrene   ┆ false             ┆ A    ┆ Lance  │\n",
       " │ Tana     ┆ false             ┆ D    ┆ Lance  │\n",
       " │ Valter   ┆ true              ┆ S    ┆ Lance  │\n",
       " │ Vanessa  ┆ false             ┆ D    ┆ Lance  │\n",
       " └──────────┴───────────────────┴──────┴────────┘,\n",
       " 'BasesWide': shape: (44, 9)\n",
       " ┌──────────┬─────┬───────┬───────┬───┬──────┬─────────┬────────────┬───────────────────┐\n",
       " │ Name     ┆ HP  ┆ Power ┆ Skill ┆ … ┆ Luck ┆ Defense ┆ Resistance ┆ creature_campaign │\n",
       " │ ---      ┆ --- ┆ ---   ┆ ---   ┆   ┆ ---  ┆ ---     ┆ ---        ┆ ---               │\n",
       " │ str      ┆ i64 ┆ i64   ┆ i64   ┆   ┆ i64  ┆ i64     ┆ i64        ┆ bool              │\n",
       " ╞══════════╪═════╪═══════╪═══════╪═══╪══════╪═════════╪════════════╪═══════════════════╡\n",
       " │ Amelia   ┆ 16  ┆ 4     ┆ 3     ┆ … ┆ 6    ┆ 2       ┆ 3          ┆ false             │\n",
       " │ Artur    ┆ 19  ┆ 6     ┆ 6     ┆ … ┆ 2    ┆ 2       ┆ 6          ┆ false             │\n",
       " │ Caellach ┆ 47  ┆ 19    ┆ 14    ┆ … ┆ 14   ┆ 15      ┆ 13         ┆ true              │\n",
       " │ Colm     ┆ 18  ┆ 4     ┆ 4     ┆ … ┆ 8    ┆ 3       ┆ 1          ┆ false             │\n",
       " │ Cormag   ┆ 30  ┆ 14    ┆ 9     ┆ … ┆ 4    ┆ 12      ┆ 2          ┆ false             │\n",
       " │ …        ┆ …   ┆ …     ┆ …     ┆ … ┆ …    ┆ …       ┆ …          ┆ …                 │\n",
       " │ Syrene   ┆ 27  ┆ 12    ┆ 13    ┆ … ┆ 12   ┆ 10      ┆ 12         ┆ false             │\n",
       " │ Tana     ┆ 20  ┆ 7     ┆ 9     ┆ … ┆ 8    ┆ 6       ┆ 7          ┆ false             │\n",
       " │ Tethys   ┆ 18  ┆ 1     ┆ 2     ┆ … ┆ 10   ┆ 5       ┆ 4          ┆ false             │\n",
       " │ Valter   ┆ 45  ┆ 19    ┆ 17    ┆ … ┆ 3    ┆ 13      ┆ 12         ┆ true              │\n",
       " │ Vanessa  ┆ 17  ┆ 5     ┆ 7     ┆ … ┆ 4    ┆ 6       ┆ 5          ┆ false             │\n",
       " └──────────┴─────┴───────┴───────┴───┴──────┴─────────┴────────────┴───────────────────┘,\n",
       " 'GrowthsWide': shape: (44, 10)\n",
       " ┌──────────┬─────┬───────┬───────┬───┬─────────┬────────────┬───────────────────┬──────────────────┐\n",
       " │ Name     ┆ HP  ┆ Power ┆ Skill ┆ … ┆ Defense ┆ Resistance ┆ Game              ┆ creature_campaig │\n",
       " │ ---      ┆ --- ┆ ---   ┆ ---   ┆   ┆ ---     ┆ ---        ┆ ---               ┆ n                │\n",
       " │ str      ┆ i64 ┆ i64   ┆ i64   ┆   ┆ i64     ┆ i64        ┆ str               ┆ ---              │\n",
       " │          ┆     ┆       ┆       ┆   ┆         ┆            ┆                   ┆ bool             │\n",
       " ╞══════════╪═════╪═══════╪═══════╪═══╪═════════╪════════════╪═══════════════════╪══════════════════╡\n",
       " │ Amelia   ┆ 60  ┆ 35    ┆ 40    ┆ … ┆ 30      ┆ 15         ┆ the-sacred-stones ┆ false            │\n",
       " │ Artur    ┆ 55  ┆ 50    ┆ 50    ┆ … ┆ 15      ┆ 55         ┆ the-sacred-stones ┆ false            │\n",
       " │ Caellach ┆ 85  ┆ 50    ┆ 45    ┆ … ┆ 30      ┆ 20         ┆ the-sacred-stones ┆ true             │\n",
       " │ Colm     ┆ 75  ┆ 40    ┆ 40    ┆ … ┆ 25      ┆ 20         ┆ the-sacred-stones ┆ false            │\n",
       " │ Cormag   ┆ 85  ┆ 55    ┆ 40    ┆ … ┆ 25      ┆ 15         ┆ the-sacred-stones ┆ false            │\n",
       " │ …        ┆ …   ┆ …     ┆ …     ┆ … ┆ …       ┆ …          ┆ …                 ┆ …                │\n",
       " │ Syrene   ┆ 70  ┆ 40    ┆ 50    ┆ … ┆ 20      ┆ 50         ┆ the-sacred-stones ┆ false            │\n",
       " │ Tana     ┆ 65  ┆ 45    ┆ 40    ┆ … ┆ 20      ┆ 25         ┆ the-sacred-stones ┆ false            │\n",
       " │ Tethys   ┆ 85  ┆ 5     ┆ 10    ┆ … ┆ 30      ┆ 75         ┆ the-sacred-stones ┆ false            │\n",
       " │ Valter   ┆ 80  ┆ 40    ┆ 55    ┆ … ┆ 20      ┆ 20         ┆ the-sacred-stones ┆ true             │\n",
       " │ Vanessa  ┆ 50  ┆ 35    ┆ 55    ┆ … ┆ 20      ┆ 30         ┆ the-sacred-stones ┆ false            │\n",
       " └──────────┴─────┴───────┴───────┴───┴─────────┴────────────┴───────────────────┴──────────────────┘,\n",
       " 'StatsCombined': shape: (308, 5)\n",
       " ┌─────────┬────────────────┬────────────┬───────────┬─────────────┐\n",
       " │ Name    ┆ BonusCharacter ┆ Attribute  ┆ BaseValue ┆ GrowthValue │\n",
       " │ ---     ┆ ---            ┆ ---        ┆ ---       ┆ ---         │\n",
       " │ str     ┆ bool           ┆ str        ┆ i64       ┆ i64         │\n",
       " ╞═════════╪════════════════╪════════════╪═══════════╪═════════════╡\n",
       " │ Amelia  ┆ false          ┆ HP         ┆ 16        ┆ 60          │\n",
       " │ Amelia  ┆ false          ┆ Power      ┆ 4         ┆ 35          │\n",
       " │ Amelia  ┆ false          ┆ Skill      ┆ 3         ┆ 40          │\n",
       " │ Amelia  ┆ false          ┆ Speed      ┆ 4         ┆ 40          │\n",
       " │ Amelia  ┆ false          ┆ Luck       ┆ 6         ┆ 50          │\n",
       " │ …       ┆ …              ┆ …          ┆ …         ┆ …           │\n",
       " │ Vanessa ┆ false          ┆ Skill      ┆ 7         ┆ 55          │\n",
       " │ Vanessa ┆ false          ┆ Speed      ┆ 11        ┆ 60          │\n",
       " │ Vanessa ┆ false          ┆ Luck       ┆ 4         ┆ 50          │\n",
       " │ Vanessa ┆ false          ┆ Defense    ┆ 6         ┆ 20          │\n",
       " │ Vanessa ┆ false          ┆ Resistance ┆ 5         ┆ 30          │\n",
       " └─────────┴────────────────┴────────────┴───────────┴─────────────┘,\n",
       " 'Campaigns': shape: (8, 3)\n",
       " ┌─────┬───────────────────┬───────────────────┐\n",
       " │ ID  ┆ Game              ┆ Campaign          │\n",
       " │ --- ┆ ---               ┆ ---               │\n",
       " │ i64 ┆ str               ┆ str               │\n",
       " ╞═════╪═══════════════════╪═══════════════════╡\n",
       " │ 0   ┆ the-binding-blade ┆ normal            │\n",
       " │ 1   ┆ the-binding-blade ┆ hard              │\n",
       " │ 2   ┆ the-binding-blade ┆ bonus             │\n",
       " │ 3   ┆ the-blazing-sword ┆ lyn               │\n",
       " │ 4   ┆ the-blazing-sword ┆ eliwood           │\n",
       " │ 5   ┆ the-blazing-sword ┆ hector hard mode  │\n",
       " │ 6   ┆ the-sacred-stones ┆ normal            │\n",
       " │ 7   ┆ the-sacred-stones ┆ creature campaign │\n",
       " └─────┴───────────────────┴───────────────────┘}"
      ]
     },
     "execution_count": 2,
     "metadata": {},
     "output_type": "execute_result"
    }
   ],
   "source": [
    "data = pl.read_excel(\n",
    "    source=\"../data/powerbi_exports/FireEmblemData05202024.xlsx\",\n",
    "    sheet_id=0 # This loads in all of the sheets at once\n",
    ")\n",
    "\n",
    "data"
   ]
  },
  {
   "cell_type": "code",
   "execution_count": 3,
   "id": "03507438-6f0e-4dc8-b5ba-ff44539a0a15",
   "metadata": {},
   "outputs": [
    {
     "data": {
      "text/plain": [
       "['Characters',\n",
       " 'Weapons',\n",
       " 'BasesWide',\n",
       " 'GrowthsWide',\n",
       " 'StatsCombined',\n",
       " 'Campaigns']"
      ]
     },
     "execution_count": 3,
     "metadata": {},
     "output_type": "execute_result"
    }
   ],
   "source": [
    "# This is mostly just a quick reference for me, idk if I'll really use this object.\n",
    "\n",
    "table_names = list(data.keys())\n",
    "table_names"
   ]
  },
  {
   "cell_type": "markdown",
   "id": "e805f4c7-6895-43b2-94fd-9907e864e40e",
   "metadata": {},
   "source": [
    "# Change \"creature_campaign\" to fit new Campaign table format.\n",
    "\n",
    "Overview here: We don't have many tables that actually need this value, so we can just remove the variable from those. For the remaining, we'll create a new \"campaignid\" variable and go from there.\n",
    "\n",
    "## Remove columns where its redundant data\n",
    "\n",
    "In this case weapon ranks and growths are totally unrelated to creature campaign so we can just remove this column. This decision will also scale to FE6 and FE7 as these stats aren't affected by hard mode bonuses."
   ]
  },
  {
   "cell_type": "code",
   "execution_count": 4,
   "id": "7781184c-9d9e-46f3-b262-d42a022e2b39",
   "metadata": {},
   "outputs": [
    {
     "data": {
      "text/html": [
       "<div><style>\n",
       ".dataframe > thead > tr,\n",
       ".dataframe > tbody > tr {\n",
       "  text-align: right;\n",
       "  white-space: pre-wrap;\n",
       "}\n",
       "</style>\n",
       "<small>shape: (43, 9)</small><table border=\"1\" class=\"dataframe\"><thead><tr><th>Name</th><th>HP</th><th>Power</th><th>Skill</th><th>Speed</th><th>Luck</th><th>Defense</th><th>Resistance</th><th>Game</th></tr><tr><td>str</td><td>i64</td><td>i64</td><td>i64</td><td>i64</td><td>i64</td><td>i64</td><td>i64</td><td>str</td></tr></thead><tbody><tr><td>&quot;Syrene&quot;</td><td>70</td><td>40</td><td>50</td><td>60</td><td>30</td><td>20</td><td>50</td><td>&quot;the-sacred-stones&quot;</td></tr><tr><td>&quot;Fado&quot;</td><td>85</td><td>55</td><td>40</td><td>30</td><td>25</td><td>45</td><td>25</td><td>&quot;the-sacred-stones&quot;</td></tr><tr><td>&quot;Artur&quot;</td><td>55</td><td>50</td><td>50</td><td>40</td><td>25</td><td>15</td><td>55</td><td>&quot;the-sacred-stones&quot;</td></tr><tr><td>&quot;Ewan&quot;</td><td>50</td><td>45</td><td>40</td><td>35</td><td>50</td><td>15</td><td>40</td><td>&quot;the-sacred-stones&quot;</td></tr><tr><td>&quot;Franz&quot;</td><td>80</td><td>40</td><td>40</td><td>50</td><td>40</td><td>25</td><td>20</td><td>&quot;the-sacred-stones&quot;</td></tr><tr><td>&hellip;</td><td>&hellip;</td><td>&hellip;</td><td>&hellip;</td><td>&hellip;</td><td>&hellip;</td><td>&hellip;</td><td>&hellip;</td><td>&hellip;</td></tr><tr><td>&quot;Moulder&quot;</td><td>70</td><td>40</td><td>50</td><td>40</td><td>20</td><td>25</td><td>25</td><td>&quot;the-sacred-stones&quot;</td></tr><tr><td>&quot;Saleh&quot;</td><td>50</td><td>30</td><td>25</td><td>40</td><td>40</td><td>30</td><td>35</td><td>&quot;the-sacred-stones&quot;</td></tr><tr><td>&quot;Cormag&quot;</td><td>85</td><td>55</td><td>40</td><td>45</td><td>35</td><td>25</td><td>15</td><td>&quot;the-sacred-stones&quot;</td></tr><tr><td>&quot;Eirika&quot;</td><td>70</td><td>40</td><td>60</td><td>60</td><td>60</td><td>30</td><td>30</td><td>&quot;the-sacred-stones&quot;</td></tr><tr><td>&quot;Hayden&quot;</td><td>70</td><td>40</td><td>45</td><td>45</td><td>40</td><td>25</td><td>25</td><td>&quot;the-sacred-stones&quot;</td></tr></tbody></table></div>"
      ],
      "text/plain": [
       "shape: (43, 9)\n",
       "┌─────────┬─────┬───────┬───────┬───┬──────┬─────────┬────────────┬───────────────────┐\n",
       "│ Name    ┆ HP  ┆ Power ┆ Skill ┆ … ┆ Luck ┆ Defense ┆ Resistance ┆ Game              │\n",
       "│ ---     ┆ --- ┆ ---   ┆ ---   ┆   ┆ ---  ┆ ---     ┆ ---        ┆ ---               │\n",
       "│ str     ┆ i64 ┆ i64   ┆ i64   ┆   ┆ i64  ┆ i64     ┆ i64        ┆ str               │\n",
       "╞═════════╪═════╪═══════╪═══════╪═══╪══════╪═════════╪════════════╪═══════════════════╡\n",
       "│ Syrene  ┆ 70  ┆ 40    ┆ 50    ┆ … ┆ 30   ┆ 20      ┆ 50         ┆ the-sacred-stones │\n",
       "│ Fado    ┆ 85  ┆ 55    ┆ 40    ┆ … ┆ 25   ┆ 45      ┆ 25         ┆ the-sacred-stones │\n",
       "│ Artur   ┆ 55  ┆ 50    ┆ 50    ┆ … ┆ 25   ┆ 15      ┆ 55         ┆ the-sacred-stones │\n",
       "│ Ewan    ┆ 50  ┆ 45    ┆ 40    ┆ … ┆ 50   ┆ 15      ┆ 40         ┆ the-sacred-stones │\n",
       "│ Franz   ┆ 80  ┆ 40    ┆ 40    ┆ … ┆ 40   ┆ 25      ┆ 20         ┆ the-sacred-stones │\n",
       "│ …       ┆ …   ┆ …     ┆ …     ┆ … ┆ …    ┆ …       ┆ …          ┆ …                 │\n",
       "│ Moulder ┆ 70  ┆ 40    ┆ 50    ┆ … ┆ 20   ┆ 25      ┆ 25         ┆ the-sacred-stones │\n",
       "│ Saleh   ┆ 50  ┆ 30    ┆ 25    ┆ … ┆ 40   ┆ 30      ┆ 35         ┆ the-sacred-stones │\n",
       "│ Cormag  ┆ 85  ┆ 55    ┆ 40    ┆ … ┆ 35   ┆ 25      ┆ 15         ┆ the-sacred-stones │\n",
       "│ Eirika  ┆ 70  ┆ 40    ┆ 60    ┆ … ┆ 60   ┆ 30      ┆ 30         ┆ the-sacred-stones │\n",
       "│ Hayden  ┆ 70  ┆ 40    ┆ 45    ┆ … ┆ 40   ┆ 25      ┆ 25         ┆ the-sacred-stones │\n",
       "└─────────┴─────┴───────┴───────┴───┴──────┴─────────┴────────────┴───────────────────┘"
      ]
     },
     "metadata": {},
     "output_type": "display_data"
    },
    {
     "data": {
      "text/html": [
       "<div><style>\n",
       ".dataframe > thead > tr,\n",
       ".dataframe > tbody > tr {\n",
       "  text-align: right;\n",
       "  white-space: pre-wrap;\n",
       "}\n",
       "</style>\n",
       "<small>shape: (59, 3)</small><table border=\"1\" class=\"dataframe\"><thead><tr><th>Name</th><th>Rank</th><th>Weapon</th></tr><tr><td>str</td><td>str</td><td>str</td></tr></thead><tbody><tr><td>&quot;Ephraim&quot;</td><td>&quot;D&quot;</td><td>&quot;Lance&quot;</td></tr><tr><td>&quot;Joshua&quot;</td><td>&quot;C&quot;</td><td>&quot;Sword&quot;</td></tr><tr><td>&quot;Cormag&quot;</td><td>&quot;C&quot;</td><td>&quot;Lance&quot;</td></tr><tr><td>&quot;Neimi&quot;</td><td>&quot;D&quot;</td><td>&quot;Bow&quot;</td></tr><tr><td>&quot;Innes&quot;</td><td>&quot;A&quot;</td><td>&quot;Bow&quot;</td></tr><tr><td>&hellip;</td><td>&hellip;</td><td>&hellip;</td></tr><tr><td>&quot;Valter&quot;</td><td>&quot;S&quot;</td><td>&quot;Lance&quot;</td></tr><tr><td>&quot;Fado&quot;</td><td>&quot;A&quot;</td><td>&quot;Lance&quot;</td></tr><tr><td>&quot;Hayden&quot;</td><td>&quot;A&quot;</td><td>&quot;Bow&quot;</td></tr><tr><td>&quot;Gilliam&quot;</td><td>&quot;C&quot;</td><td>&quot;Lance&quot;</td></tr><tr><td>&quot;Hayden&quot;</td><td>&quot;A&quot;</td><td>&quot;Sword&quot;</td></tr></tbody></table></div>"
      ],
      "text/plain": [
       "shape: (59, 3)\n",
       "┌─────────┬──────┬────────┐\n",
       "│ Name    ┆ Rank ┆ Weapon │\n",
       "│ ---     ┆ ---  ┆ ---    │\n",
       "│ str     ┆ str  ┆ str    │\n",
       "╞═════════╪══════╪════════╡\n",
       "│ Ephraim ┆ D    ┆ Lance  │\n",
       "│ Joshua  ┆ C    ┆ Sword  │\n",
       "│ Cormag  ┆ C    ┆ Lance  │\n",
       "│ Neimi   ┆ D    ┆ Bow    │\n",
       "│ Innes   ┆ A    ┆ Bow    │\n",
       "│ …       ┆ …    ┆ …      │\n",
       "│ Valter  ┆ S    ┆ Lance  │\n",
       "│ Fado    ┆ A    ┆ Lance  │\n",
       "│ Hayden  ┆ A    ┆ Bow    │\n",
       "│ Gilliam ┆ C    ┆ Lance  │\n",
       "│ Hayden  ┆ A    ┆ Sword  │\n",
       "└─────────┴──────┴────────┘"
      ]
     },
     "metadata": {},
     "output_type": "display_data"
    }
   ],
   "source": [
    "tables_to_drop_cc = [\"GrowthsWide\", \"Weapons\"]\n",
    "for table in tables_to_drop_cc:\n",
    "    data[table] = (\n",
    "        data[table]\n",
    "        .drop(\"creature_campaign\")\n",
    "        .unique()\n",
    "    )\n",
    "    display(data[table])"
   ]
  },
  {
   "cell_type": "markdown",
   "id": "660ac172-70e7-4f2b-89eb-a65c5cc44327",
   "metadata": {},
   "source": [
    "## Create campaign variable and clean up dataframes"
   ]
  },
  {
   "cell_type": "code",
   "execution_count": 5,
   "id": "4c9c164e-68bd-4764-b2fd-95905b939b15",
   "metadata": {},
   "outputs": [
    {
     "data": {
      "text/html": [
       "<div><style>\n",
       ".dataframe > thead > tr,\n",
       ".dataframe > tbody > tr {\n",
       "  text-align: right;\n",
       "  white-space: pre-wrap;\n",
       "}\n",
       "</style>\n",
       "<small>shape: (44, 9)</small><table border=\"1\" class=\"dataframe\"><thead><tr><th>Name</th><th>HP</th><th>Power</th><th>Skill</th><th>Speed</th><th>Luck</th><th>Defense</th><th>Resistance</th><th>CampaignID</th></tr><tr><td>str</td><td>i64</td><td>i64</td><td>i64</td><td>i64</td><td>i64</td><td>i64</td><td>i64</td><td>i32</td></tr></thead><tbody><tr><td>&quot;Amelia&quot;</td><td>16</td><td>4</td><td>3</td><td>4</td><td>6</td><td>2</td><td>3</td><td>6</td></tr><tr><td>&quot;Artur&quot;</td><td>19</td><td>6</td><td>6</td><td>8</td><td>2</td><td>2</td><td>6</td><td>6</td></tr><tr><td>&quot;Caellach&quot;</td><td>47</td><td>19</td><td>14</td><td>13</td><td>14</td><td>15</td><td>13</td><td>7</td></tr><tr><td>&quot;Colm&quot;</td><td>18</td><td>4</td><td>4</td><td>10</td><td>8</td><td>3</td><td>1</td><td>6</td></tr><tr><td>&quot;Cormag&quot;</td><td>30</td><td>14</td><td>9</td><td>10</td><td>4</td><td>12</td><td>2</td><td>6</td></tr><tr><td>&hellip;</td><td>&hellip;</td><td>&hellip;</td><td>&hellip;</td><td>&hellip;</td><td>&hellip;</td><td>&hellip;</td><td>&hellip;</td><td>&hellip;</td></tr><tr><td>&quot;Syrene&quot;</td><td>27</td><td>12</td><td>13</td><td>15</td><td>12</td><td>10</td><td>12</td><td>6</td></tr><tr><td>&quot;Tana&quot;</td><td>20</td><td>7</td><td>9</td><td>13</td><td>8</td><td>6</td><td>7</td><td>6</td></tr><tr><td>&quot;Tethys&quot;</td><td>18</td><td>1</td><td>2</td><td>12</td><td>10</td><td>5</td><td>4</td><td>6</td></tr><tr><td>&quot;Valter&quot;</td><td>45</td><td>19</td><td>17</td><td>17</td><td>3</td><td>13</td><td>12</td><td>7</td></tr><tr><td>&quot;Vanessa&quot;</td><td>17</td><td>5</td><td>7</td><td>11</td><td>4</td><td>6</td><td>5</td><td>6</td></tr></tbody></table></div>"
      ],
      "text/plain": [
       "shape: (44, 9)\n",
       "┌──────────┬─────┬───────┬───────┬───┬──────┬─────────┬────────────┬────────────┐\n",
       "│ Name     ┆ HP  ┆ Power ┆ Skill ┆ … ┆ Luck ┆ Defense ┆ Resistance ┆ CampaignID │\n",
       "│ ---      ┆ --- ┆ ---   ┆ ---   ┆   ┆ ---  ┆ ---     ┆ ---        ┆ ---        │\n",
       "│ str      ┆ i64 ┆ i64   ┆ i64   ┆   ┆ i64  ┆ i64     ┆ i64        ┆ i32        │\n",
       "╞══════════╪═════╪═══════╪═══════╪═══╪══════╪═════════╪════════════╪════════════╡\n",
       "│ Amelia   ┆ 16  ┆ 4     ┆ 3     ┆ … ┆ 6    ┆ 2       ┆ 3          ┆ 6          │\n",
       "│ Artur    ┆ 19  ┆ 6     ┆ 6     ┆ … ┆ 2    ┆ 2       ┆ 6          ┆ 6          │\n",
       "│ Caellach ┆ 47  ┆ 19    ┆ 14    ┆ … ┆ 14   ┆ 15      ┆ 13         ┆ 7          │\n",
       "│ Colm     ┆ 18  ┆ 4     ┆ 4     ┆ … ┆ 8    ┆ 3       ┆ 1          ┆ 6          │\n",
       "│ Cormag   ┆ 30  ┆ 14    ┆ 9     ┆ … ┆ 4    ┆ 12      ┆ 2          ┆ 6          │\n",
       "│ …        ┆ …   ┆ …     ┆ …     ┆ … ┆ …    ┆ …       ┆ …          ┆ …          │\n",
       "│ Syrene   ┆ 27  ┆ 12    ┆ 13    ┆ … ┆ 12   ┆ 10      ┆ 12         ┆ 6          │\n",
       "│ Tana     ┆ 20  ┆ 7     ┆ 9     ┆ … ┆ 8    ┆ 6       ┆ 7          ┆ 6          │\n",
       "│ Tethys   ┆ 18  ┆ 1     ┆ 2     ┆ … ┆ 10   ┆ 5       ┆ 4          ┆ 6          │\n",
       "│ Valter   ┆ 45  ┆ 19    ┆ 17    ┆ … ┆ 3    ┆ 13      ┆ 12         ┆ 7          │\n",
       "│ Vanessa  ┆ 17  ┆ 5     ┆ 7     ┆ … ┆ 4    ┆ 6       ┆ 5          ┆ 6          │\n",
       "└──────────┴─────┴───────┴───────┴───┴──────┴─────────┴────────────┴────────────┘"
      ]
     },
     "execution_count": 5,
     "metadata": {},
     "output_type": "execute_result"
    }
   ],
   "source": [
    "data[\"BasesWide\"] = (\n",
    "    data[\"BasesWide\"].with_columns(\n",
    "        pl.when(pl.col(\"creature_campaign\"))\n",
    "            .then(7)\n",
    "            .otherwise(6)\n",
    "            .alias(\"CampaignID\")\n",
    "    )\n",
    "    .drop(\"creature_campaign\")\n",
    ")\n",
    "\n",
    "data[\"BasesWide\"]"
   ]
  },
  {
   "cell_type": "code",
   "execution_count": 6,
   "id": "d0a26e79-7d8c-4fb9-afa9-0b9c9ab7559d",
   "metadata": {},
   "outputs": [
    {
     "data": {
      "text/plain": [
       "{'Characters': shape: (43, 3)\n",
       " ┌──────────┬───────────────────┬─────┐\n",
       " │ Name     ┆ Game              ┆ ID  │\n",
       " │ ---      ┆ ---               ┆ --- │\n",
       " │ str      ┆ str               ┆ i64 │\n",
       " ╞══════════╪═══════════════════╪═════╡\n",
       " │ Amelia   ┆ the-sacred-stones ┆ 0   │\n",
       " │ Artur    ┆ the-sacred-stones ┆ 1   │\n",
       " │ Caellach ┆ the-sacred-stones ┆ 2   │\n",
       " │ Colm     ┆ the-sacred-stones ┆ 3   │\n",
       " │ Cormag   ┆ the-sacred-stones ┆ 4   │\n",
       " │ …        ┆ …                 ┆ …   │\n",
       " │ Syrene   ┆ the-sacred-stones ┆ 38  │\n",
       " │ Tana     ┆ the-sacred-stones ┆ 39  │\n",
       " │ Tethys   ┆ the-sacred-stones ┆ 40  │\n",
       " │ Valter   ┆ the-sacred-stones ┆ 41  │\n",
       " │ Vanessa  ┆ the-sacred-stones ┆ 42  │\n",
       " └──────────┴───────────────────┴─────┘,\n",
       " 'Weapons': shape: (59, 3)\n",
       " ┌─────────┬──────┬────────┐\n",
       " │ Name    ┆ Rank ┆ Weapon │\n",
       " │ ---     ┆ ---  ┆ ---    │\n",
       " │ str     ┆ str  ┆ str    │\n",
       " ╞═════════╪══════╪════════╡\n",
       " │ Ephraim ┆ D    ┆ Lance  │\n",
       " │ Joshua  ┆ C    ┆ Sword  │\n",
       " │ Cormag  ┆ C    ┆ Lance  │\n",
       " │ Neimi   ┆ D    ┆ Bow    │\n",
       " │ Innes   ┆ A    ┆ Bow    │\n",
       " │ …       ┆ …    ┆ …      │\n",
       " │ Valter  ┆ S    ┆ Lance  │\n",
       " │ Fado    ┆ A    ┆ Lance  │\n",
       " │ Hayden  ┆ A    ┆ Bow    │\n",
       " │ Gilliam ┆ C    ┆ Lance  │\n",
       " │ Hayden  ┆ A    ┆ Sword  │\n",
       " └─────────┴──────┴────────┘,\n",
       " 'BasesWide': shape: (44, 9)\n",
       " ┌──────────┬─────┬───────┬───────┬───┬──────┬─────────┬────────────┬────────────┐\n",
       " │ Name     ┆ HP  ┆ Power ┆ Skill ┆ … ┆ Luck ┆ Defense ┆ Resistance ┆ CampaignID │\n",
       " │ ---      ┆ --- ┆ ---   ┆ ---   ┆   ┆ ---  ┆ ---     ┆ ---        ┆ ---        │\n",
       " │ str      ┆ i64 ┆ i64   ┆ i64   ┆   ┆ i64  ┆ i64     ┆ i64        ┆ i32        │\n",
       " ╞══════════╪═════╪═══════╪═══════╪═══╪══════╪═════════╪════════════╪════════════╡\n",
       " │ Amelia   ┆ 16  ┆ 4     ┆ 3     ┆ … ┆ 6    ┆ 2       ┆ 3          ┆ 6          │\n",
       " │ Artur    ┆ 19  ┆ 6     ┆ 6     ┆ … ┆ 2    ┆ 2       ┆ 6          ┆ 6          │\n",
       " │ Caellach ┆ 47  ┆ 19    ┆ 14    ┆ … ┆ 14   ┆ 15      ┆ 13         ┆ 7          │\n",
       " │ Colm     ┆ 18  ┆ 4     ┆ 4     ┆ … ┆ 8    ┆ 3       ┆ 1          ┆ 6          │\n",
       " │ Cormag   ┆ 30  ┆ 14    ┆ 9     ┆ … ┆ 4    ┆ 12      ┆ 2          ┆ 6          │\n",
       " │ …        ┆ …   ┆ …     ┆ …     ┆ … ┆ …    ┆ …       ┆ …          ┆ …          │\n",
       " │ Syrene   ┆ 27  ┆ 12    ┆ 13    ┆ … ┆ 12   ┆ 10      ┆ 12         ┆ 6          │\n",
       " │ Tana     ┆ 20  ┆ 7     ┆ 9     ┆ … ┆ 8    ┆ 6       ┆ 7          ┆ 6          │\n",
       " │ Tethys   ┆ 18  ┆ 1     ┆ 2     ┆ … ┆ 10   ┆ 5       ┆ 4          ┆ 6          │\n",
       " │ Valter   ┆ 45  ┆ 19    ┆ 17    ┆ … ┆ 3    ┆ 13      ┆ 12         ┆ 7          │\n",
       " │ Vanessa  ┆ 17  ┆ 5     ┆ 7     ┆ … ┆ 4    ┆ 6       ┆ 5          ┆ 6          │\n",
       " └──────────┴─────┴───────┴───────┴───┴──────┴─────────┴────────────┴────────────┘,\n",
       " 'GrowthsWide': shape: (43, 9)\n",
       " ┌─────────┬─────┬───────┬───────┬───┬──────┬─────────┬────────────┬───────────────────┐\n",
       " │ Name    ┆ HP  ┆ Power ┆ Skill ┆ … ┆ Luck ┆ Defense ┆ Resistance ┆ Game              │\n",
       " │ ---     ┆ --- ┆ ---   ┆ ---   ┆   ┆ ---  ┆ ---     ┆ ---        ┆ ---               │\n",
       " │ str     ┆ i64 ┆ i64   ┆ i64   ┆   ┆ i64  ┆ i64     ┆ i64        ┆ str               │\n",
       " ╞═════════╪═════╪═══════╪═══════╪═══╪══════╪═════════╪════════════╪═══════════════════╡\n",
       " │ Syrene  ┆ 70  ┆ 40    ┆ 50    ┆ … ┆ 30   ┆ 20      ┆ 50         ┆ the-sacred-stones │\n",
       " │ Fado    ┆ 85  ┆ 55    ┆ 40    ┆ … ┆ 25   ┆ 45      ┆ 25         ┆ the-sacred-stones │\n",
       " │ Artur   ┆ 55  ┆ 50    ┆ 50    ┆ … ┆ 25   ┆ 15      ┆ 55         ┆ the-sacred-stones │\n",
       " │ Ewan    ┆ 50  ┆ 45    ┆ 40    ┆ … ┆ 50   ┆ 15      ┆ 40         ┆ the-sacred-stones │\n",
       " │ Franz   ┆ 80  ┆ 40    ┆ 40    ┆ … ┆ 40   ┆ 25      ┆ 20         ┆ the-sacred-stones │\n",
       " │ …       ┆ …   ┆ …     ┆ …     ┆ … ┆ …    ┆ …       ┆ …          ┆ …                 │\n",
       " │ Moulder ┆ 70  ┆ 40    ┆ 50    ┆ … ┆ 20   ┆ 25      ┆ 25         ┆ the-sacred-stones │\n",
       " │ Saleh   ┆ 50  ┆ 30    ┆ 25    ┆ … ┆ 40   ┆ 30      ┆ 35         ┆ the-sacred-stones │\n",
       " │ Cormag  ┆ 85  ┆ 55    ┆ 40    ┆ … ┆ 35   ┆ 25      ┆ 15         ┆ the-sacred-stones │\n",
       " │ Eirika  ┆ 70  ┆ 40    ┆ 60    ┆ … ┆ 60   ┆ 30      ┆ 30         ┆ the-sacred-stones │\n",
       " │ Hayden  ┆ 70  ┆ 40    ┆ 45    ┆ … ┆ 40   ┆ 25      ┆ 25         ┆ the-sacred-stones │\n",
       " └─────────┴─────┴───────┴───────┴───┴──────┴─────────┴────────────┴───────────────────┘,\n",
       " 'StatsCombined': shape: (308, 5)\n",
       " ┌─────────┬────────────────┬────────────┬───────────┬─────────────┐\n",
       " │ Name    ┆ BonusCharacter ┆ Attribute  ┆ BaseValue ┆ GrowthValue │\n",
       " │ ---     ┆ ---            ┆ ---        ┆ ---       ┆ ---         │\n",
       " │ str     ┆ bool           ┆ str        ┆ i64       ┆ i64         │\n",
       " ╞═════════╪════════════════╪════════════╪═══════════╪═════════════╡\n",
       " │ Amelia  ┆ false          ┆ HP         ┆ 16        ┆ 60          │\n",
       " │ Amelia  ┆ false          ┆ Power      ┆ 4         ┆ 35          │\n",
       " │ Amelia  ┆ false          ┆ Skill      ┆ 3         ┆ 40          │\n",
       " │ Amelia  ┆ false          ┆ Speed      ┆ 4         ┆ 40          │\n",
       " │ Amelia  ┆ false          ┆ Luck       ┆ 6         ┆ 50          │\n",
       " │ …       ┆ …              ┆ …          ┆ …         ┆ …           │\n",
       " │ Vanessa ┆ false          ┆ Skill      ┆ 7         ┆ 55          │\n",
       " │ Vanessa ┆ false          ┆ Speed      ┆ 11        ┆ 60          │\n",
       " │ Vanessa ┆ false          ┆ Luck       ┆ 4         ┆ 50          │\n",
       " │ Vanessa ┆ false          ┆ Defense    ┆ 6         ┆ 20          │\n",
       " │ Vanessa ┆ false          ┆ Resistance ┆ 5         ┆ 30          │\n",
       " └─────────┴────────────────┴────────────┴───────────┴─────────────┘,\n",
       " 'Campaigns': shape: (8, 3)\n",
       " ┌─────┬───────────────────┬───────────────────┐\n",
       " │ ID  ┆ Game              ┆ Campaign          │\n",
       " │ --- ┆ ---               ┆ ---               │\n",
       " │ i64 ┆ str               ┆ str               │\n",
       " ╞═════╪═══════════════════╪═══════════════════╡\n",
       " │ 0   ┆ the-binding-blade ┆ normal            │\n",
       " │ 1   ┆ the-binding-blade ┆ hard              │\n",
       " │ 2   ┆ the-binding-blade ┆ bonus             │\n",
       " │ 3   ┆ the-blazing-sword ┆ lyn               │\n",
       " │ 4   ┆ the-blazing-sword ┆ eliwood           │\n",
       " │ 5   ┆ the-blazing-sword ┆ hector hard mode  │\n",
       " │ 6   ┆ the-sacred-stones ┆ normal            │\n",
       " │ 7   ┆ the-sacred-stones ┆ creature campaign │\n",
       " └─────┴───────────────────┴───────────────────┘}"
      ]
     },
     "execution_count": 6,
     "metadata": {},
     "output_type": "execute_result"
    }
   ],
   "source": [
    "data"
   ]
  },
  {
   "cell_type": "markdown",
   "id": "2caf1bf7-0637-4053-9bba-b136388de9ac",
   "metadata": {},
   "source": [
    "# Setting up DuckDB\n",
    "\n",
    "Our data is made up of polars dataframes stored in a dictionary so we need to \"register\" them instead of creating the tables the regular way. See the docs [here](https://duckdb.org/docs/api/python/data_ingestion#directly-accessing-dataframes-and-arrow-objects)"
   ]
  },
  {
   "cell_type": "code",
   "execution_count": 7,
   "id": "3a359fd0-e904-4d0d-bd24-ca1058a0f03a",
   "metadata": {},
   "outputs": [],
   "source": [
    "import duckdb\n",
    "from duckdb import sql\n",
    "path = \"../data/duckdb/db.duckdb\"\n",
    "con = duckdb.connect(path, read_only=False)\n",
    "\n",
    "create_db = False\n",
    "if create_db:\n",
    "    for key, polars_df in data.items():\n",
    "        # Register the Polars dataframe with DuckDB\n",
    "        con.register(key, polars_df)\n",
    "        # Create the tables so they can be saved correctly\n",
    "        con.execute(f'CREATE TABLE {key} AS SELECT * FROM {key}')\n",
    "\n",
    "    # Close connection to save the db and then re-connect\n",
    "    con.close()\n",
    "    con = duckdb.connect(path)\n",
    "    con.sql(\"show tables\").show()"
   ]
  },
  {
   "cell_type": "code",
   "execution_count": 8,
   "id": "ab2f4096-d259-40fa-b011-a99ccdd1f18a",
   "metadata": {},
   "outputs": [
    {
     "name": "stdout",
     "output_type": "stream",
     "text": [
      "┌───────────────┐\n",
      "│     name      │\n",
      "│    varchar    │\n",
      "├───────────────┤\n",
      "│ BasesWide     │\n",
      "│ Campaigns     │\n",
      "│ Characters    │\n",
      "│ GrowthsWide   │\n",
      "│ StatsCombined │\n",
      "│ Weapons       │\n",
      "└───────────────┘\n",
      "\n"
     ]
    },
    {
     "data": {
      "text/plain": [
       "┌──────────┬───────┬───────┬───────┬───────┬───────┬─────────┬────────────┬────────────┐\n",
       "│   Name   │  HP   │ Power │ Skill │ Speed │ Luck  │ Defense │ Resistance │ CampaignID │\n",
       "│ varchar  │ int64 │ int64 │ int64 │ int64 │ int64 │  int64  │   int64    │   int32    │\n",
       "├──────────┼───────┼───────┼───────┼───────┼───────┼─────────┼────────────┼────────────┤\n",
       "│ Amelia   │    16 │     4 │     3 │     4 │     6 │       2 │          3 │          6 │\n",
       "│ Artur    │    19 │     6 │     6 │     8 │     2 │       2 │          6 │          6 │\n",
       "│ Caellach │    47 │    19 │    14 │    13 │    14 │      15 │         13 │          7 │\n",
       "│ Colm     │    18 │     4 │     4 │    10 │     8 │       3 │          1 │          6 │\n",
       "│ Cormag   │    30 │    14 │     9 │    10 │     4 │      12 │          2 │          6 │\n",
       "│ Dozla    │    43 │    16 │    11 │     9 │     4 │      11 │          6 │          6 │\n",
       "│ Duessel  │    41 │    17 │    12 │    12 │     8 │      17 │          9 │          6 │\n",
       "│ Eirika   │    16 │     4 │     8 │     9 │     5 │       3 │          1 │          6 │\n",
       "│ Ephraim  │    23 │     8 │     9 │    11 │     8 │       7 │          2 │          6 │\n",
       "│ Ewan     │    15 │     3 │     2 │     5 │     5 │       0 │          3 │          6 │\n",
       "├──────────┴───────┴───────┴───────┴───────┴───────┴─────────┴────────────┴────────────┤\n",
       "│ 10 rows                                                                    9 columns │\n",
       "└──────────────────────────────────────────────────────────────────────────────────────┘"
      ]
     },
     "execution_count": 8,
     "metadata": {},
     "output_type": "execute_result"
    }
   ],
   "source": [
    "con.sql(\"show tables\").show()\n",
    "con.sql(\"select * from baseswide limit 10\")"
   ]
  },
  {
   "cell_type": "markdown",
   "id": "5177801a-1f65-44ad-b320-2fc2f4749e07",
   "metadata": {},
   "source": [
    "# Testing DuckDB to Standard Plotly Visualizations\n",
    "## Comparative Barplot"
   ]
  },
  {
   "cell_type": "code",
   "execution_count": 10,
   "id": "a2d7d651-f44b-4f49-94c5-7cec122d6d3a",
   "metadata": {},
   "outputs": [
    {
     "name": "stdout",
     "output_type": "stream",
     "text": [
      "┌─────────┬───────┬───────┬───────┬───────┬───────┬─────────┬────────────┬────────────┐\n",
      "│  Name   │  HP   │ Power │ Skill │ Speed │ Luck  │ Defense │ Resistance │ CampaignID │\n",
      "│ varchar │ int64 │ int64 │ int64 │ int64 │ int64 │  int64  │   int64    │   int32    │\n",
      "├─────────┼───────┼───────┼───────┼───────┼───────┼─────────┼────────────┼────────────┤\n",
      "│ Forde   │    24 │     7 │     8 │     8 │     7 │       8 │          2 │          6 │\n",
      "│ Seth    │    30 │    14 │    13 │    12 │    13 │      11 │          8 │          6 │\n",
      "└─────────┴───────┴───────┴───────┴───────┴───────┴─────────┴────────────┴────────────┘\n",
      "\n"
     ]
    },
    {
     "data": {
      "application/vnd.plotly.v1+json": {
       "config": {
        "plotlyServerURL": "https://plot.ly"
       },
       "data": [
        {
         "alignmentgroup": "True",
         "hovertemplate": "Name=Forde<br>Base Value=%{x}<br>=%{y}<extra></extra>",
         "legendgroup": "Forde",
         "marker": {
          "color": "#636efa",
          "pattern": {
           "shape": ""
          }
         },
         "name": "Forde",
         "offsetgroup": "Forde",
         "orientation": "h",
         "showlegend": true,
         "textposition": "auto",
         "type": "bar",
         "x": [
          24,
          7,
          8,
          8,
          7,
          8,
          2
         ],
         "xaxis": "x",
         "y": [
          "HP",
          "Power",
          "Skill",
          "Speed",
          "Luck",
          "Defense",
          "Resistance"
         ],
         "yaxis": "y"
        },
        {
         "alignmentgroup": "True",
         "hovertemplate": "Name=Seth<br>Base Value=%{x}<br>=%{y}<extra></extra>",
         "legendgroup": "Seth",
         "marker": {
          "color": "#EF553B",
          "pattern": {
           "shape": ""
          }
         },
         "name": "Seth",
         "offsetgroup": "Seth",
         "orientation": "h",
         "showlegend": true,
         "textposition": "auto",
         "type": "bar",
         "x": [
          30,
          14,
          13,
          12,
          13,
          11,
          8
         ],
         "xaxis": "x",
         "y": [
          "HP",
          "Power",
          "Skill",
          "Speed",
          "Luck",
          "Defense",
          "Resistance"
         ],
         "yaxis": "y"
        }
       ],
       "layout": {
        "autosize": true,
        "barmode": "group",
        "legend": {
         "title": {
          "text": "Name"
         },
         "tracegroupgap": 0
        },
        "template": {
         "data": {
          "bar": [
           {
            "error_x": {
             "color": "#2a3f5f"
            },
            "error_y": {
             "color": "#2a3f5f"
            },
            "marker": {
             "line": {
              "color": "#E5ECF6",
              "width": 0.5
             },
             "pattern": {
              "fillmode": "overlay",
              "size": 10,
              "solidity": 0.2
             }
            },
            "type": "bar"
           }
          ],
          "barpolar": [
           {
            "marker": {
             "line": {
              "color": "#E5ECF6",
              "width": 0.5
             },
             "pattern": {
              "fillmode": "overlay",
              "size": 10,
              "solidity": 0.2
             }
            },
            "type": "barpolar"
           }
          ],
          "carpet": [
           {
            "aaxis": {
             "endlinecolor": "#2a3f5f",
             "gridcolor": "white",
             "linecolor": "white",
             "minorgridcolor": "white",
             "startlinecolor": "#2a3f5f"
            },
            "baxis": {
             "endlinecolor": "#2a3f5f",
             "gridcolor": "white",
             "linecolor": "white",
             "minorgridcolor": "white",
             "startlinecolor": "#2a3f5f"
            },
            "type": "carpet"
           }
          ],
          "choropleth": [
           {
            "colorbar": {
             "outlinewidth": 0,
             "ticks": ""
            },
            "type": "choropleth"
           }
          ],
          "contour": [
           {
            "colorbar": {
             "outlinewidth": 0,
             "ticks": ""
            },
            "colorscale": [
             [
              0,
              "#0d0887"
             ],
             [
              0.1111111111111111,
              "#46039f"
             ],
             [
              0.2222222222222222,
              "#7201a8"
             ],
             [
              0.3333333333333333,
              "#9c179e"
             ],
             [
              0.4444444444444444,
              "#bd3786"
             ],
             [
              0.5555555555555556,
              "#d8576b"
             ],
             [
              0.6666666666666666,
              "#ed7953"
             ],
             [
              0.7777777777777778,
              "#fb9f3a"
             ],
             [
              0.8888888888888888,
              "#fdca26"
             ],
             [
              1,
              "#f0f921"
             ]
            ],
            "type": "contour"
           }
          ],
          "contourcarpet": [
           {
            "colorbar": {
             "outlinewidth": 0,
             "ticks": ""
            },
            "type": "contourcarpet"
           }
          ],
          "heatmap": [
           {
            "colorbar": {
             "outlinewidth": 0,
             "ticks": ""
            },
            "colorscale": [
             [
              0,
              "#0d0887"
             ],
             [
              0.1111111111111111,
              "#46039f"
             ],
             [
              0.2222222222222222,
              "#7201a8"
             ],
             [
              0.3333333333333333,
              "#9c179e"
             ],
             [
              0.4444444444444444,
              "#bd3786"
             ],
             [
              0.5555555555555556,
              "#d8576b"
             ],
             [
              0.6666666666666666,
              "#ed7953"
             ],
             [
              0.7777777777777778,
              "#fb9f3a"
             ],
             [
              0.8888888888888888,
              "#fdca26"
             ],
             [
              1,
              "#f0f921"
             ]
            ],
            "type": "heatmap"
           }
          ],
          "heatmapgl": [
           {
            "colorbar": {
             "outlinewidth": 0,
             "ticks": ""
            },
            "colorscale": [
             [
              0,
              "#0d0887"
             ],
             [
              0.1111111111111111,
              "#46039f"
             ],
             [
              0.2222222222222222,
              "#7201a8"
             ],
             [
              0.3333333333333333,
              "#9c179e"
             ],
             [
              0.4444444444444444,
              "#bd3786"
             ],
             [
              0.5555555555555556,
              "#d8576b"
             ],
             [
              0.6666666666666666,
              "#ed7953"
             ],
             [
              0.7777777777777778,
              "#fb9f3a"
             ],
             [
              0.8888888888888888,
              "#fdca26"
             ],
             [
              1,
              "#f0f921"
             ]
            ],
            "type": "heatmapgl"
           }
          ],
          "histogram": [
           {
            "marker": {
             "pattern": {
              "fillmode": "overlay",
              "size": 10,
              "solidity": 0.2
             }
            },
            "type": "histogram"
           }
          ],
          "histogram2d": [
           {
            "colorbar": {
             "outlinewidth": 0,
             "ticks": ""
            },
            "colorscale": [
             [
              0,
              "#0d0887"
             ],
             [
              0.1111111111111111,
              "#46039f"
             ],
             [
              0.2222222222222222,
              "#7201a8"
             ],
             [
              0.3333333333333333,
              "#9c179e"
             ],
             [
              0.4444444444444444,
              "#bd3786"
             ],
             [
              0.5555555555555556,
              "#d8576b"
             ],
             [
              0.6666666666666666,
              "#ed7953"
             ],
             [
              0.7777777777777778,
              "#fb9f3a"
             ],
             [
              0.8888888888888888,
              "#fdca26"
             ],
             [
              1,
              "#f0f921"
             ]
            ],
            "type": "histogram2d"
           }
          ],
          "histogram2dcontour": [
           {
            "colorbar": {
             "outlinewidth": 0,
             "ticks": ""
            },
            "colorscale": [
             [
              0,
              "#0d0887"
             ],
             [
              0.1111111111111111,
              "#46039f"
             ],
             [
              0.2222222222222222,
              "#7201a8"
             ],
             [
              0.3333333333333333,
              "#9c179e"
             ],
             [
              0.4444444444444444,
              "#bd3786"
             ],
             [
              0.5555555555555556,
              "#d8576b"
             ],
             [
              0.6666666666666666,
              "#ed7953"
             ],
             [
              0.7777777777777778,
              "#fb9f3a"
             ],
             [
              0.8888888888888888,
              "#fdca26"
             ],
             [
              1,
              "#f0f921"
             ]
            ],
            "type": "histogram2dcontour"
           }
          ],
          "mesh3d": [
           {
            "colorbar": {
             "outlinewidth": 0,
             "ticks": ""
            },
            "type": "mesh3d"
           }
          ],
          "parcoords": [
           {
            "line": {
             "colorbar": {
              "outlinewidth": 0,
              "ticks": ""
             }
            },
            "type": "parcoords"
           }
          ],
          "pie": [
           {
            "automargin": true,
            "type": "pie"
           }
          ],
          "scatter": [
           {
            "fillpattern": {
             "fillmode": "overlay",
             "size": 10,
             "solidity": 0.2
            },
            "type": "scatter"
           }
          ],
          "scatter3d": [
           {
            "line": {
             "colorbar": {
              "outlinewidth": 0,
              "ticks": ""
             }
            },
            "marker": {
             "colorbar": {
              "outlinewidth": 0,
              "ticks": ""
             }
            },
            "type": "scatter3d"
           }
          ],
          "scattercarpet": [
           {
            "marker": {
             "colorbar": {
              "outlinewidth": 0,
              "ticks": ""
             }
            },
            "type": "scattercarpet"
           }
          ],
          "scattergeo": [
           {
            "marker": {
             "colorbar": {
              "outlinewidth": 0,
              "ticks": ""
             }
            },
            "type": "scattergeo"
           }
          ],
          "scattergl": [
           {
            "marker": {
             "colorbar": {
              "outlinewidth": 0,
              "ticks": ""
             }
            },
            "type": "scattergl"
           }
          ],
          "scattermapbox": [
           {
            "marker": {
             "colorbar": {
              "outlinewidth": 0,
              "ticks": ""
             }
            },
            "type": "scattermapbox"
           }
          ],
          "scatterpolar": [
           {
            "marker": {
             "colorbar": {
              "outlinewidth": 0,
              "ticks": ""
             }
            },
            "type": "scatterpolar"
           }
          ],
          "scatterpolargl": [
           {
            "marker": {
             "colorbar": {
              "outlinewidth": 0,
              "ticks": ""
             }
            },
            "type": "scatterpolargl"
           }
          ],
          "scatterternary": [
           {
            "marker": {
             "colorbar": {
              "outlinewidth": 0,
              "ticks": ""
             }
            },
            "type": "scatterternary"
           }
          ],
          "surface": [
           {
            "colorbar": {
             "outlinewidth": 0,
             "ticks": ""
            },
            "colorscale": [
             [
              0,
              "#0d0887"
             ],
             [
              0.1111111111111111,
              "#46039f"
             ],
             [
              0.2222222222222222,
              "#7201a8"
             ],
             [
              0.3333333333333333,
              "#9c179e"
             ],
             [
              0.4444444444444444,
              "#bd3786"
             ],
             [
              0.5555555555555556,
              "#d8576b"
             ],
             [
              0.6666666666666666,
              "#ed7953"
             ],
             [
              0.7777777777777778,
              "#fb9f3a"
             ],
             [
              0.8888888888888888,
              "#fdca26"
             ],
             [
              1,
              "#f0f921"
             ]
            ],
            "type": "surface"
           }
          ],
          "table": [
           {
            "cells": {
             "fill": {
              "color": "#EBF0F8"
             },
             "line": {
              "color": "white"
             }
            },
            "header": {
             "fill": {
              "color": "#C8D4E3"
             },
             "line": {
              "color": "white"
             }
            },
            "type": "table"
           }
          ]
         },
         "layout": {
          "annotationdefaults": {
           "arrowcolor": "#2a3f5f",
           "arrowhead": 0,
           "arrowwidth": 1
          },
          "autotypenumbers": "strict",
          "coloraxis": {
           "colorbar": {
            "outlinewidth": 0,
            "ticks": ""
           }
          },
          "colorscale": {
           "diverging": [
            [
             0,
             "#8e0152"
            ],
            [
             0.1,
             "#c51b7d"
            ],
            [
             0.2,
             "#de77ae"
            ],
            [
             0.3,
             "#f1b6da"
            ],
            [
             0.4,
             "#fde0ef"
            ],
            [
             0.5,
             "#f7f7f7"
            ],
            [
             0.6,
             "#e6f5d0"
            ],
            [
             0.7,
             "#b8e186"
            ],
            [
             0.8,
             "#7fbc41"
            ],
            [
             0.9,
             "#4d9221"
            ],
            [
             1,
             "#276419"
            ]
           ],
           "sequential": [
            [
             0,
             "#0d0887"
            ],
            [
             0.1111111111111111,
             "#46039f"
            ],
            [
             0.2222222222222222,
             "#7201a8"
            ],
            [
             0.3333333333333333,
             "#9c179e"
            ],
            [
             0.4444444444444444,
             "#bd3786"
            ],
            [
             0.5555555555555556,
             "#d8576b"
            ],
            [
             0.6666666666666666,
             "#ed7953"
            ],
            [
             0.7777777777777778,
             "#fb9f3a"
            ],
            [
             0.8888888888888888,
             "#fdca26"
            ],
            [
             1,
             "#f0f921"
            ]
           ],
           "sequentialminus": [
            [
             0,
             "#0d0887"
            ],
            [
             0.1111111111111111,
             "#46039f"
            ],
            [
             0.2222222222222222,
             "#7201a8"
            ],
            [
             0.3333333333333333,
             "#9c179e"
            ],
            [
             0.4444444444444444,
             "#bd3786"
            ],
            [
             0.5555555555555556,
             "#d8576b"
            ],
            [
             0.6666666666666666,
             "#ed7953"
            ],
            [
             0.7777777777777778,
             "#fb9f3a"
            ],
            [
             0.8888888888888888,
             "#fdca26"
            ],
            [
             1,
             "#f0f921"
            ]
           ]
          },
          "colorway": [
           "#636efa",
           "#EF553B",
           "#00cc96",
           "#ab63fa",
           "#FFA15A",
           "#19d3f3",
           "#FF6692",
           "#B6E880",
           "#FF97FF",
           "#FECB52"
          ],
          "font": {
           "color": "#2a3f5f"
          },
          "geo": {
           "bgcolor": "white",
           "lakecolor": "white",
           "landcolor": "#E5ECF6",
           "showlakes": true,
           "showland": true,
           "subunitcolor": "white"
          },
          "hoverlabel": {
           "align": "left"
          },
          "hovermode": "closest",
          "mapbox": {
           "style": "light"
          },
          "paper_bgcolor": "white",
          "plot_bgcolor": "#E5ECF6",
          "polar": {
           "angularaxis": {
            "gridcolor": "white",
            "linecolor": "white",
            "ticks": ""
           },
           "bgcolor": "#E5ECF6",
           "radialaxis": {
            "gridcolor": "white",
            "linecolor": "white",
            "ticks": ""
           }
          },
          "scene": {
           "xaxis": {
            "backgroundcolor": "#E5ECF6",
            "gridcolor": "white",
            "gridwidth": 2,
            "linecolor": "white",
            "showbackground": true,
            "ticks": "",
            "zerolinecolor": "white"
           },
           "yaxis": {
            "backgroundcolor": "#E5ECF6",
            "gridcolor": "white",
            "gridwidth": 2,
            "linecolor": "white",
            "showbackground": true,
            "ticks": "",
            "zerolinecolor": "white"
           },
           "zaxis": {
            "backgroundcolor": "#E5ECF6",
            "gridcolor": "white",
            "gridwidth": 2,
            "linecolor": "white",
            "showbackground": true,
            "ticks": "",
            "zerolinecolor": "white"
           }
          },
          "shapedefaults": {
           "line": {
            "color": "#2a3f5f"
           }
          },
          "ternary": {
           "aaxis": {
            "gridcolor": "white",
            "linecolor": "white",
            "ticks": ""
           },
           "baxis": {
            "gridcolor": "white",
            "linecolor": "white",
            "ticks": ""
           },
           "bgcolor": "#E5ECF6",
           "caxis": {
            "gridcolor": "white",
            "linecolor": "white",
            "ticks": ""
           }
          },
          "title": {
           "x": 0.05
          },
          "xaxis": {
           "automargin": true,
           "gridcolor": "white",
           "linecolor": "white",
           "ticks": "",
           "title": {
            "standoff": 15
           },
           "zerolinecolor": "white",
           "zerolinewidth": 2
          },
          "yaxis": {
           "automargin": true,
           "gridcolor": "white",
           "linecolor": "white",
           "ticks": "",
           "title": {
            "standoff": 15
           },
           "zerolinecolor": "white",
           "zerolinewidth": 2
          }
         }
        },
        "title": {
         "text": "Base Stat Value Comparison"
        },
        "xaxis": {
         "anchor": "y",
         "autorange": true,
         "domain": [
          0,
          1
         ],
         "range": [
          0,
          31.57894736842105
         ],
         "title": {
          "text": "Base Value"
         },
         "type": "linear"
        },
        "yaxis": {
         "anchor": "x",
         "autorange": true,
         "domain": [
          0,
          1
         ],
         "range": [
          -0.5,
          6.5
         ],
         "title": {
          "text": ""
         },
         "type": "category"
        }
       }
      },
      "image/png": "[encoded data removed]",
      "text/html": [
       "<div>                            <div id=\"406e1a83-3f25-4fe7-bd93-16ea6594f337\" class=\"plotly-graph-div\" style=\"height:525px; width:100%;\"></div>            <script type=\"text/javascript\">                require([\"plotly\"], function(Plotly) {                    window.PLOTLYENV=window.PLOTLYENV || {};                                    if (document.getElementById(\"406e1a83-3f25-4fe7-bd93-16ea6594f337\")) {                    Plotly.newPlot(                        \"406e1a83-3f25-4fe7-bd93-16ea6594f337\",                        [{\"alignmentgroup\":\"True\",\"hovertemplate\":\"Name=Forde\\u003cbr\\u003eBase Value=%{x}\\u003cbr\\u003e=%{y}\\u003cextra\\u003e\\u003c\\u002fextra\\u003e\",\"legendgroup\":\"Forde\",\"marker\":{\"color\":\"#636efa\",\"pattern\":{\"shape\":\"\"}},\"name\":\"Forde\",\"offsetgroup\":\"Forde\",\"orientation\":\"h\",\"showlegend\":true,\"textposition\":\"auto\",\"x\":[24,7,8,8,7,8,2],\"xaxis\":\"x\",\"y\":[\"HP\",\"Power\",\"Skill\",\"Speed\",\"Luck\",\"Defense\",\"Resistance\"],\"yaxis\":\"y\",\"type\":\"bar\"},{\"alignmentgroup\":\"True\",\"hovertemplate\":\"Name=Seth\\u003cbr\\u003eBase Value=%{x}\\u003cbr\\u003e=%{y}\\u003cextra\\u003e\\u003c\\u002fextra\\u003e\",\"legendgroup\":\"Seth\",\"marker\":{\"color\":\"#EF553B\",\"pattern\":{\"shape\":\"\"}},\"name\":\"Seth\",\"offsetgroup\":\"Seth\",\"orientation\":\"h\",\"showlegend\":true,\"textposition\":\"auto\",\"x\":[30,14,13,12,13,11,8],\"xaxis\":\"x\",\"y\":[\"HP\",\"Power\",\"Skill\",\"Speed\",\"Luck\",\"Defense\",\"Resistance\"],\"yaxis\":\"y\",\"type\":\"bar\"}],                        {\"template\":{\"data\":{\"histogram2dcontour\":[{\"type\":\"histogram2dcontour\",\"colorbar\":{\"outlinewidth\":0,\"ticks\":\"\"},\"colorscale\":[[0.0,\"#0d0887\"],[0.1111111111111111,\"#46039f\"],[0.2222222222222222,\"#7201a8\"],[0.3333333333333333,\"#9c179e\"],[0.4444444444444444,\"#bd3786\"],[0.5555555555555556,\"#d8576b\"],[0.6666666666666666,\"#ed7953\"],[0.7777777777777778,\"#fb9f3a\"],[0.8888888888888888,\"#fdca26\"],[1.0,\"#f0f921\"]]}],\"choropleth\":[{\"type\":\"choropleth\",\"colorbar\":{\"outlinewidth\":0,\"ticks\":\"\"}}],\"histogram2d\":[{\"type\":\"histogram2d\",\"colorbar\":{\"outlinewidth\":0,\"ticks\":\"\"},\"colorscale\":[[0.0,\"#0d0887\"],[0.1111111111111111,\"#46039f\"],[0.2222222222222222,\"#7201a8\"],[0.3333333333333333,\"#9c179e\"],[0.4444444444444444,\"#bd3786\"],[0.5555555555555556,\"#d8576b\"],[0.6666666666666666,\"#ed7953\"],[0.7777777777777778,\"#fb9f3a\"],[0.8888888888888888,\"#fdca26\"],[1.0,\"#f0f921\"]]}],\"heatmap\":[{\"type\":\"heatmap\",\"colorbar\":{\"outlinewidth\":0,\"ticks\":\"\"},\"colorscale\":[[0.0,\"#0d0887\"],[0.1111111111111111,\"#46039f\"],[0.2222222222222222,\"#7201a8\"],[0.3333333333333333,\"#9c179e\"],[0.4444444444444444,\"#bd3786\"],[0.5555555555555556,\"#d8576b\"],[0.6666666666666666,\"#ed7953\"],[0.7777777777777778,\"#fb9f3a\"],[0.8888888888888888,\"#fdca26\"],[1.0,\"#f0f921\"]]}],\"heatmapgl\":[{\"type\":\"heatmapgl\",\"colorbar\":{\"outlinewidth\":0,\"ticks\":\"\"},\"colorscale\":[[0.0,\"#0d0887\"],[0.1111111111111111,\"#46039f\"],[0.2222222222222222,\"#7201a8\"],[0.3333333333333333,\"#9c179e\"],[0.4444444444444444,\"#bd3786\"],[0.5555555555555556,\"#d8576b\"],[0.6666666666666666,\"#ed7953\"],[0.7777777777777778,\"#fb9f3a\"],[0.8888888888888888,\"#fdca26\"],[1.0,\"#f0f921\"]]}],\"contourcarpet\":[{\"type\":\"contourcarpet\",\"colorbar\":{\"outlinewidth\":0,\"ticks\":\"\"}}],\"contour\":[{\"type\":\"contour\",\"colorbar\":{\"outlinewidth\":0,\"ticks\":\"\"},\"colorscale\":[[0.0,\"#0d0887\"],[0.1111111111111111,\"#46039f\"],[0.2222222222222222,\"#7201a8\"],[0.3333333333333333,\"#9c179e\"],[0.4444444444444444,\"#bd3786\"],[0.5555555555555556,\"#d8576b\"],[0.6666666666666666,\"#ed7953\"],[0.7777777777777778,\"#fb9f3a\"],[0.8888888888888888,\"#fdca26\"],[1.0,\"#f0f921\"]]}],\"surface\":[{\"type\":\"surface\",\"colorbar\":{\"outlinewidth\":0,\"ticks\":\"\"},\"colorscale\":[[0.0,\"#0d0887\"],[0.1111111111111111,\"#46039f\"],[0.2222222222222222,\"#7201a8\"],[0.3333333333333333,\"#9c179e\"],[0.4444444444444444,\"#bd3786\"],[0.5555555555555556,\"#d8576b\"],[0.6666666666666666,\"#ed7953\"],[0.7777777777777778,\"#fb9f3a\"],[0.8888888888888888,\"#fdca26\"],[1.0,\"#f0f921\"]]}],\"mesh3d\":[{\"type\":\"mesh3d\",\"colorbar\":{\"outlinewidth\":0,\"ticks\":\"\"}}],\"scatter\":[{\"fillpattern\":{\"fillmode\":\"overlay\",\"size\":10,\"solidity\":0.2},\"type\":\"scatter\"}],\"parcoords\":[{\"type\":\"parcoords\",\"line\":{\"colorbar\":{\"outlinewidth\":0,\"ticks\":\"\"}}}],\"scatterpolargl\":[{\"type\":\"scatterpolargl\",\"marker\":{\"colorbar\":{\"outlinewidth\":0,\"ticks\":\"\"}}}],\"bar\":[{\"error_x\":{\"color\":\"#2a3f5f\"},\"error_y\":{\"color\":\"#2a3f5f\"},\"marker\":{\"line\":{\"color\":\"#E5ECF6\",\"width\":0.5},\"pattern\":{\"fillmode\":\"overlay\",\"size\":10,\"solidity\":0.2}},\"type\":\"bar\"}],\"scattergeo\":[{\"type\":\"scattergeo\",\"marker\":{\"colorbar\":{\"outlinewidth\":0,\"ticks\":\"\"}}}],\"scatterpolar\":[{\"type\":\"scatterpolar\",\"marker\":{\"colorbar\":{\"outlinewidth\":0,\"ticks\":\"\"}}}],\"histogram\":[{\"marker\":{\"pattern\":{\"fillmode\":\"overlay\",\"size\":10,\"solidity\":0.2}},\"type\":\"histogram\"}],\"scattergl\":[{\"type\":\"scattergl\",\"marker\":{\"colorbar\":{\"outlinewidth\":0,\"ticks\":\"\"}}}],\"scatter3d\":[{\"type\":\"scatter3d\",\"line\":{\"colorbar\":{\"outlinewidth\":0,\"ticks\":\"\"}},\"marker\":{\"colorbar\":{\"outlinewidth\":0,\"ticks\":\"\"}}}],\"scattermapbox\":[{\"type\":\"scattermapbox\",\"marker\":{\"colorbar\":{\"outlinewidth\":0,\"ticks\":\"\"}}}],\"scatterternary\":[{\"type\":\"scatterternary\",\"marker\":{\"colorbar\":{\"outlinewidth\":0,\"ticks\":\"\"}}}],\"scattercarpet\":[{\"type\":\"scattercarpet\",\"marker\":{\"colorbar\":{\"outlinewidth\":0,\"ticks\":\"\"}}}],\"carpet\":[{\"aaxis\":{\"endlinecolor\":\"#2a3f5f\",\"gridcolor\":\"white\",\"linecolor\":\"white\",\"minorgridcolor\":\"white\",\"startlinecolor\":\"#2a3f5f\"},\"baxis\":{\"endlinecolor\":\"#2a3f5f\",\"gridcolor\":\"white\",\"linecolor\":\"white\",\"minorgridcolor\":\"white\",\"startlinecolor\":\"#2a3f5f\"},\"type\":\"carpet\"}],\"table\":[{\"cells\":{\"fill\":{\"color\":\"#EBF0F8\"},\"line\":{\"color\":\"white\"}},\"header\":{\"fill\":{\"color\":\"#C8D4E3\"},\"line\":{\"color\":\"white\"}},\"type\":\"table\"}],\"barpolar\":[{\"marker\":{\"line\":{\"color\":\"#E5ECF6\",\"width\":0.5},\"pattern\":{\"fillmode\":\"overlay\",\"size\":10,\"solidity\":0.2}},\"type\":\"barpolar\"}],\"pie\":[{\"automargin\":true,\"type\":\"pie\"}]},\"layout\":{\"autotypenumbers\":\"strict\",\"colorway\":[\"#636efa\",\"#EF553B\",\"#00cc96\",\"#ab63fa\",\"#FFA15A\",\"#19d3f3\",\"#FF6692\",\"#B6E880\",\"#FF97FF\",\"#FECB52\"],\"font\":{\"color\":\"#2a3f5f\"},\"hovermode\":\"closest\",\"hoverlabel\":{\"align\":\"left\"},\"paper_bgcolor\":\"white\",\"plot_bgcolor\":\"#E5ECF6\",\"polar\":{\"bgcolor\":\"#E5ECF6\",\"angularaxis\":{\"gridcolor\":\"white\",\"linecolor\":\"white\",\"ticks\":\"\"},\"radialaxis\":{\"gridcolor\":\"white\",\"linecolor\":\"white\",\"ticks\":\"\"}},\"ternary\":{\"bgcolor\":\"#E5ECF6\",\"aaxis\":{\"gridcolor\":\"white\",\"linecolor\":\"white\",\"ticks\":\"\"},\"baxis\":{\"gridcolor\":\"white\",\"linecolor\":\"white\",\"ticks\":\"\"},\"caxis\":{\"gridcolor\":\"white\",\"linecolor\":\"white\",\"ticks\":\"\"}},\"coloraxis\":{\"colorbar\":{\"outlinewidth\":0,\"ticks\":\"\"}},\"colorscale\":{\"sequential\":[[0.0,\"#0d0887\"],[0.1111111111111111,\"#46039f\"],[0.2222222222222222,\"#7201a8\"],[0.3333333333333333,\"#9c179e\"],[0.4444444444444444,\"#bd3786\"],[0.5555555555555556,\"#d8576b\"],[0.6666666666666666,\"#ed7953\"],[0.7777777777777778,\"#fb9f3a\"],[0.8888888888888888,\"#fdca26\"],[1.0,\"#f0f921\"]],\"sequentialminus\":[[0.0,\"#0d0887\"],[0.1111111111111111,\"#46039f\"],[0.2222222222222222,\"#7201a8\"],[0.3333333333333333,\"#9c179e\"],[0.4444444444444444,\"#bd3786\"],[0.5555555555555556,\"#d8576b\"],[0.6666666666666666,\"#ed7953\"],[0.7777777777777778,\"#fb9f3a\"],[0.8888888888888888,\"#fdca26\"],[1.0,\"#f0f921\"]],\"diverging\":[[0,\"#8e0152\"],[0.1,\"#c51b7d\"],[0.2,\"#de77ae\"],[0.3,\"#f1b6da\"],[0.4,\"#fde0ef\"],[0.5,\"#f7f7f7\"],[0.6,\"#e6f5d0\"],[0.7,\"#b8e186\"],[0.8,\"#7fbc41\"],[0.9,\"#4d9221\"],[1,\"#276419\"]]},\"xaxis\":{\"gridcolor\":\"white\",\"linecolor\":\"white\",\"ticks\":\"\",\"title\":{\"standoff\":15},\"zerolinecolor\":\"white\",\"automargin\":true,\"zerolinewidth\":2},\"yaxis\":{\"gridcolor\":\"white\",\"linecolor\":\"white\",\"ticks\":\"\",\"title\":{\"standoff\":15},\"zerolinecolor\":\"white\",\"automargin\":true,\"zerolinewidth\":2},\"scene\":{\"xaxis\":{\"backgroundcolor\":\"#E5ECF6\",\"gridcolor\":\"white\",\"linecolor\":\"white\",\"showbackground\":true,\"ticks\":\"\",\"zerolinecolor\":\"white\",\"gridwidth\":2},\"yaxis\":{\"backgroundcolor\":\"#E5ECF6\",\"gridcolor\":\"white\",\"linecolor\":\"white\",\"showbackground\":true,\"ticks\":\"\",\"zerolinecolor\":\"white\",\"gridwidth\":2},\"zaxis\":{\"backgroundcolor\":\"#E5ECF6\",\"gridcolor\":\"white\",\"linecolor\":\"white\",\"showbackground\":true,\"ticks\":\"\",\"zerolinecolor\":\"white\",\"gridwidth\":2}},\"shapedefaults\":{\"line\":{\"color\":\"#2a3f5f\"}},\"annotationdefaults\":{\"arrowcolor\":\"#2a3f5f\",\"arrowhead\":0,\"arrowwidth\":1},\"geo\":{\"bgcolor\":\"white\",\"landcolor\":\"#E5ECF6\",\"subunitcolor\":\"white\",\"showland\":true,\"showlakes\":true,\"lakecolor\":\"white\"},\"title\":{\"x\":0.05},\"mapbox\":{\"style\":\"light\"}}},\"xaxis\":{\"anchor\":\"y\",\"domain\":[0.0,1.0],\"title\":{\"text\":\"Base Value\"}},\"yaxis\":{\"anchor\":\"x\",\"domain\":[0.0,1.0],\"title\":{\"text\":\"\"}},\"legend\":{\"title\":{\"text\":\"Name\"},\"tracegroupgap\":0},\"title\":{\"text\":\"Base Stat Value Comparison\"},\"barmode\":\"group\"},                        {\"responsive\": true}                    ).then(function(){\n",
       "                            \n",
       "var gd = document.getElementById('406e1a83-3f25-4fe7-bd93-16ea6594f337');\n",
       "var x = new MutationObserver(function (mutations, observer) {{\n",
       "        var display = window.getComputedStyle(gd).display;\n",
       "        if (!display || display === 'none') {{\n",
       "            console.log([gd, 'removed!']);\n",
       "            Plotly.purge(gd);\n",
       "            observer.disconnect();\n",
       "        }}\n",
       "}});\n",
       "\n",
       "// Listen for the removal of the full notebook cells\n",
       "var notebookContainer = gd.closest('#notebook-container');\n",
       "if (notebookContainer) {{\n",
       "    x.observe(notebookContainer, {childList: true});\n",
       "}}\n",
       "\n",
       "// Listen for the clearing of the current output cell\n",
       "var outputEl = gd.closest('.output');\n",
       "if (outputEl) {{\n",
       "    x.observe(outputEl, {childList: true});\n",
       "}}\n",
       "\n",
       "                        })                };                });            </script>        </div>"
      ]
     },
     "metadata": {},
     "output_type": "display_data"
    }
   ],
   "source": [
    "import plotly.express as px\n",
    "\n",
    "table = con.sql(\n",
    "    \"\"\"\n",
    "    SELECT *\n",
    "    FROM baseswide\n",
    "    WHERE name in ('Forde', 'Seth')\n",
    "    \"\"\"\n",
    ")\n",
    "\n",
    "table.show()\n",
    "df = table.pl()\n",
    "# Pivot to long format\n",
    "df = df.melt(id_vars=[\"Name\", \"CampaignID\"])\n",
    "\n",
    "fig = px.bar(\n",
    "    df, y=\"variable\", x=\"value\", color=\"Name\", barmode=\"group\",\n",
    "    labels={\"value\": \"Base Value\", \"variable\": \"\"}, title=\"Base Stat Value Comparison\"\n",
    ")\n",
    "fig.show()"
   ]
  },
  {
   "cell_type": "markdown",
   "id": "9fc455ca-2cac-41c0-a38f-a92604272c82",
   "metadata": {},
   "source": [
    "## Base/Growth Cast Wide Scatterplot"
   ]
  },
  {
   "cell_type": "code",
   "execution_count": 49,
   "id": "80b1ff0e-9c02-4d9b-8eeb-5322869a50bd",
   "metadata": {},
   "outputs": [
    {
     "data": {
      "application/vnd.plotly.v1+json": {
       "config": {
        "plotlyServerURL": "https://plot.ly"
       },
       "data": [
        {
         "hovertemplate": "Name=Amelia<br>CampaignID=6<br>Base Speed Value=%{x}<br>Speed Growth (%)=%{y}<extra></extra>",
         "legendgroup": "Amelia, 6",
         "marker": {
          "color": "#636efa",
          "size": 7,
          "symbol": "circle"
         },
         "mode": "markers",
         "name": "Amelia, 6",
         "orientation": "v",
         "showlegend": true,
         "type": "scatter",
         "x": [
          4
         ],
         "xaxis": "x",
         "y": [
          40
         ],
         "yaxis": "y"
        },
        {
         "hovertemplate": "Name=Artur<br>CampaignID=6<br>Base Speed Value=%{x}<br>Speed Growth (%)=%{y}<extra></extra>",
         "legendgroup": "Artur, 6",
         "marker": {
          "color": "#EF553B",
          "size": 7,
          "symbol": "circle"
         },
         "mode": "markers",
         "name": "Artur, 6",
         "orientation": "v",
         "showlegend": true,
         "type": "scatter",
         "x": [
          8
         ],
         "xaxis": "x",
         "y": [
          40
         ],
         "yaxis": "y"
        },
        {
         "hovertemplate": "Name=Caellach<br>CampaignID=7<br>Base Speed Value=%{x}<br>Speed Growth (%)=%{y}<extra></extra>",
         "legendgroup": "Caellach, 7",
         "marker": {
          "color": "#00cc96",
          "size": 7,
          "symbol": "diamond"
         },
         "mode": "markers",
         "name": "Caellach, 7",
         "orientation": "v",
         "showlegend": true,
         "type": "scatter",
         "x": [
          13
         ],
         "xaxis": "x",
         "y": [
          45
         ],
         "yaxis": "y"
        },
        {
         "hovertemplate": "Name=Colm<br>CampaignID=6<br>Base Speed Value=%{x}<br>Speed Growth (%)=%{y}<extra></extra>",
         "legendgroup": "Colm, 6",
         "marker": {
          "color": "#ab63fa",
          "size": 7,
          "symbol": "circle"
         },
         "mode": "markers",
         "name": "Colm, 6",
         "orientation": "v",
         "showlegend": true,
         "type": "scatter",
         "x": [
          10
         ],
         "xaxis": "x",
         "y": [
          65
         ],
         "yaxis": "y"
        },
        {
         "hovertemplate": "Name=Cormag<br>CampaignID=6<br>Base Speed Value=%{x}<br>Speed Growth (%)=%{y}<extra></extra>",
         "legendgroup": "Cormag, 6",
         "marker": {
          "color": "#FFA15A",
          "size": 7,
          "symbol": "circle"
         },
         "mode": "markers",
         "name": "Cormag, 6",
         "orientation": "v",
         "showlegend": true,
         "type": "scatter",
         "x": [
          10
         ],
         "xaxis": "x",
         "y": [
          45
         ],
         "yaxis": "y"
        },
        {
         "hovertemplate": "Name=Dozla<br>CampaignID=6<br>Base Speed Value=%{x}<br>Speed Growth (%)=%{y}<extra></extra>",
         "legendgroup": "Dozla, 6",
         "marker": {
          "color": "#19d3f3",
          "size": 7,
          "symbol": "circle"
         },
         "mode": "markers",
         "name": "Dozla, 6",
         "orientation": "v",
         "showlegend": true,
         "type": "scatter",
         "x": [
          9
         ],
         "xaxis": "x",
         "y": [
          40
         ],
         "yaxis": "y"
        },
        {
         "hovertemplate": "Name=Duessel<br>CampaignID=6<br>Base Speed Value=%{x}<br>Speed Growth (%)=%{y}<extra></extra>",
         "legendgroup": "Duessel, 6",
         "marker": {
          "color": "#FF6692",
          "size": 7,
          "symbol": "circle"
         },
         "mode": "markers",
         "name": "Duessel, 6",
         "orientation": "v",
         "showlegend": true,
         "type": "scatter",
         "x": [
          12
         ],
         "xaxis": "x",
         "y": [
          30
         ],
         "yaxis": "y"
        },
        {
         "hovertemplate": "Name=Eirika<br>CampaignID=6<br>Base Speed Value=%{x}<br>Speed Growth (%)=%{y}<extra></extra>",
         "legendgroup": "Eirika, 6",
         "marker": {
          "color": "#B6E880",
          "size": 7,
          "symbol": "circle"
         },
         "mode": "markers",
         "name": "Eirika, 6",
         "orientation": "v",
         "showlegend": true,
         "type": "scatter",
         "x": [
          9
         ],
         "xaxis": "x",
         "y": [
          60
         ],
         "yaxis": "y"
        },
        {
         "hovertemplate": "Name=Ephraim<br>CampaignID=6<br>Base Speed Value=%{x}<br>Speed Growth (%)=%{y}<extra></extra>",
         "legendgroup": "Ephraim, 6",
         "marker": {
          "color": "#FF97FF",
          "size": 7,
          "symbol": "circle"
         },
         "mode": "markers",
         "name": "Ephraim, 6",
         "orientation": "v",
         "showlegend": true,
         "type": "scatter",
         "x": [
          11
         ],
         "xaxis": "x",
         "y": [
          45
         ],
         "yaxis": "y"
        },
        {
         "hovertemplate": "Name=Ewan<br>CampaignID=6<br>Base Speed Value=%{x}<br>Speed Growth (%)=%{y}<extra></extra>",
         "legendgroup": "Ewan, 6",
         "marker": {
          "color": "#FECB52",
          "size": 7,
          "symbol": "circle"
         },
         "mode": "markers",
         "name": "Ewan, 6",
         "orientation": "v",
         "showlegend": true,
         "type": "scatter",
         "x": [
          5
         ],
         "xaxis": "x",
         "y": [
          35
         ],
         "yaxis": "y"
        },
        {
         "hovertemplate": "Name=Fado<br>CampaignID=7<br>Base Speed Value=%{x}<br>Speed Growth (%)=%{y}<extra></extra>",
         "legendgroup": "Fado, 7",
         "marker": {
          "color": "#636efa",
          "size": 7,
          "symbol": "diamond"
         },
         "mode": "markers",
         "name": "Fado, 7",
         "orientation": "v",
         "showlegend": true,
         "type": "scatter",
         "x": [
          12
         ],
         "xaxis": "x",
         "y": [
          30
         ],
         "yaxis": "y"
        },
        {
         "hovertemplate": "Name=Forde<br>CampaignID=6<br>Base Speed Value=%{x}<br>Speed Growth (%)=%{y}<extra></extra>",
         "legendgroup": "Forde, 6",
         "marker": {
          "color": "#EF553B",
          "size": 7,
          "symbol": "circle"
         },
         "mode": "markers",
         "name": "Forde, 6",
         "orientation": "v",
         "showlegend": true,
         "type": "scatter",
         "x": [
          8
         ],
         "xaxis": "x",
         "y": [
          45
         ],
         "yaxis": "y"
        },
        {
         "hovertemplate": "Name=Franz<br>CampaignID=6<br>Base Speed Value=%{x}<br>Speed Growth (%)=%{y}<extra></extra>",
         "legendgroup": "Franz, 6",
         "marker": {
          "color": "#00cc96",
          "size": 7,
          "symbol": "circle"
         },
         "mode": "markers",
         "name": "Franz, 6",
         "orientation": "v",
         "showlegend": true,
         "type": "scatter",
         "x": [
          7
         ],
         "xaxis": "x",
         "y": [
          50
         ],
         "yaxis": "y"
        },
        {
         "hovertemplate": "Name=Garcia<br>CampaignID=6<br>Base Speed Value=%{x}<br>Speed Growth (%)=%{y}<extra></extra>",
         "legendgroup": "Garcia, 6",
         "marker": {
          "color": "#ab63fa",
          "size": 7,
          "symbol": "circle"
         },
         "mode": "markers",
         "name": "Garcia, 6",
         "orientation": "v",
         "showlegend": true,
         "type": "scatter",
         "x": [
          7
         ],
         "xaxis": "x",
         "y": [
          20
         ],
         "yaxis": "y"
        },
        {
         "hovertemplate": "Name=Gerik<br>CampaignID=6<br>Base Speed Value=%{x}<br>Speed Growth (%)=%{y}<extra></extra>",
         "legendgroup": "Gerik, 6",
         "marker": {
          "color": "#FFA15A",
          "size": 7,
          "symbol": "circle"
         },
         "mode": "markers",
         "name": "Gerik, 6",
         "orientation": "v",
         "showlegend": true,
         "type": "scatter",
         "x": [
          13
         ],
         "xaxis": "x",
         "y": [
          30
         ],
         "yaxis": "y"
        },
        {
         "hovertemplate": "Name=Gilliam<br>CampaignID=6<br>Base Speed Value=%{x}<br>Speed Growth (%)=%{y}<extra></extra>",
         "legendgroup": "Gilliam, 6",
         "marker": {
          "color": "#19d3f3",
          "size": 7,
          "symbol": "circle"
         },
         "mode": "markers",
         "name": "Gilliam, 6",
         "orientation": "v",
         "showlegend": true,
         "type": "scatter",
         "x": [
          3
         ],
         "xaxis": "x",
         "y": [
          30
         ],
         "yaxis": "y"
        },
        {
         "hovertemplate": "Name=Glen<br>CampaignID=7<br>Base Speed Value=%{x}<br>Speed Growth (%)=%{y}<extra></extra>",
         "legendgroup": "Glen, 7",
         "marker": {
          "color": "#FF6692",
          "size": 7,
          "symbol": "diamond"
         },
         "mode": "markers",
         "name": "Glen, 7",
         "orientation": "v",
         "showlegend": true,
         "type": "scatter",
         "x": [
          13
         ],
         "xaxis": "x",
         "y": [
          45
         ],
         "yaxis": "y"
        },
        {
         "hovertemplate": "Name=Hayden<br>CampaignID=7<br>Base Speed Value=%{x}<br>Speed Growth (%)=%{y}<extra></extra>",
         "legendgroup": "Hayden, 7",
         "marker": {
          "color": "#B6E880",
          "size": 7,
          "symbol": "diamond"
         },
         "mode": "markers",
         "name": "Hayden, 7",
         "orientation": "v",
         "showlegend": true,
         "type": "scatter",
         "x": [
          15
         ],
         "xaxis": "x",
         "y": [
          45
         ],
         "yaxis": "y"
        },
        {
         "hovertemplate": "Name=Innes<br>CampaignID=6<br>Base Speed Value=%{x}<br>Speed Growth (%)=%{y}<extra></extra>",
         "legendgroup": "Innes, 6",
         "marker": {
          "color": "#FF97FF",
          "size": 7,
          "symbol": "circle"
         },
         "mode": "markers",
         "name": "Innes, 6",
         "orientation": "v",
         "showlegend": true,
         "type": "scatter",
         "x": [
          15
         ],
         "xaxis": "x",
         "y": [
          45
         ],
         "yaxis": "y"
        },
        {
         "hovertemplate": "Name=Ismaire<br>CampaignID=7<br>Base Speed Value=%{x}<br>Speed Growth (%)=%{y}<extra></extra>",
         "legendgroup": "Ismaire, 7",
         "marker": {
          "color": "#FECB52",
          "size": 7,
          "symbol": "diamond"
         },
         "mode": "markers",
         "name": "Ismaire, 7",
         "orientation": "v",
         "showlegend": true,
         "type": "scatter",
         "x": [
          23
         ],
         "xaxis": "x",
         "y": [
          55
         ],
         "yaxis": "y"
        },
        {
         "hovertemplate": "Name=Joshua<br>CampaignID=6<br>Base Speed Value=%{x}<br>Speed Growth (%)=%{y}<extra></extra>",
         "legendgroup": "Joshua, 6",
         "marker": {
          "color": "#636efa",
          "size": 7,
          "symbol": "circle"
         },
         "mode": "markers",
         "name": "Joshua, 6",
         "orientation": "v",
         "showlegend": true,
         "type": "scatter",
         "x": [
          14
         ],
         "xaxis": "x",
         "y": [
          55
         ],
         "yaxis": "y"
        },
        {
         "hovertemplate": "Name=Knoll<br>CampaignID=6<br>Base Speed Value=%{x}<br>Speed Growth (%)=%{y}<extra></extra>",
         "legendgroup": "Knoll, 6",
         "marker": {
          "color": "#EF553B",
          "size": 7,
          "symbol": "circle"
         },
         "mode": "markers",
         "name": "Knoll, 6",
         "orientation": "v",
         "showlegend": true,
         "type": "scatter",
         "x": [
          8
         ],
         "xaxis": "x",
         "y": [
          35
         ],
         "yaxis": "y"
        },
        {
         "hovertemplate": "Name=Kyle<br>CampaignID=6<br>Base Speed Value=%{x}<br>Speed Growth (%)=%{y}<extra></extra>",
         "legendgroup": "Kyle, 6",
         "marker": {
          "color": "#00cc96",
          "size": 7,
          "symbol": "circle"
         },
         "mode": "markers",
         "name": "Kyle, 6",
         "orientation": "v",
         "showlegend": true,
         "type": "scatter",
         "x": [
          7
         ],
         "xaxis": "x",
         "y": [
          40
         ],
         "yaxis": "y"
        },
        {
         "hovertemplate": "Name=Lute<br>CampaignID=6<br>Base Speed Value=%{x}<br>Speed Growth (%)=%{y}<extra></extra>",
         "legendgroup": "Lute, 6",
         "marker": {
          "color": "#ab63fa",
          "size": 7,
          "symbol": "circle"
         },
         "mode": "markers",
         "name": "Lute, 6",
         "orientation": "v",
         "showlegend": true,
         "type": "scatter",
         "x": [
          7
         ],
         "xaxis": "x",
         "y": [
          45
         ],
         "yaxis": "y"
        },
        {
         "hovertemplate": "Name=Lyon<br>CampaignID=7<br>Base Speed Value=%{x}<br>Speed Growth (%)=%{y}<extra></extra>",
         "legendgroup": "Lyon, 7",
         "marker": {
          "color": "#FFA15A",
          "size": 7,
          "symbol": "diamond"
         },
         "mode": "markers",
         "name": "Lyon, 7",
         "orientation": "v",
         "showlegend": true,
         "type": "scatter",
         "x": [
          11
         ],
         "xaxis": "x",
         "y": [
          55
         ],
         "yaxis": "y"
        },
        {
         "hovertemplate": "Name=L’Arachel<br>CampaignID=6<br>Base Speed Value=%{x}<br>Speed Growth (%)=%{y}<extra></extra>",
         "legendgroup": "L’Arachel, 6",
         "marker": {
          "color": "#19d3f3",
          "size": 7,
          "symbol": "circle"
         },
         "mode": "markers",
         "name": "L’Arachel, 6",
         "orientation": "v",
         "showlegend": true,
         "type": "scatter",
         "x": [
          10
         ],
         "xaxis": "x",
         "y": [
          45
         ],
         "yaxis": "y"
        },
        {
         "hovertemplate": "Name=Marisa<br>CampaignID=6<br>Base Speed Value=%{x}<br>Speed Growth (%)=%{y}<extra></extra>",
         "legendgroup": "Marisa, 6",
         "marker": {
          "color": "#FF6692",
          "size": 7,
          "symbol": "circle"
         },
         "mode": "markers",
         "name": "Marisa, 6",
         "orientation": "v",
         "showlegend": true,
         "type": "scatter",
         "x": [
          13
         ],
         "xaxis": "x",
         "y": [
          60
         ],
         "yaxis": "y"
        },
        {
         "hovertemplate": "Name=Moulder<br>CampaignID=6<br>Base Speed Value=%{x}<br>Speed Growth (%)=%{y}<extra></extra>",
         "legendgroup": "Moulder, 6",
         "marker": {
          "color": "#B6E880",
          "size": 7,
          "symbol": "circle"
         },
         "mode": "markers",
         "name": "Moulder, 6",
         "orientation": "v",
         "showlegend": true,
         "type": "scatter",
         "x": [
          9
         ],
         "xaxis": "x",
         "y": [
          40
         ],
         "yaxis": "y"
        },
        {
         "hovertemplate": "Name=Myrrh<br>CampaignID=6<br>Base Speed Value=%{x}<br>Speed Growth (%)=%{y}<extra></extra>",
         "legendgroup": "Myrrh, 6",
         "marker": {
          "color": "#FF97FF",
          "size": 7,
          "symbol": "circle"
         },
         "mode": "markers",
         "name": "Myrrh, 6",
         "orientation": "v",
         "showlegend": true,
         "type": "scatter",
         "x": [
          5
         ],
         "xaxis": "x",
         "y": [
          65
         ],
         "yaxis": "y"
        },
        {
         "hovertemplate": "Name=Natasha<br>CampaignID=6<br>Base Speed Value=%{x}<br>Speed Growth (%)=%{y}<extra></extra>",
         "legendgroup": "Natasha, 6",
         "marker": {
          "color": "#FECB52",
          "size": 7,
          "symbol": "circle"
         },
         "mode": "markers",
         "name": "Natasha, 6",
         "orientation": "v",
         "showlegend": true,
         "type": "scatter",
         "x": [
          8
         ],
         "xaxis": "x",
         "y": [
          40
         ],
         "yaxis": "y"
        },
        {
         "hovertemplate": "Name=Neimi<br>CampaignID=6<br>Base Speed Value=%{x}<br>Speed Growth (%)=%{y}<extra></extra>",
         "legendgroup": "Neimi, 6",
         "marker": {
          "color": "#636efa",
          "size": 7,
          "symbol": "circle"
         },
         "mode": "markers",
         "name": "Neimi, 6",
         "orientation": "v",
         "showlegend": true,
         "type": "scatter",
         "x": [
          6
         ],
         "xaxis": "x",
         "y": [
          60
         ],
         "yaxis": "y"
        },
        {
         "hovertemplate": "Name=Orson<br>CampaignID=6<br>Base Speed Value=%{x}<br>Speed Growth (%)=%{y}<extra></extra>",
         "legendgroup": "Orson, 6",
         "marker": {
          "color": "#EF553B",
          "size": 7,
          "symbol": "circle"
         },
         "mode": "markers",
         "name": "Orson, 6",
         "orientation": "v",
         "showlegend": true,
         "type": "scatter",
         "x": [
          11,
          14
         ],
         "xaxis": "x",
         "y": [
          40,
          40
         ],
         "yaxis": "y"
        },
        {
         "hovertemplate": "Name=Orson<br>CampaignID=7<br>Base Speed Value=%{x}<br>Speed Growth (%)=%{y}<extra></extra>",
         "legendgroup": "Orson, 7",
         "marker": {
          "color": "#EF553B",
          "size": 7,
          "symbol": "diamond"
         },
         "mode": "markers",
         "name": "Orson, 7",
         "orientation": "v",
         "showlegend": true,
         "type": "scatter",
         "x": [
          11,
          14
         ],
         "xaxis": "x",
         "y": [
          40,
          40
         ],
         "yaxis": "y"
        },
        {
         "hovertemplate": "Name=Rennac<br>CampaignID=6<br>Base Speed Value=%{x}<br>Speed Growth (%)=%{y}<extra></extra>",
         "legendgroup": "Rennac, 6",
         "marker": {
          "color": "#00cc96",
          "size": 7,
          "symbol": "circle"
         },
         "mode": "markers",
         "name": "Rennac, 6",
         "orientation": "v",
         "showlegend": true,
         "type": "scatter",
         "x": [
          17
         ],
         "xaxis": "x",
         "y": [
          60
         ],
         "yaxis": "y"
        },
        {
         "hovertemplate": "Name=Riev<br>CampaignID=7<br>Base Speed Value=%{x}<br>Speed Growth (%)=%{y}<extra></extra>",
         "legendgroup": "Riev, 7",
         "marker": {
          "color": "#ab63fa",
          "size": 7,
          "symbol": "diamond"
         },
         "mode": "markers",
         "name": "Riev, 7",
         "orientation": "v",
         "showlegend": true,
         "type": "scatter",
         "x": [
          19
         ],
         "xaxis": "x",
         "y": [
          40
         ],
         "yaxis": "y"
        },
        {
         "hovertemplate": "Name=Ross<br>CampaignID=6<br>Base Speed Value=%{x}<br>Speed Growth (%)=%{y}<extra></extra>",
         "legendgroup": "Ross, 6",
         "marker": {
          "color": "#FFA15A",
          "size": 7,
          "symbol": "circle"
         },
         "mode": "markers",
         "name": "Ross, 6",
         "orientation": "v",
         "showlegend": true,
         "type": "scatter",
         "x": [
          3
         ],
         "xaxis": "x",
         "y": [
          30
         ],
         "yaxis": "y"
        },
        {
         "hovertemplate": "Name=Selena<br>CampaignID=7<br>Base Speed Value=%{x}<br>Speed Growth (%)=%{y}<extra></extra>",
         "legendgroup": "Selena, 7",
         "marker": {
          "color": "#19d3f3",
          "size": 7,
          "symbol": "diamond"
         },
         "mode": "markers",
         "name": "Selena, 7",
         "orientation": "v",
         "showlegend": true,
         "type": "scatter",
         "x": [
          16
         ],
         "xaxis": "x",
         "y": [
          40
         ],
         "yaxis": "y"
        },
        {
         "hovertemplate": "Name=Seth<br>CampaignID=6<br>Base Speed Value=%{x}<br>Speed Growth (%)=%{y}<extra></extra>",
         "legendgroup": "Seth, 6",
         "marker": {
          "color": "#FF6692",
          "size": 7,
          "symbol": "circle"
         },
         "mode": "markers",
         "name": "Seth, 6",
         "orientation": "v",
         "showlegend": true,
         "type": "scatter",
         "x": [
          12
         ],
         "xaxis": "x",
         "y": [
          45
         ],
         "yaxis": "y"
        },
        {
         "hovertemplate": "Name=Syrene<br>CampaignID=6<br>Base Speed Value=%{x}<br>Speed Growth (%)=%{y}<extra></extra>",
         "legendgroup": "Syrene, 6",
         "marker": {
          "color": "#B6E880",
          "size": 7,
          "symbol": "circle"
         },
         "mode": "markers",
         "name": "Syrene, 6",
         "orientation": "v",
         "showlegend": true,
         "type": "scatter",
         "x": [
          15
         ],
         "xaxis": "x",
         "y": [
          60
         ],
         "yaxis": "y"
        },
        {
         "hovertemplate": "Name=Tana<br>CampaignID=6<br>Base Speed Value=%{x}<br>Speed Growth (%)=%{y}<extra></extra>",
         "legendgroup": "Tana, 6",
         "marker": {
          "color": "#FF97FF",
          "size": 7,
          "symbol": "circle"
         },
         "mode": "markers",
         "name": "Tana, 6",
         "orientation": "v",
         "showlegend": true,
         "type": "scatter",
         "x": [
          13
         ],
         "xaxis": "x",
         "y": [
          65
         ],
         "yaxis": "y"
        },
        {
         "hovertemplate": "Name=Tethys<br>CampaignID=6<br>Base Speed Value=%{x}<br>Speed Growth (%)=%{y}<extra></extra>",
         "legendgroup": "Tethys, 6",
         "marker": {
          "color": "#FECB52",
          "size": 7,
          "symbol": "circle"
         },
         "mode": "markers",
         "name": "Tethys, 6",
         "orientation": "v",
         "showlegend": true,
         "type": "scatter",
         "x": [
          12
         ],
         "xaxis": "x",
         "y": [
          70
         ],
         "yaxis": "y"
        },
        {
         "hovertemplate": "Name=Valter<br>CampaignID=7<br>Base Speed Value=%{x}<br>Speed Growth (%)=%{y}<extra></extra>",
         "legendgroup": "Valter, 7",
         "marker": {
          "color": "#636efa",
          "size": 7,
          "symbol": "diamond"
         },
         "mode": "markers",
         "name": "Valter, 7",
         "orientation": "v",
         "showlegend": true,
         "type": "scatter",
         "x": [
          17
         ],
         "xaxis": "x",
         "y": [
          50
         ],
         "yaxis": "y"
        },
        {
         "hovertemplate": "Name=Vanessa<br>CampaignID=6<br>Base Speed Value=%{x}<br>Speed Growth (%)=%{y}<extra></extra>",
         "legendgroup": "Vanessa, 6",
         "marker": {
          "color": "#EF553B",
          "size": 7,
          "symbol": "circle"
         },
         "mode": "markers",
         "name": "Vanessa, 6",
         "orientation": "v",
         "showlegend": true,
         "type": "scatter",
         "x": [
          11
         ],
         "xaxis": "x",
         "y": [
          60
         ],
         "yaxis": "y"
        },
        {
         "hovertemplate": "Name=Saleh<br>CampaignID=6<br>Base Speed Value=%{x}<br>Speed Growth (%)=%{y}<extra></extra>",
         "legendgroup": "Saleh, 6",
         "marker": {
          "color": "#00cc96",
          "size": 7,
          "symbol": "circle"
         },
         "mode": "markers",
         "name": "Saleh, 6",
         "orientation": "v",
         "showlegend": true,
         "type": "scatter",
         "x": [
          14
         ],
         "xaxis": "x",
         "y": [
          40
         ],
         "yaxis": "y"
        }
       ],
       "layout": {
        "height": 400,
        "legend": {
         "title": {
          "text": "Name, CampaignID"
         },
         "tracegroupgap": 0
        },
        "template": {
         "data": {
          "bar": [
           {
            "error_x": {
             "color": "#f2f5fa"
            },
            "error_y": {
             "color": "#f2f5fa"
            },
            "marker": {
             "line": {
              "color": "rgb(17,17,17)",
              "width": 0.5
             },
             "pattern": {
              "fillmode": "overlay",
              "size": 10,
              "solidity": 0.2
             }
            },
            "type": "bar"
           }
          ],
          "barpolar": [
           {
            "marker": {
             "line": {
              "color": "rgb(17,17,17)",
              "width": 0.5
             },
             "pattern": {
              "fillmode": "overlay",
              "size": 10,
              "solidity": 0.2
             }
            },
            "type": "barpolar"
           }
          ],
          "carpet": [
           {
            "aaxis": {
             "endlinecolor": "#A2B1C6",
             "gridcolor": "#506784",
             "linecolor": "#506784",
             "minorgridcolor": "#506784",
             "startlinecolor": "#A2B1C6"
            },
            "baxis": {
             "endlinecolor": "#A2B1C6",
             "gridcolor": "#506784",
             "linecolor": "#506784",
             "minorgridcolor": "#506784",
             "startlinecolor": "#A2B1C6"
            },
            "type": "carpet"
           }
          ],
          "choropleth": [
           {
            "colorbar": {
             "outlinewidth": 0,
             "ticks": ""
            },
            "type": "choropleth"
           }
          ],
          "contour": [
           {
            "colorbar": {
             "outlinewidth": 0,
             "ticks": ""
            },
            "colorscale": [
             [
              0,
              "#0d0887"
             ],
             [
              0.1111111111111111,
              "#46039f"
             ],
             [
              0.2222222222222222,
              "#7201a8"
             ],
             [
              0.3333333333333333,
              "#9c179e"
             ],
             [
              0.4444444444444444,
              "#bd3786"
             ],
             [
              0.5555555555555556,
              "#d8576b"
             ],
             [
              0.6666666666666666,
              "#ed7953"
             ],
             [
              0.7777777777777778,
              "#fb9f3a"
             ],
             [
              0.8888888888888888,
              "#fdca26"
             ],
             [
              1,
              "#f0f921"
             ]
            ],
            "type": "contour"
           }
          ],
          "contourcarpet": [
           {
            "colorbar": {
             "outlinewidth": 0,
             "ticks": ""
            },
            "type": "contourcarpet"
           }
          ],
          "heatmap": [
           {
            "colorbar": {
             "outlinewidth": 0,
             "ticks": ""
            },
            "colorscale": [
             [
              0,
              "#0d0887"
             ],
             [
              0.1111111111111111,
              "#46039f"
             ],
             [
              0.2222222222222222,
              "#7201a8"
             ],
             [
              0.3333333333333333,
              "#9c179e"
             ],
             [
              0.4444444444444444,
              "#bd3786"
             ],
             [
              0.5555555555555556,
              "#d8576b"
             ],
             [
              0.6666666666666666,
              "#ed7953"
             ],
             [
              0.7777777777777778,
              "#fb9f3a"
             ],
             [
              0.8888888888888888,
              "#fdca26"
             ],
             [
              1,
              "#f0f921"
             ]
            ],
            "type": "heatmap"
           }
          ],
          "heatmapgl": [
           {
            "colorbar": {
             "outlinewidth": 0,
             "ticks": ""
            },
            "colorscale": [
             [
              0,
              "#0d0887"
             ],
             [
              0.1111111111111111,
              "#46039f"
             ],
             [
              0.2222222222222222,
              "#7201a8"
             ],
             [
              0.3333333333333333,
              "#9c179e"
             ],
             [
              0.4444444444444444,
              "#bd3786"
             ],
             [
              0.5555555555555556,
              "#d8576b"
             ],
             [
              0.6666666666666666,
              "#ed7953"
             ],
             [
              0.7777777777777778,
              "#fb9f3a"
             ],
             [
              0.8888888888888888,
              "#fdca26"
             ],
             [
              1,
              "#f0f921"
             ]
            ],
            "type": "heatmapgl"
           }
          ],
          "histogram": [
           {
            "marker": {
             "pattern": {
              "fillmode": "overlay",
              "size": 10,
              "solidity": 0.2
             }
            },
            "type": "histogram"
           }
          ],
          "histogram2d": [
           {
            "colorbar": {
             "outlinewidth": 0,
             "ticks": ""
            },
            "colorscale": [
             [
              0,
              "#0d0887"
             ],
             [
              0.1111111111111111,
              "#46039f"
             ],
             [
              0.2222222222222222,
              "#7201a8"
             ],
             [
              0.3333333333333333,
              "#9c179e"
             ],
             [
              0.4444444444444444,
              "#bd3786"
             ],
             [
              0.5555555555555556,
              "#d8576b"
             ],
             [
              0.6666666666666666,
              "#ed7953"
             ],
             [
              0.7777777777777778,
              "#fb9f3a"
             ],
             [
              0.8888888888888888,
              "#fdca26"
             ],
             [
              1,
              "#f0f921"
             ]
            ],
            "type": "histogram2d"
           }
          ],
          "histogram2dcontour": [
           {
            "colorbar": {
             "outlinewidth": 0,
             "ticks": ""
            },
            "colorscale": [
             [
              0,
              "#0d0887"
             ],
             [
              0.1111111111111111,
              "#46039f"
             ],
             [
              0.2222222222222222,
              "#7201a8"
             ],
             [
              0.3333333333333333,
              "#9c179e"
             ],
             [
              0.4444444444444444,
              "#bd3786"
             ],
             [
              0.5555555555555556,
              "#d8576b"
             ],
             [
              0.6666666666666666,
              "#ed7953"
             ],
             [
              0.7777777777777778,
              "#fb9f3a"
             ],
             [
              0.8888888888888888,
              "#fdca26"
             ],
             [
              1,
              "#f0f921"
             ]
            ],
            "type": "histogram2dcontour"
           }
          ],
          "mesh3d": [
           {
            "colorbar": {
             "outlinewidth": 0,
             "ticks": ""
            },
            "type": "mesh3d"
           }
          ],
          "parcoords": [
           {
            "line": {
             "colorbar": {
              "outlinewidth": 0,
              "ticks": ""
             }
            },
            "type": "parcoords"
           }
          ],
          "pie": [
           {
            "automargin": true,
            "type": "pie"
           }
          ],
          "scatter": [
           {
            "marker": {
             "line": {
              "color": "#283442"
             }
            },
            "type": "scatter"
           }
          ],
          "scatter3d": [
           {
            "line": {
             "colorbar": {
              "outlinewidth": 0,
              "ticks": ""
             }
            },
            "marker": {
             "colorbar": {
              "outlinewidth": 0,
              "ticks": ""
             }
            },
            "type": "scatter3d"
           }
          ],
          "scattercarpet": [
           {
            "marker": {
             "colorbar": {
              "outlinewidth": 0,
              "ticks": ""
             }
            },
            "type": "scattercarpet"
           }
          ],
          "scattergeo": [
           {
            "marker": {
             "colorbar": {
              "outlinewidth": 0,
              "ticks": ""
             }
            },
            "type": "scattergeo"
           }
          ],
          "scattergl": [
           {
            "marker": {
             "line": {
              "color": "#283442"
             }
            },
            "type": "scattergl"
           }
          ],
          "scattermapbox": [
           {
            "marker": {
             "colorbar": {
              "outlinewidth": 0,
              "ticks": ""
             }
            },
            "type": "scattermapbox"
           }
          ],
          "scatterpolar": [
           {
            "marker": {
             "colorbar": {
              "outlinewidth": 0,
              "ticks": ""
             }
            },
            "type": "scatterpolar"
           }
          ],
          "scatterpolargl": [
           {
            "marker": {
             "colorbar": {
              "outlinewidth": 0,
              "ticks": ""
             }
            },
            "type": "scatterpolargl"
           }
          ],
          "scatterternary": [
           {
            "marker": {
             "colorbar": {
              "outlinewidth": 0,
              "ticks": ""
             }
            },
            "type": "scatterternary"
           }
          ],
          "surface": [
           {
            "colorbar": {
             "outlinewidth": 0,
             "ticks": ""
            },
            "colorscale": [
             [
              0,
              "#0d0887"
             ],
             [
              0.1111111111111111,
              "#46039f"
             ],
             [
              0.2222222222222222,
              "#7201a8"
             ],
             [
              0.3333333333333333,
              "#9c179e"
             ],
             [
              0.4444444444444444,
              "#bd3786"
             ],
             [
              0.5555555555555556,
              "#d8576b"
             ],
             [
              0.6666666666666666,
              "#ed7953"
             ],
             [
              0.7777777777777778,
              "#fb9f3a"
             ],
             [
              0.8888888888888888,
              "#fdca26"
             ],
             [
              1,
              "#f0f921"
             ]
            ],
            "type": "surface"
           }
          ],
          "table": [
           {
            "cells": {
             "fill": {
              "color": "#506784"
             },
             "line": {
              "color": "rgb(17,17,17)"
             }
            },
            "header": {
             "fill": {
              "color": "#2a3f5f"
             },
             "line": {
              "color": "rgb(17,17,17)"
             }
            },
            "type": "table"
           }
          ]
         },
         "layout": {
          "annotationdefaults": {
           "arrowcolor": "#f2f5fa",
           "arrowhead": 0,
           "arrowwidth": 1
          },
          "autotypenumbers": "strict",
          "coloraxis": {
           "colorbar": {
            "outlinewidth": 0,
            "ticks": ""
           }
          },
          "colorscale": {
           "diverging": [
            [
             0,
             "#8e0152"
            ],
            [
             0.1,
             "#c51b7d"
            ],
            [
             0.2,
             "#de77ae"
            ],
            [
             0.3,
             "#f1b6da"
            ],
            [
             0.4,
             "#fde0ef"
            ],
            [
             0.5,
             "#f7f7f7"
            ],
            [
             0.6,
             "#e6f5d0"
            ],
            [
             0.7,
             "#b8e186"
            ],
            [
             0.8,
             "#7fbc41"
            ],
            [
             0.9,
             "#4d9221"
            ],
            [
             1,
             "#276419"
            ]
           ],
           "sequential": [
            [
             0,
             "#0d0887"
            ],
            [
             0.1111111111111111,
             "#46039f"
            ],
            [
             0.2222222222222222,
             "#7201a8"
            ],
            [
             0.3333333333333333,
             "#9c179e"
            ],
            [
             0.4444444444444444,
             "#bd3786"
            ],
            [
             0.5555555555555556,
             "#d8576b"
            ],
            [
             0.6666666666666666,
             "#ed7953"
            ],
            [
             0.7777777777777778,
             "#fb9f3a"
            ],
            [
             0.8888888888888888,
             "#fdca26"
            ],
            [
             1,
             "#f0f921"
            ]
           ],
           "sequentialminus": [
            [
             0,
             "#0d0887"
            ],
            [
             0.1111111111111111,
             "#46039f"
            ],
            [
             0.2222222222222222,
             "#7201a8"
            ],
            [
             0.3333333333333333,
             "#9c179e"
            ],
            [
             0.4444444444444444,
             "#bd3786"
            ],
            [
             0.5555555555555556,
             "#d8576b"
            ],
            [
             0.6666666666666666,
             "#ed7953"
            ],
            [
             0.7777777777777778,
             "#fb9f3a"
            ],
            [
             0.8888888888888888,
             "#fdca26"
            ],
            [
             1,
             "#f0f921"
            ]
           ]
          },
          "colorway": [
           "#636efa",
           "#EF553B",
           "#00cc96",
           "#ab63fa",
           "#FFA15A",
           "#19d3f3",
           "#FF6692",
           "#B6E880",
           "#FF97FF",
           "#FECB52"
          ],
          "font": {
           "color": "#f2f5fa"
          },
          "geo": {
           "bgcolor": "rgb(17,17,17)",
           "lakecolor": "rgb(17,17,17)",
           "landcolor": "rgb(17,17,17)",
           "showlakes": true,
           "showland": true,
           "subunitcolor": "#506784"
          },
          "hoverlabel": {
           "align": "left"
          },
          "hovermode": "closest",
          "mapbox": {
           "style": "dark"
          },
          "paper_bgcolor": "rgb(17,17,17)",
          "plot_bgcolor": "rgb(17,17,17)",
          "polar": {
           "angularaxis": {
            "gridcolor": "#506784",
            "linecolor": "#506784",
            "ticks": ""
           },
           "bgcolor": "rgb(17,17,17)",
           "radialaxis": {
            "gridcolor": "#506784",
            "linecolor": "#506784",
            "ticks": ""
           }
          },
          "scene": {
           "xaxis": {
            "backgroundcolor": "rgb(17,17,17)",
            "gridcolor": "#506784",
            "gridwidth": 2,
            "linecolor": "#506784",
            "showbackground": true,
            "ticks": "",
            "zerolinecolor": "#C8D4E3"
           },
           "yaxis": {
            "backgroundcolor": "rgb(17,17,17)",
            "gridcolor": "#506784",
            "gridwidth": 2,
            "linecolor": "#506784",
            "showbackground": true,
            "ticks": "",
            "zerolinecolor": "#C8D4E3"
           },
           "zaxis": {
            "backgroundcolor": "rgb(17,17,17)",
            "gridcolor": "#506784",
            "gridwidth": 2,
            "linecolor": "#506784",
            "showbackground": true,
            "ticks": "",
            "zerolinecolor": "#C8D4E3"
           }
          },
          "shapedefaults": {
           "line": {
            "color": "#f2f5fa"
           }
          },
          "sliderdefaults": {
           "bgcolor": "#C8D4E3",
           "bordercolor": "rgb(17,17,17)",
           "borderwidth": 1,
           "tickwidth": 0
          },
          "ternary": {
           "aaxis": {
            "gridcolor": "#506784",
            "linecolor": "#506784",
            "ticks": ""
           },
           "baxis": {
            "gridcolor": "#506784",
            "linecolor": "#506784",
            "ticks": ""
           },
           "bgcolor": "rgb(17,17,17)",
           "caxis": {
            "gridcolor": "#506784",
            "linecolor": "#506784",
            "ticks": ""
           }
          },
          "title": {
           "x": 0.05
          },
          "updatemenudefaults": {
           "bgcolor": "#506784",
           "borderwidth": 0
          },
          "xaxis": {
           "automargin": true,
           "gridcolor": "#283442",
           "linecolor": "#506784",
           "ticks": "",
           "title": {
            "standoff": 15
           },
           "zerolinecolor": "#283442",
           "zerolinewidth": 2
          },
          "yaxis": {
           "automargin": true,
           "gridcolor": "#283442",
           "linecolor": "#506784",
           "ticks": "",
           "title": {
            "standoff": 15
           },
           "zerolinecolor": "#283442",
           "zerolinewidth": 2
          }
         }
        },
        "title": {
         "text": "Sacred Stones Speed Bases vs. Growth Scatterplot"
        },
        "width": 1000,
        "xaxis": {
         "anchor": "y",
         "autorange": true,
         "domain": [
          0,
          1
         ],
         "range": [
          1.7431612081241101,
          24.25683879187589
         ],
         "title": {
          "text": "Base Speed Value"
         },
         "type": "linear"
        },
        "yaxis": {
         "anchor": "x",
         "autorange": true,
         "domain": [
          0,
          1
         ],
         "range": [
          15.937912813738441,
          74.06208718626156
         ],
         "title": {
          "text": "Speed Growth (%)"
         },
         "type": "linear"
        }
       }
      },
      "image/png": "[encoded data removed]",
      "text/html": [
       "<div>                            <div id=\"1be99f1d-5846-4b32-ba35-c4d55e4951fb\" class=\"plotly-graph-div\" style=\"height:400px; width:1000px;\"></div>            <script type=\"text/javascript\">                require([\"plotly\"], function(Plotly) {                    window.PLOTLYENV=window.PLOTLYENV || {};                                    if (document.getElementById(\"1be99f1d-5846-4b32-ba35-c4d55e4951fb\")) {                    Plotly.newPlot(                        \"1be99f1d-5846-4b32-ba35-c4d55e4951fb\",                        [{\"hovertemplate\":\"Name=Amelia\\u003cbr\\u003eCampaignID=6\\u003cbr\\u003eBase Speed Value=%{x}\\u003cbr\\u003eSpeed Growth (%)=%{y}\\u003cextra\\u003e\\u003c\\u002fextra\\u003e\",\"legendgroup\":\"Amelia, 6\",\"marker\":{\"color\":\"#636efa\",\"symbol\":\"circle\",\"size\":7},\"mode\":\"markers\",\"name\":\"Amelia, 6\",\"orientation\":\"v\",\"showlegend\":true,\"x\":[4],\"xaxis\":\"x\",\"y\":[40],\"yaxis\":\"y\",\"type\":\"scatter\"},{\"hovertemplate\":\"Name=Artur\\u003cbr\\u003eCampaignID=6\\u003cbr\\u003eBase Speed Value=%{x}\\u003cbr\\u003eSpeed Growth (%)=%{y}\\u003cextra\\u003e\\u003c\\u002fextra\\u003e\",\"legendgroup\":\"Artur, 6\",\"marker\":{\"color\":\"#EF553B\",\"symbol\":\"circle\",\"size\":7},\"mode\":\"markers\",\"name\":\"Artur, 6\",\"orientation\":\"v\",\"showlegend\":true,\"x\":[8],\"xaxis\":\"x\",\"y\":[40],\"yaxis\":\"y\",\"type\":\"scatter\"},{\"hovertemplate\":\"Name=Caellach\\u003cbr\\u003eCampaignID=7\\u003cbr\\u003eBase Speed Value=%{x}\\u003cbr\\u003eSpeed Growth (%)=%{y}\\u003cextra\\u003e\\u003c\\u002fextra\\u003e\",\"legendgroup\":\"Caellach, 7\",\"marker\":{\"color\":\"#00cc96\",\"symbol\":\"diamond\",\"size\":7},\"mode\":\"markers\",\"name\":\"Caellach, 7\",\"orientation\":\"v\",\"showlegend\":true,\"x\":[13],\"xaxis\":\"x\",\"y\":[45],\"yaxis\":\"y\",\"type\":\"scatter\"},{\"hovertemplate\":\"Name=Colm\\u003cbr\\u003eCampaignID=6\\u003cbr\\u003eBase Speed Value=%{x}\\u003cbr\\u003eSpeed Growth (%)=%{y}\\u003cextra\\u003e\\u003c\\u002fextra\\u003e\",\"legendgroup\":\"Colm, 6\",\"marker\":{\"color\":\"#ab63fa\",\"symbol\":\"circle\",\"size\":7},\"mode\":\"markers\",\"name\":\"Colm, 6\",\"orientation\":\"v\",\"showlegend\":true,\"x\":[10],\"xaxis\":\"x\",\"y\":[65],\"yaxis\":\"y\",\"type\":\"scatter\"},{\"hovertemplate\":\"Name=Cormag\\u003cbr\\u003eCampaignID=6\\u003cbr\\u003eBase Speed Value=%{x}\\u003cbr\\u003eSpeed Growth (%)=%{y}\\u003cextra\\u003e\\u003c\\u002fextra\\u003e\",\"legendgroup\":\"Cormag, 6\",\"marker\":{\"color\":\"#FFA15A\",\"symbol\":\"circle\",\"size\":7},\"mode\":\"markers\",\"name\":\"Cormag, 6\",\"orientation\":\"v\",\"showlegend\":true,\"x\":[10],\"xaxis\":\"x\",\"y\":[45],\"yaxis\":\"y\",\"type\":\"scatter\"},{\"hovertemplate\":\"Name=Dozla\\u003cbr\\u003eCampaignID=6\\u003cbr\\u003eBase Speed Value=%{x}\\u003cbr\\u003eSpeed Growth (%)=%{y}\\u003cextra\\u003e\\u003c\\u002fextra\\u003e\",\"legendgroup\":\"Dozla, 6\",\"marker\":{\"color\":\"#19d3f3\",\"symbol\":\"circle\",\"size\":7},\"mode\":\"markers\",\"name\":\"Dozla, 6\",\"orientation\":\"v\",\"showlegend\":true,\"x\":[9],\"xaxis\":\"x\",\"y\":[40],\"yaxis\":\"y\",\"type\":\"scatter\"},{\"hovertemplate\":\"Name=Duessel\\u003cbr\\u003eCampaignID=6\\u003cbr\\u003eBase Speed Value=%{x}\\u003cbr\\u003eSpeed Growth (%)=%{y}\\u003cextra\\u003e\\u003c\\u002fextra\\u003e\",\"legendgroup\":\"Duessel, 6\",\"marker\":{\"color\":\"#FF6692\",\"symbol\":\"circle\",\"size\":7},\"mode\":\"markers\",\"name\":\"Duessel, 6\",\"orientation\":\"v\",\"showlegend\":true,\"x\":[12],\"xaxis\":\"x\",\"y\":[30],\"yaxis\":\"y\",\"type\":\"scatter\"},{\"hovertemplate\":\"Name=Eirika\\u003cbr\\u003eCampaignID=6\\u003cbr\\u003eBase Speed Value=%{x}\\u003cbr\\u003eSpeed Growth (%)=%{y}\\u003cextra\\u003e\\u003c\\u002fextra\\u003e\",\"legendgroup\":\"Eirika, 6\",\"marker\":{\"color\":\"#B6E880\",\"symbol\":\"circle\",\"size\":7},\"mode\":\"markers\",\"name\":\"Eirika, 6\",\"orientation\":\"v\",\"showlegend\":true,\"x\":[9],\"xaxis\":\"x\",\"y\":[60],\"yaxis\":\"y\",\"type\":\"scatter\"},{\"hovertemplate\":\"Name=Ephraim\\u003cbr\\u003eCampaignID=6\\u003cbr\\u003eBase Speed Value=%{x}\\u003cbr\\u003eSpeed Growth (%)=%{y}\\u003cextra\\u003e\\u003c\\u002fextra\\u003e\",\"legendgroup\":\"Ephraim, 6\",\"marker\":{\"color\":\"#FF97FF\",\"symbol\":\"circle\",\"size\":7},\"mode\":\"markers\",\"name\":\"Ephraim, 6\",\"orientation\":\"v\",\"showlegend\":true,\"x\":[11],\"xaxis\":\"x\",\"y\":[45],\"yaxis\":\"y\",\"type\":\"scatter\"},{\"hovertemplate\":\"Name=Ewan\\u003cbr\\u003eCampaignID=6\\u003cbr\\u003eBase Speed Value=%{x}\\u003cbr\\u003eSpeed Growth (%)=%{y}\\u003cextra\\u003e\\u003c\\u002fextra\\u003e\",\"legendgroup\":\"Ewan, 6\",\"marker\":{\"color\":\"#FECB52\",\"symbol\":\"circle\",\"size\":7},\"mode\":\"markers\",\"name\":\"Ewan, 6\",\"orientation\":\"v\",\"showlegend\":true,\"x\":[5],\"xaxis\":\"x\",\"y\":[35],\"yaxis\":\"y\",\"type\":\"scatter\"},{\"hovertemplate\":\"Name=Fado\\u003cbr\\u003eCampaignID=7\\u003cbr\\u003eBase Speed Value=%{x}\\u003cbr\\u003eSpeed Growth (%)=%{y}\\u003cextra\\u003e\\u003c\\u002fextra\\u003e\",\"legendgroup\":\"Fado, 7\",\"marker\":{\"color\":\"#636efa\",\"symbol\":\"diamond\",\"size\":7},\"mode\":\"markers\",\"name\":\"Fado, 7\",\"orientation\":\"v\",\"showlegend\":true,\"x\":[12],\"xaxis\":\"x\",\"y\":[30],\"yaxis\":\"y\",\"type\":\"scatter\"},{\"hovertemplate\":\"Name=Forde\\u003cbr\\u003eCampaignID=6\\u003cbr\\u003eBase Speed Value=%{x}\\u003cbr\\u003eSpeed Growth (%)=%{y}\\u003cextra\\u003e\\u003c\\u002fextra\\u003e\",\"legendgroup\":\"Forde, 6\",\"marker\":{\"color\":\"#EF553B\",\"symbol\":\"circle\",\"size\":7},\"mode\":\"markers\",\"name\":\"Forde, 6\",\"orientation\":\"v\",\"showlegend\":true,\"x\":[8],\"xaxis\":\"x\",\"y\":[45],\"yaxis\":\"y\",\"type\":\"scatter\"},{\"hovertemplate\":\"Name=Franz\\u003cbr\\u003eCampaignID=6\\u003cbr\\u003eBase Speed Value=%{x}\\u003cbr\\u003eSpeed Growth (%)=%{y}\\u003cextra\\u003e\\u003c\\u002fextra\\u003e\",\"legendgroup\":\"Franz, 6\",\"marker\":{\"color\":\"#00cc96\",\"symbol\":\"circle\",\"size\":7},\"mode\":\"markers\",\"name\":\"Franz, 6\",\"orientation\":\"v\",\"showlegend\":true,\"x\":[7],\"xaxis\":\"x\",\"y\":[50],\"yaxis\":\"y\",\"type\":\"scatter\"},{\"hovertemplate\":\"Name=Garcia\\u003cbr\\u003eCampaignID=6\\u003cbr\\u003eBase Speed Value=%{x}\\u003cbr\\u003eSpeed Growth (%)=%{y}\\u003cextra\\u003e\\u003c\\u002fextra\\u003e\",\"legendgroup\":\"Garcia, 6\",\"marker\":{\"color\":\"#ab63fa\",\"symbol\":\"circle\",\"size\":7},\"mode\":\"markers\",\"name\":\"Garcia, 6\",\"orientation\":\"v\",\"showlegend\":true,\"x\":[7],\"xaxis\":\"x\",\"y\":[20],\"yaxis\":\"y\",\"type\":\"scatter\"},{\"hovertemplate\":\"Name=Gerik\\u003cbr\\u003eCampaignID=6\\u003cbr\\u003eBase Speed Value=%{x}\\u003cbr\\u003eSpeed Growth (%)=%{y}\\u003cextra\\u003e\\u003c\\u002fextra\\u003e\",\"legendgroup\":\"Gerik, 6\",\"marker\":{\"color\":\"#FFA15A\",\"symbol\":\"circle\",\"size\":7},\"mode\":\"markers\",\"name\":\"Gerik, 6\",\"orientation\":\"v\",\"showlegend\":true,\"x\":[13],\"xaxis\":\"x\",\"y\":[30],\"yaxis\":\"y\",\"type\":\"scatter\"},{\"hovertemplate\":\"Name=Gilliam\\u003cbr\\u003eCampaignID=6\\u003cbr\\u003eBase Speed Value=%{x}\\u003cbr\\u003eSpeed Growth (%)=%{y}\\u003cextra\\u003e\\u003c\\u002fextra\\u003e\",\"legendgroup\":\"Gilliam, 6\",\"marker\":{\"color\":\"#19d3f3\",\"symbol\":\"circle\",\"size\":7},\"mode\":\"markers\",\"name\":\"Gilliam, 6\",\"orientation\":\"v\",\"showlegend\":true,\"x\":[3],\"xaxis\":\"x\",\"y\":[30],\"yaxis\":\"y\",\"type\":\"scatter\"},{\"hovertemplate\":\"Name=Glen\\u003cbr\\u003eCampaignID=7\\u003cbr\\u003eBase Speed Value=%{x}\\u003cbr\\u003eSpeed Growth (%)=%{y}\\u003cextra\\u003e\\u003c\\u002fextra\\u003e\",\"legendgroup\":\"Glen, 7\",\"marker\":{\"color\":\"#FF6692\",\"symbol\":\"diamond\",\"size\":7},\"mode\":\"markers\",\"name\":\"Glen, 7\",\"orientation\":\"v\",\"showlegend\":true,\"x\":[13],\"xaxis\":\"x\",\"y\":[45],\"yaxis\":\"y\",\"type\":\"scatter\"},{\"hovertemplate\":\"Name=Hayden\\u003cbr\\u003eCampaignID=7\\u003cbr\\u003eBase Speed Value=%{x}\\u003cbr\\u003eSpeed Growth (%)=%{y}\\u003cextra\\u003e\\u003c\\u002fextra\\u003e\",\"legendgroup\":\"Hayden, 7\",\"marker\":{\"color\":\"#B6E880\",\"symbol\":\"diamond\",\"size\":7},\"mode\":\"markers\",\"name\":\"Hayden, 7\",\"orientation\":\"v\",\"showlegend\":true,\"x\":[15],\"xaxis\":\"x\",\"y\":[45],\"yaxis\":\"y\",\"type\":\"scatter\"},{\"hovertemplate\":\"Name=Innes\\u003cbr\\u003eCampaignID=6\\u003cbr\\u003eBase Speed Value=%{x}\\u003cbr\\u003eSpeed Growth (%)=%{y}\\u003cextra\\u003e\\u003c\\u002fextra\\u003e\",\"legendgroup\":\"Innes, 6\",\"marker\":{\"color\":\"#FF97FF\",\"symbol\":\"circle\",\"size\":7},\"mode\":\"markers\",\"name\":\"Innes, 6\",\"orientation\":\"v\",\"showlegend\":true,\"x\":[15],\"xaxis\":\"x\",\"y\":[45],\"yaxis\":\"y\",\"type\":\"scatter\"},{\"hovertemplate\":\"Name=Ismaire\\u003cbr\\u003eCampaignID=7\\u003cbr\\u003eBase Speed Value=%{x}\\u003cbr\\u003eSpeed Growth (%)=%{y}\\u003cextra\\u003e\\u003c\\u002fextra\\u003e\",\"legendgroup\":\"Ismaire, 7\",\"marker\":{\"color\":\"#FECB52\",\"symbol\":\"diamond\",\"size\":7},\"mode\":\"markers\",\"name\":\"Ismaire, 7\",\"orientation\":\"v\",\"showlegend\":true,\"x\":[23],\"xaxis\":\"x\",\"y\":[55],\"yaxis\":\"y\",\"type\":\"scatter\"},{\"hovertemplate\":\"Name=Joshua\\u003cbr\\u003eCampaignID=6\\u003cbr\\u003eBase Speed Value=%{x}\\u003cbr\\u003eSpeed Growth (%)=%{y}\\u003cextra\\u003e\\u003c\\u002fextra\\u003e\",\"legendgroup\":\"Joshua, 6\",\"marker\":{\"color\":\"#636efa\",\"symbol\":\"circle\",\"size\":7},\"mode\":\"markers\",\"name\":\"Joshua, 6\",\"orientation\":\"v\",\"showlegend\":true,\"x\":[14],\"xaxis\":\"x\",\"y\":[55],\"yaxis\":\"y\",\"type\":\"scatter\"},{\"hovertemplate\":\"Name=Knoll\\u003cbr\\u003eCampaignID=6\\u003cbr\\u003eBase Speed Value=%{x}\\u003cbr\\u003eSpeed Growth (%)=%{y}\\u003cextra\\u003e\\u003c\\u002fextra\\u003e\",\"legendgroup\":\"Knoll, 6\",\"marker\":{\"color\":\"#EF553B\",\"symbol\":\"circle\",\"size\":7},\"mode\":\"markers\",\"name\":\"Knoll, 6\",\"orientation\":\"v\",\"showlegend\":true,\"x\":[8],\"xaxis\":\"x\",\"y\":[35],\"yaxis\":\"y\",\"type\":\"scatter\"},{\"hovertemplate\":\"Name=Kyle\\u003cbr\\u003eCampaignID=6\\u003cbr\\u003eBase Speed Value=%{x}\\u003cbr\\u003eSpeed Growth (%)=%{y}\\u003cextra\\u003e\\u003c\\u002fextra\\u003e\",\"legendgroup\":\"Kyle, 6\",\"marker\":{\"color\":\"#00cc96\",\"symbol\":\"circle\",\"size\":7},\"mode\":\"markers\",\"name\":\"Kyle, 6\",\"orientation\":\"v\",\"showlegend\":true,\"x\":[7],\"xaxis\":\"x\",\"y\":[40],\"yaxis\":\"y\",\"type\":\"scatter\"},{\"hovertemplate\":\"Name=Lute\\u003cbr\\u003eCampaignID=6\\u003cbr\\u003eBase Speed Value=%{x}\\u003cbr\\u003eSpeed Growth (%)=%{y}\\u003cextra\\u003e\\u003c\\u002fextra\\u003e\",\"legendgroup\":\"Lute, 6\",\"marker\":{\"color\":\"#ab63fa\",\"symbol\":\"circle\",\"size\":7},\"mode\":\"markers\",\"name\":\"Lute, 6\",\"orientation\":\"v\",\"showlegend\":true,\"x\":[7],\"xaxis\":\"x\",\"y\":[45],\"yaxis\":\"y\",\"type\":\"scatter\"},{\"hovertemplate\":\"Name=Lyon\\u003cbr\\u003eCampaignID=7\\u003cbr\\u003eBase Speed Value=%{x}\\u003cbr\\u003eSpeed Growth (%)=%{y}\\u003cextra\\u003e\\u003c\\u002fextra\\u003e\",\"legendgroup\":\"Lyon, 7\",\"marker\":{\"color\":\"#FFA15A\",\"symbol\":\"diamond\",\"size\":7},\"mode\":\"markers\",\"name\":\"Lyon, 7\",\"orientation\":\"v\",\"showlegend\":true,\"x\":[11],\"xaxis\":\"x\",\"y\":[55],\"yaxis\":\"y\",\"type\":\"scatter\"},{\"hovertemplate\":\"Name=L\\u2019Arachel\\u003cbr\\u003eCampaignID=6\\u003cbr\\u003eBase Speed Value=%{x}\\u003cbr\\u003eSpeed Growth (%)=%{y}\\u003cextra\\u003e\\u003c\\u002fextra\\u003e\",\"legendgroup\":\"L\\u2019Arachel, 6\",\"marker\":{\"color\":\"#19d3f3\",\"symbol\":\"circle\",\"size\":7},\"mode\":\"markers\",\"name\":\"L\\u2019Arachel, 6\",\"orientation\":\"v\",\"showlegend\":true,\"x\":[10],\"xaxis\":\"x\",\"y\":[45],\"yaxis\":\"y\",\"type\":\"scatter\"},{\"hovertemplate\":\"Name=Marisa\\u003cbr\\u003eCampaignID=6\\u003cbr\\u003eBase Speed Value=%{x}\\u003cbr\\u003eSpeed Growth (%)=%{y}\\u003cextra\\u003e\\u003c\\u002fextra\\u003e\",\"legendgroup\":\"Marisa, 6\",\"marker\":{\"color\":\"#FF6692\",\"symbol\":\"circle\",\"size\":7},\"mode\":\"markers\",\"name\":\"Marisa, 6\",\"orientation\":\"v\",\"showlegend\":true,\"x\":[13],\"xaxis\":\"x\",\"y\":[60],\"yaxis\":\"y\",\"type\":\"scatter\"},{\"hovertemplate\":\"Name=Moulder\\u003cbr\\u003eCampaignID=6\\u003cbr\\u003eBase Speed Value=%{x}\\u003cbr\\u003eSpeed Growth (%)=%{y}\\u003cextra\\u003e\\u003c\\u002fextra\\u003e\",\"legendgroup\":\"Moulder, 6\",\"marker\":{\"color\":\"#B6E880\",\"symbol\":\"circle\",\"size\":7},\"mode\":\"markers\",\"name\":\"Moulder, 6\",\"orientation\":\"v\",\"showlegend\":true,\"x\":[9],\"xaxis\":\"x\",\"y\":[40],\"yaxis\":\"y\",\"type\":\"scatter\"},{\"hovertemplate\":\"Name=Myrrh\\u003cbr\\u003eCampaignID=6\\u003cbr\\u003eBase Speed Value=%{x}\\u003cbr\\u003eSpeed Growth (%)=%{y}\\u003cextra\\u003e\\u003c\\u002fextra\\u003e\",\"legendgroup\":\"Myrrh, 6\",\"marker\":{\"color\":\"#FF97FF\",\"symbol\":\"circle\",\"size\":7},\"mode\":\"markers\",\"name\":\"Myrrh, 6\",\"orientation\":\"v\",\"showlegend\":true,\"x\":[5],\"xaxis\":\"x\",\"y\":[65],\"yaxis\":\"y\",\"type\":\"scatter\"},{\"hovertemplate\":\"Name=Natasha\\u003cbr\\u003eCampaignID=6\\u003cbr\\u003eBase Speed Value=%{x}\\u003cbr\\u003eSpeed Growth (%)=%{y}\\u003cextra\\u003e\\u003c\\u002fextra\\u003e\",\"legendgroup\":\"Natasha, 6\",\"marker\":{\"color\":\"#FECB52\",\"symbol\":\"circle\",\"size\":7},\"mode\":\"markers\",\"name\":\"Natasha, 6\",\"orientation\":\"v\",\"showlegend\":true,\"x\":[8],\"xaxis\":\"x\",\"y\":[40],\"yaxis\":\"y\",\"type\":\"scatter\"},{\"hovertemplate\":\"Name=Neimi\\u003cbr\\u003eCampaignID=6\\u003cbr\\u003eBase Speed Value=%{x}\\u003cbr\\u003eSpeed Growth (%)=%{y}\\u003cextra\\u003e\\u003c\\u002fextra\\u003e\",\"legendgroup\":\"Neimi, 6\",\"marker\":{\"color\":\"#636efa\",\"symbol\":\"circle\",\"size\":7},\"mode\":\"markers\",\"name\":\"Neimi, 6\",\"orientation\":\"v\",\"showlegend\":true,\"x\":[6],\"xaxis\":\"x\",\"y\":[60],\"yaxis\":\"y\",\"type\":\"scatter\"},{\"hovertemplate\":\"Name=Orson\\u003cbr\\u003eCampaignID=6\\u003cbr\\u003eBase Speed Value=%{x}\\u003cbr\\u003eSpeed Growth (%)=%{y}\\u003cextra\\u003e\\u003c\\u002fextra\\u003e\",\"legendgroup\":\"Orson, 6\",\"marker\":{\"color\":\"#EF553B\",\"symbol\":\"circle\",\"size\":7},\"mode\":\"markers\",\"name\":\"Orson, 6\",\"orientation\":\"v\",\"showlegend\":true,\"x\":[11,14],\"xaxis\":\"x\",\"y\":[40,40],\"yaxis\":\"y\",\"type\":\"scatter\"},{\"hovertemplate\":\"Name=Orson\\u003cbr\\u003eCampaignID=7\\u003cbr\\u003eBase Speed Value=%{x}\\u003cbr\\u003eSpeed Growth (%)=%{y}\\u003cextra\\u003e\\u003c\\u002fextra\\u003e\",\"legendgroup\":\"Orson, 7\",\"marker\":{\"color\":\"#EF553B\",\"symbol\":\"diamond\",\"size\":7},\"mode\":\"markers\",\"name\":\"Orson, 7\",\"orientation\":\"v\",\"showlegend\":true,\"x\":[11,14],\"xaxis\":\"x\",\"y\":[40,40],\"yaxis\":\"y\",\"type\":\"scatter\"},{\"hovertemplate\":\"Name=Rennac\\u003cbr\\u003eCampaignID=6\\u003cbr\\u003eBase Speed Value=%{x}\\u003cbr\\u003eSpeed Growth (%)=%{y}\\u003cextra\\u003e\\u003c\\u002fextra\\u003e\",\"legendgroup\":\"Rennac, 6\",\"marker\":{\"color\":\"#00cc96\",\"symbol\":\"circle\",\"size\":7},\"mode\":\"markers\",\"name\":\"Rennac, 6\",\"orientation\":\"v\",\"showlegend\":true,\"x\":[17],\"xaxis\":\"x\",\"y\":[60],\"yaxis\":\"y\",\"type\":\"scatter\"},{\"hovertemplate\":\"Name=Riev\\u003cbr\\u003eCampaignID=7\\u003cbr\\u003eBase Speed Value=%{x}\\u003cbr\\u003eSpeed Growth (%)=%{y}\\u003cextra\\u003e\\u003c\\u002fextra\\u003e\",\"legendgroup\":\"Riev, 7\",\"marker\":{\"color\":\"#ab63fa\",\"symbol\":\"diamond\",\"size\":7},\"mode\":\"markers\",\"name\":\"Riev, 7\",\"orientation\":\"v\",\"showlegend\":true,\"x\":[19],\"xaxis\":\"x\",\"y\":[40],\"yaxis\":\"y\",\"type\":\"scatter\"},{\"hovertemplate\":\"Name=Ross\\u003cbr\\u003eCampaignID=6\\u003cbr\\u003eBase Speed Value=%{x}\\u003cbr\\u003eSpeed Growth (%)=%{y}\\u003cextra\\u003e\\u003c\\u002fextra\\u003e\",\"legendgroup\":\"Ross, 6\",\"marker\":{\"color\":\"#FFA15A\",\"symbol\":\"circle\",\"size\":7},\"mode\":\"markers\",\"name\":\"Ross, 6\",\"orientation\":\"v\",\"showlegend\":true,\"x\":[3],\"xaxis\":\"x\",\"y\":[30],\"yaxis\":\"y\",\"type\":\"scatter\"},{\"hovertemplate\":\"Name=Selena\\u003cbr\\u003eCampaignID=7\\u003cbr\\u003eBase Speed Value=%{x}\\u003cbr\\u003eSpeed Growth (%)=%{y}\\u003cextra\\u003e\\u003c\\u002fextra\\u003e\",\"legendgroup\":\"Selena, 7\",\"marker\":{\"color\":\"#19d3f3\",\"symbol\":\"diamond\",\"size\":7},\"mode\":\"markers\",\"name\":\"Selena, 7\",\"orientation\":\"v\",\"showlegend\":true,\"x\":[16],\"xaxis\":\"x\",\"y\":[40],\"yaxis\":\"y\",\"type\":\"scatter\"},{\"hovertemplate\":\"Name=Seth\\u003cbr\\u003eCampaignID=6\\u003cbr\\u003eBase Speed Value=%{x}\\u003cbr\\u003eSpeed Growth (%)=%{y}\\u003cextra\\u003e\\u003c\\u002fextra\\u003e\",\"legendgroup\":\"Seth, 6\",\"marker\":{\"color\":\"#FF6692\",\"symbol\":\"circle\",\"size\":7},\"mode\":\"markers\",\"name\":\"Seth, 6\",\"orientation\":\"v\",\"showlegend\":true,\"x\":[12],\"xaxis\":\"x\",\"y\":[45],\"yaxis\":\"y\",\"type\":\"scatter\"},{\"hovertemplate\":\"Name=Syrene\\u003cbr\\u003eCampaignID=6\\u003cbr\\u003eBase Speed Value=%{x}\\u003cbr\\u003eSpeed Growth (%)=%{y}\\u003cextra\\u003e\\u003c\\u002fextra\\u003e\",\"legendgroup\":\"Syrene, 6\",\"marker\":{\"color\":\"#B6E880\",\"symbol\":\"circle\",\"size\":7},\"mode\":\"markers\",\"name\":\"Syrene, 6\",\"orientation\":\"v\",\"showlegend\":true,\"x\":[15],\"xaxis\":\"x\",\"y\":[60],\"yaxis\":\"y\",\"type\":\"scatter\"},{\"hovertemplate\":\"Name=Tana\\u003cbr\\u003eCampaignID=6\\u003cbr\\u003eBase Speed Value=%{x}\\u003cbr\\u003eSpeed Growth (%)=%{y}\\u003cextra\\u003e\\u003c\\u002fextra\\u003e\",\"legendgroup\":\"Tana, 6\",\"marker\":{\"color\":\"#FF97FF\",\"symbol\":\"circle\",\"size\":7},\"mode\":\"markers\",\"name\":\"Tana, 6\",\"orientation\":\"v\",\"showlegend\":true,\"x\":[13],\"xaxis\":\"x\",\"y\":[65],\"yaxis\":\"y\",\"type\":\"scatter\"},{\"hovertemplate\":\"Name=Tethys\\u003cbr\\u003eCampaignID=6\\u003cbr\\u003eBase Speed Value=%{x}\\u003cbr\\u003eSpeed Growth (%)=%{y}\\u003cextra\\u003e\\u003c\\u002fextra\\u003e\",\"legendgroup\":\"Tethys, 6\",\"marker\":{\"color\":\"#FECB52\",\"symbol\":\"circle\",\"size\":7},\"mode\":\"markers\",\"name\":\"Tethys, 6\",\"orientation\":\"v\",\"showlegend\":true,\"x\":[12],\"xaxis\":\"x\",\"y\":[70],\"yaxis\":\"y\",\"type\":\"scatter\"},{\"hovertemplate\":\"Name=Valter\\u003cbr\\u003eCampaignID=7\\u003cbr\\u003eBase Speed Value=%{x}\\u003cbr\\u003eSpeed Growth (%)=%{y}\\u003cextra\\u003e\\u003c\\u002fextra\\u003e\",\"legendgroup\":\"Valter, 7\",\"marker\":{\"color\":\"#636efa\",\"symbol\":\"diamond\",\"size\":7},\"mode\":\"markers\",\"name\":\"Valter, 7\",\"orientation\":\"v\",\"showlegend\":true,\"x\":[17],\"xaxis\":\"x\",\"y\":[50],\"yaxis\":\"y\",\"type\":\"scatter\"},{\"hovertemplate\":\"Name=Vanessa\\u003cbr\\u003eCampaignID=6\\u003cbr\\u003eBase Speed Value=%{x}\\u003cbr\\u003eSpeed Growth (%)=%{y}\\u003cextra\\u003e\\u003c\\u002fextra\\u003e\",\"legendgroup\":\"Vanessa, 6\",\"marker\":{\"color\":\"#EF553B\",\"symbol\":\"circle\",\"size\":7},\"mode\":\"markers\",\"name\":\"Vanessa, 6\",\"orientation\":\"v\",\"showlegend\":true,\"x\":[11],\"xaxis\":\"x\",\"y\":[60],\"yaxis\":\"y\",\"type\":\"scatter\"},{\"hovertemplate\":\"Name=Saleh\\u003cbr\\u003eCampaignID=6\\u003cbr\\u003eBase Speed Value=%{x}\\u003cbr\\u003eSpeed Growth (%)=%{y}\\u003cextra\\u003e\\u003c\\u002fextra\\u003e\",\"legendgroup\":\"Saleh, 6\",\"marker\":{\"color\":\"#00cc96\",\"symbol\":\"circle\",\"size\":7},\"mode\":\"markers\",\"name\":\"Saleh, 6\",\"orientation\":\"v\",\"showlegend\":true,\"x\":[14],\"xaxis\":\"x\",\"y\":[40],\"yaxis\":\"y\",\"type\":\"scatter\"}],                        {\"template\":{\"data\":{\"barpolar\":[{\"marker\":{\"line\":{\"color\":\"rgb(17,17,17)\",\"width\":0.5},\"pattern\":{\"fillmode\":\"overlay\",\"size\":10,\"solidity\":0.2}},\"type\":\"barpolar\"}],\"bar\":[{\"error_x\":{\"color\":\"#f2f5fa\"},\"error_y\":{\"color\":\"#f2f5fa\"},\"marker\":{\"line\":{\"color\":\"rgb(17,17,17)\",\"width\":0.5},\"pattern\":{\"fillmode\":\"overlay\",\"size\":10,\"solidity\":0.2}},\"type\":\"bar\"}],\"carpet\":[{\"aaxis\":{\"endlinecolor\":\"#A2B1C6\",\"gridcolor\":\"#506784\",\"linecolor\":\"#506784\",\"minorgridcolor\":\"#506784\",\"startlinecolor\":\"#A2B1C6\"},\"baxis\":{\"endlinecolor\":\"#A2B1C6\",\"gridcolor\":\"#506784\",\"linecolor\":\"#506784\",\"minorgridcolor\":\"#506784\",\"startlinecolor\":\"#A2B1C6\"},\"type\":\"carpet\"}],\"choropleth\":[{\"colorbar\":{\"outlinewidth\":0,\"ticks\":\"\"},\"type\":\"choropleth\"}],\"contourcarpet\":[{\"colorbar\":{\"outlinewidth\":0,\"ticks\":\"\"},\"type\":\"contourcarpet\"}],\"contour\":[{\"colorbar\":{\"outlinewidth\":0,\"ticks\":\"\"},\"colorscale\":[[0.0,\"#0d0887\"],[0.1111111111111111,\"#46039f\"],[0.2222222222222222,\"#7201a8\"],[0.3333333333333333,\"#9c179e\"],[0.4444444444444444,\"#bd3786\"],[0.5555555555555556,\"#d8576b\"],[0.6666666666666666,\"#ed7953\"],[0.7777777777777778,\"#fb9f3a\"],[0.8888888888888888,\"#fdca26\"],[1.0,\"#f0f921\"]],\"type\":\"contour\"}],\"heatmapgl\":[{\"colorbar\":{\"outlinewidth\":0,\"ticks\":\"\"},\"colorscale\":[[0.0,\"#0d0887\"],[0.1111111111111111,\"#46039f\"],[0.2222222222222222,\"#7201a8\"],[0.3333333333333333,\"#9c179e\"],[0.4444444444444444,\"#bd3786\"],[0.5555555555555556,\"#d8576b\"],[0.6666666666666666,\"#ed7953\"],[0.7777777777777778,\"#fb9f3a\"],[0.8888888888888888,\"#fdca26\"],[1.0,\"#f0f921\"]],\"type\":\"heatmapgl\"}],\"heatmap\":[{\"colorbar\":{\"outlinewidth\":0,\"ticks\":\"\"},\"colorscale\":[[0.0,\"#0d0887\"],[0.1111111111111111,\"#46039f\"],[0.2222222222222222,\"#7201a8\"],[0.3333333333333333,\"#9c179e\"],[0.4444444444444444,\"#bd3786\"],[0.5555555555555556,\"#d8576b\"],[0.6666666666666666,\"#ed7953\"],[0.7777777777777778,\"#fb9f3a\"],[0.8888888888888888,\"#fdca26\"],[1.0,\"#f0f921\"]],\"type\":\"heatmap\"}],\"histogram2dcontour\":[{\"colorbar\":{\"outlinewidth\":0,\"ticks\":\"\"},\"colorscale\":[[0.0,\"#0d0887\"],[0.1111111111111111,\"#46039f\"],[0.2222222222222222,\"#7201a8\"],[0.3333333333333333,\"#9c179e\"],[0.4444444444444444,\"#bd3786\"],[0.5555555555555556,\"#d8576b\"],[0.6666666666666666,\"#ed7953\"],[0.7777777777777778,\"#fb9f3a\"],[0.8888888888888888,\"#fdca26\"],[1.0,\"#f0f921\"]],\"type\":\"histogram2dcontour\"}],\"histogram2d\":[{\"colorbar\":{\"outlinewidth\":0,\"ticks\":\"\"},\"colorscale\":[[0.0,\"#0d0887\"],[0.1111111111111111,\"#46039f\"],[0.2222222222222222,\"#7201a8\"],[0.3333333333333333,\"#9c179e\"],[0.4444444444444444,\"#bd3786\"],[0.5555555555555556,\"#d8576b\"],[0.6666666666666666,\"#ed7953\"],[0.7777777777777778,\"#fb9f3a\"],[0.8888888888888888,\"#fdca26\"],[1.0,\"#f0f921\"]],\"type\":\"histogram2d\"}],\"histogram\":[{\"marker\":{\"pattern\":{\"fillmode\":\"overlay\",\"size\":10,\"solidity\":0.2}},\"type\":\"histogram\"}],\"mesh3d\":[{\"colorbar\":{\"outlinewidth\":0,\"ticks\":\"\"},\"type\":\"mesh3d\"}],\"parcoords\":[{\"line\":{\"colorbar\":{\"outlinewidth\":0,\"ticks\":\"\"}},\"type\":\"parcoords\"}],\"pie\":[{\"automargin\":true,\"type\":\"pie\"}],\"scatter3d\":[{\"line\":{\"colorbar\":{\"outlinewidth\":0,\"ticks\":\"\"}},\"marker\":{\"colorbar\":{\"outlinewidth\":0,\"ticks\":\"\"}},\"type\":\"scatter3d\"}],\"scattercarpet\":[{\"marker\":{\"colorbar\":{\"outlinewidth\":0,\"ticks\":\"\"}},\"type\":\"scattercarpet\"}],\"scattergeo\":[{\"marker\":{\"colorbar\":{\"outlinewidth\":0,\"ticks\":\"\"}},\"type\":\"scattergeo\"}],\"scattergl\":[{\"marker\":{\"line\":{\"color\":\"#283442\"}},\"type\":\"scattergl\"}],\"scattermapbox\":[{\"marker\":{\"colorbar\":{\"outlinewidth\":0,\"ticks\":\"\"}},\"type\":\"scattermapbox\"}],\"scatterpolargl\":[{\"marker\":{\"colorbar\":{\"outlinewidth\":0,\"ticks\":\"\"}},\"type\":\"scatterpolargl\"}],\"scatterpolar\":[{\"marker\":{\"colorbar\":{\"outlinewidth\":0,\"ticks\":\"\"}},\"type\":\"scatterpolar\"}],\"scatter\":[{\"marker\":{\"line\":{\"color\":\"#283442\"}},\"type\":\"scatter\"}],\"scatterternary\":[{\"marker\":{\"colorbar\":{\"outlinewidth\":0,\"ticks\":\"\"}},\"type\":\"scatterternary\"}],\"surface\":[{\"colorbar\":{\"outlinewidth\":0,\"ticks\":\"\"},\"colorscale\":[[0.0,\"#0d0887\"],[0.1111111111111111,\"#46039f\"],[0.2222222222222222,\"#7201a8\"],[0.3333333333333333,\"#9c179e\"],[0.4444444444444444,\"#bd3786\"],[0.5555555555555556,\"#d8576b\"],[0.6666666666666666,\"#ed7953\"],[0.7777777777777778,\"#fb9f3a\"],[0.8888888888888888,\"#fdca26\"],[1.0,\"#f0f921\"]],\"type\":\"surface\"}],\"table\":[{\"cells\":{\"fill\":{\"color\":\"#506784\"},\"line\":{\"color\":\"rgb(17,17,17)\"}},\"header\":{\"fill\":{\"color\":\"#2a3f5f\"},\"line\":{\"color\":\"rgb(17,17,17)\"}},\"type\":\"table\"}]},\"layout\":{\"annotationdefaults\":{\"arrowcolor\":\"#f2f5fa\",\"arrowhead\":0,\"arrowwidth\":1},\"autotypenumbers\":\"strict\",\"coloraxis\":{\"colorbar\":{\"outlinewidth\":0,\"ticks\":\"\"}},\"colorscale\":{\"diverging\":[[0,\"#8e0152\"],[0.1,\"#c51b7d\"],[0.2,\"#de77ae\"],[0.3,\"#f1b6da\"],[0.4,\"#fde0ef\"],[0.5,\"#f7f7f7\"],[0.6,\"#e6f5d0\"],[0.7,\"#b8e186\"],[0.8,\"#7fbc41\"],[0.9,\"#4d9221\"],[1,\"#276419\"]],\"sequential\":[[0.0,\"#0d0887\"],[0.1111111111111111,\"#46039f\"],[0.2222222222222222,\"#7201a8\"],[0.3333333333333333,\"#9c179e\"],[0.4444444444444444,\"#bd3786\"],[0.5555555555555556,\"#d8576b\"],[0.6666666666666666,\"#ed7953\"],[0.7777777777777778,\"#fb9f3a\"],[0.8888888888888888,\"#fdca26\"],[1.0,\"#f0f921\"]],\"sequentialminus\":[[0.0,\"#0d0887\"],[0.1111111111111111,\"#46039f\"],[0.2222222222222222,\"#7201a8\"],[0.3333333333333333,\"#9c179e\"],[0.4444444444444444,\"#bd3786\"],[0.5555555555555556,\"#d8576b\"],[0.6666666666666666,\"#ed7953\"],[0.7777777777777778,\"#fb9f3a\"],[0.8888888888888888,\"#fdca26\"],[1.0,\"#f0f921\"]]},\"colorway\":[\"#636efa\",\"#EF553B\",\"#00cc96\",\"#ab63fa\",\"#FFA15A\",\"#19d3f3\",\"#FF6692\",\"#B6E880\",\"#FF97FF\",\"#FECB52\"],\"font\":{\"color\":\"#f2f5fa\"},\"geo\":{\"bgcolor\":\"rgb(17,17,17)\",\"lakecolor\":\"rgb(17,17,17)\",\"landcolor\":\"rgb(17,17,17)\",\"showlakes\":true,\"showland\":true,\"subunitcolor\":\"#506784\"},\"hoverlabel\":{\"align\":\"left\"},\"hovermode\":\"closest\",\"mapbox\":{\"style\":\"dark\"},\"paper_bgcolor\":\"rgb(17,17,17)\",\"plot_bgcolor\":\"rgb(17,17,17)\",\"polar\":{\"angularaxis\":{\"gridcolor\":\"#506784\",\"linecolor\":\"#506784\",\"ticks\":\"\"},\"bgcolor\":\"rgb(17,17,17)\",\"radialaxis\":{\"gridcolor\":\"#506784\",\"linecolor\":\"#506784\",\"ticks\":\"\"}},\"scene\":{\"xaxis\":{\"backgroundcolor\":\"rgb(17,17,17)\",\"gridcolor\":\"#506784\",\"gridwidth\":2,\"linecolor\":\"#506784\",\"showbackground\":true,\"ticks\":\"\",\"zerolinecolor\":\"#C8D4E3\"},\"yaxis\":{\"backgroundcolor\":\"rgb(17,17,17)\",\"gridcolor\":\"#506784\",\"gridwidth\":2,\"linecolor\":\"#506784\",\"showbackground\":true,\"ticks\":\"\",\"zerolinecolor\":\"#C8D4E3\"},\"zaxis\":{\"backgroundcolor\":\"rgb(17,17,17)\",\"gridcolor\":\"#506784\",\"gridwidth\":2,\"linecolor\":\"#506784\",\"showbackground\":true,\"ticks\":\"\",\"zerolinecolor\":\"#C8D4E3\"}},\"shapedefaults\":{\"line\":{\"color\":\"#f2f5fa\"}},\"sliderdefaults\":{\"bgcolor\":\"#C8D4E3\",\"bordercolor\":\"rgb(17,17,17)\",\"borderwidth\":1,\"tickwidth\":0},\"ternary\":{\"aaxis\":{\"gridcolor\":\"#506784\",\"linecolor\":\"#506784\",\"ticks\":\"\"},\"baxis\":{\"gridcolor\":\"#506784\",\"linecolor\":\"#506784\",\"ticks\":\"\"},\"bgcolor\":\"rgb(17,17,17)\",\"caxis\":{\"gridcolor\":\"#506784\",\"linecolor\":\"#506784\",\"ticks\":\"\"}},\"title\":{\"x\":0.05},\"updatemenudefaults\":{\"bgcolor\":\"#506784\",\"borderwidth\":0},\"xaxis\":{\"automargin\":true,\"gridcolor\":\"#283442\",\"linecolor\":\"#506784\",\"ticks\":\"\",\"title\":{\"standoff\":15},\"zerolinecolor\":\"#283442\",\"zerolinewidth\":2},\"yaxis\":{\"automargin\":true,\"gridcolor\":\"#283442\",\"linecolor\":\"#506784\",\"ticks\":\"\",\"title\":{\"standoff\":15},\"zerolinecolor\":\"#283442\",\"zerolinewidth\":2}}},\"xaxis\":{\"anchor\":\"y\",\"domain\":[0.0,1.0],\"title\":{\"text\":\"Base Speed Value\"}},\"yaxis\":{\"anchor\":\"x\",\"domain\":[0.0,1.0],\"title\":{\"text\":\"Speed Growth (%)\"}},\"legend\":{\"title\":{\"text\":\"Name, CampaignID\"},\"tracegroupgap\":0},\"title\":{\"text\":\"Sacred Stones Speed Bases vs. Growth Scatterplot\"},\"height\":400,\"width\":1000},                        {\"responsive\": true}                    ).then(function(){\n",
       "                            \n",
       "var gd = document.getElementById('1be99f1d-5846-4b32-ba35-c4d55e4951fb');\n",
       "var x = new MutationObserver(function (mutations, observer) {{\n",
       "        var display = window.getComputedStyle(gd).display;\n",
       "        if (!display || display === 'none') {{\n",
       "            console.log([gd, 'removed!']);\n",
       "            Plotly.purge(gd);\n",
       "            observer.disconnect();\n",
       "        }}\n",
       "}});\n",
       "\n",
       "// Listen for the removal of the full notebook cells\n",
       "var notebookContainer = gd.closest('#notebook-container');\n",
       "if (notebookContainer) {{\n",
       "    x.observe(notebookContainer, {childList: true});\n",
       "}}\n",
       "\n",
       "// Listen for the clearing of the current output cell\n",
       "var outputEl = gd.closest('.output');\n",
       "if (outputEl) {{\n",
       "    x.observe(outputEl, {childList: true});\n",
       "}}\n",
       "\n",
       "                        })                };                });            </script>        </div>"
      ]
     },
     "metadata": {},
     "output_type": "display_data"
    }
   ],
   "source": [
    "stat = 'Speed'\n",
    "df = con.sql(\n",
    "    f\"\"\"\n",
    "    SELECT \n",
    "        s.name\n",
    "        , s.attribute\n",
    "        , s.basevalue\n",
    "        , s.growthvalue\n",
    "        , b.campaignid\n",
    "    FROM statscombined s\n",
    "    LEFT JOIN baseswide b\n",
    "    ON s.name = b.name\n",
    "    WHERE s.attribute like '%{stat}%'\n",
    "    \"\"\"\n",
    ").pl()\n",
    "\n",
    "fig = px.scatter(\n",
    "    df, x=\"BaseValue\", y=\"GrowthValue\", color=\"Name\", symbol=\"CampaignID\",\n",
    "    labels={\"GrowthValue\": f\"{stat} Growth (%)\", \"BaseValue\": f\"Base {stat} Value\"},\n",
    "    title=f\"Sacred Stones {stat} Bases vs. Growth Scatterplot\",\n",
    "    height=400, width=1000\n",
    ")\n",
    "fig.update_traces(marker_size=7)\n",
    "fig.update_layout(template=\"plotly_dark\")\n",
    "fig.show()"
   ]
  },
  {
   "cell_type": "code",
   "execution_count": null,
   "id": "cc651a04-0a2e-455d-b55a-b2c854db6ceb",
   "metadata": {},
   "outputs": [],
   "source": []
  }
 ],
 "metadata": {
  "kernelspec": {
   "display_name": "Python 3 (ipykernel)",
   "language": "python",
   "name": "python3"
  },
  "language_info": {
   "codemirror_mode": {
    "name": "ipython",
    "version": 3
   },
   "file_extension": ".py",
   "mimetype": "text/x-python",
   "name": "python",
   "nbconvert_exporter": "python",
   "pygments_lexer": "ipython3",
   "version": "3.11.9"
  }
 },
 "nbformat": 4,
 "nbformat_minor": 5
}
